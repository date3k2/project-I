{
 "cells": [
  {
   "cell_type": "code",
   "execution_count": 1,
   "metadata": {},
   "outputs": [],
   "source": [
    "import sys\n",
    "if \"../\" not in sys.path:\n",
    "    sys.path.append(\"../\")"
   ]
  },
  {
   "cell_type": "code",
   "execution_count": 2,
   "metadata": {},
   "outputs": [],
   "source": [
    "from validation import checkCycle\n",
    "from mip_solver import LPJS"
   ]
  },
  {
   "cell_type": "markdown",
   "metadata": {},
   "source": [
    "## Mở file Excel sau đây để xem chi tiết các công việc cần lập lịch\n",
    "\n",
    "### Có thể thay đổi các thông số trong file này để thực hiện lập lịch cho các công việc khác tùy ý, và cần phải lưu lại file trước khi thực hiện các bước tiếp theo. Cách thêm hoặc thay đổi:\n",
    "- Các công việc ở sheet `Jobs`, bao gồm:\n",
    "    - `Job ID` : mã số của công việc (bắt buộc, không được trùng với các mã số khác)\n",
    "    - `Job Name` : tên của công việc (không bắt buộc)\n",
    "    - `Job Description` : mô tả công việc (không bắt buộc)\n",
    "- Các tác vụ ở sheet `Tasks`, bao gồm:\n",
    "    - `Task ID` : mã số của tác vụ (bắt buộc, không được trùng với các mã số khác)\n",
    "    - `Task Name` : tên của tác vụ (không bắt buộc)\n",
    "    - `Task Description` : mô tả tác vụ (không bắt buộc)\n",
    "- Thứ tự thực hiện của tác vụ ở sheet `TaskOrders`, bao gồm:\n",
    "    - `First Task ID` : mã số của tác vụ được thực hiện đầu trước\n",
    "    - `Subsequent Task ID` : mã số của tác vụ được thực hiện sau\n",
    "- Các máy ở sheet `Machines`, bao gồm:\n",
    "    - `Machine ID` : mã số của máy (bắt buộc, không được trùng với các mã số khác)\n",
    "    - `Machine Name` : tên của máy (không bắt buộc)  \n",
    "- Các thông số của máy ở sheet `Capacities`, bao gồm:\n",
    "    - `Machine ID` : mã số của máy\n",
    "    - `Task ID` : mã số của tác vụ\n",
    "    - `Time` : thời gian thực hiện tác vụ trên máy\n",
    "    - `Cost` : chi phí thực hiện tác vụ trên máy"
   ]
  },
  {
   "cell_type": "code",
   "execution_count": 3,
   "metadata": {},
   "outputs": [
    {
     "data": {
      "application/vnd.jupyter.widget-view+json": {
       "model_id": "d30b0838200d4ab49a29848259c4fb55",
       "version_major": 2,
       "version_minor": 0
      },
      "text/plain": [
       "Button(description='Open data file', style=ButtonStyle())"
      ]
     },
     "metadata": {},
     "output_type": "display_data"
    }
   ],
   "source": [
    "import ipywidgets as widgets\n",
    "from IPython.display import display\n",
    "import os\n",
    "def open_data_file(_):\n",
    "    file_path = r\"..\\datasets\\Data.xlsx\"\n",
    "    if os.path.exists(file_path):\n",
    "        os.startfile(file_path)\n",
    "    else:\n",
    "        print(\"File not found.\")\n",
    "\n",
    "w = widgets.Button(description='Open data file')\n",
    "w.on_click(open_data_file)\n",
    "display(w)\n"
   ]
  },
  {
   "cell_type": "markdown",
   "metadata": {},
   "source": [
    "## Sau khi đã thay đổi các thông số, chạy các cell bên dưới để tiến hành lập lịch"
   ]
  },
  {
   "cell_type": "code",
   "execution_count": 4,
   "metadata": {},
   "outputs": [],
   "source": [
    "import pandas as pd\n",
    "capacities = pd.read_excel('../datasets/Data.xlsx',sheet_name='Capacities')\n",
    "from collections import defaultdict\n",
    "\n",
    "cap = defaultdict(dict)\n",
    "for index, row in capacities.iterrows():\n",
    "    machineid = int(row[\"Machine ID\"])\n",
    "    cap[machineid][int(row[\"Task ID\"])] = (row[\"Time\"], row[\"Cost\"])\n",
    "capacities = cap"
   ]
  },
  {
   "cell_type": "code",
   "execution_count": 8,
   "metadata": {},
   "outputs": [
    {
     "data": {
      "text/html": [
       "<style>\n",
       ".mytext > .widget-label {\n",
       "    color: #066889;\n",
       "    font-size: 20px;\n",
       "}\n",
       "</style>\n"
      ],
      "text/plain": [
       "<IPython.core.display.HTML object>"
      ]
     },
     "metadata": {},
     "output_type": "display_data"
    }
   ],
   "source": [
    "%%html\n",
    "<style>\n",
    ".mytext > .widget-label {\n",
    "    color: #066889;\n",
    "    font-size: 20px;\n",
    "}\n",
    "</style>"
   ]
  },
  {
   "cell_type": "markdown",
   "metadata": {},
   "source": [
    "### 1. Chạy cell bên dưới để chọn số lượng công việc cần lập lịch, sau đó với mỗi công việc, nhập mã tác vụ cần thực hiện và thứ giữa các tác vụ đó. Ví dụ:\n",
    " - Số lượng công việc cần lập lịch: 2\n",
    "    - Công việc 1: \n",
    "        - Các tác vụ: 1, 2, 3 (nhập ID tác vụ cách nhau bởi dấu phẩy)\n",
    "        - Thứ tự thực hiện: (1,2), (2,3) (nhập thứ tự thực hiện cách nhau bởi dấu phẩy, mỗi cặp tác vụ cách nhau bởi dấu phẩy và được bao bởi dấu ngoặc đơn)\n",
    "    - Công việc 2:\n",
    "        - Các tác vụ: 4, 5, 6\n",
    "        - Thứ tự thực hiện: (4,5)\n",
    "\n",
    "### 2. Nhấn nút **Solve** để lập lịch và hiển thị kết quả\n",
    "\n",
    "### 3. Trong quá trình lập lịch, có thể thay đổi các thông số và nhấn nút **Solve** để lập lịch lại, tuy nhiên nên chạy lại cell để output được hiển thị đầy đủ, không bị đè lên output của lần lập lịch trước đó\n",
    "---\n",
    "**_Chú ý:_**  \n",
    "- **_Các thông số về tác vụ không được để trống_**\n",
    "- **_Không nhập các tác vụ không tồn tại trong file dữ liệu_**\n",
    "- **_Không nhập các thứ tự thực hiện không chứa trong các tác vụ đã nhập_**\n",
    "- **_Không nhập các thứ tự thực hiện không hợp lệ (ví dụ: (1,2) và (2,1) cùng tồn tại)_**\n",
    "---\n",
    "**_Nếu nhập sai, chương trình sẽ báo lỗi, khi đó chạy lại cell để nhập lại_**"
   ]
  },
  {
   "cell_type": "code",
   "execution_count": 12,
   "metadata": {},
   "outputs": [
    {
     "data": {
      "application/vnd.jupyter.widget-view+json": {
       "model_id": "ac29d7c821174cd2a0110f20dfb9c448",
       "version_major": 2,
       "version_minor": 0
      },
      "text/plain": [
       "IntSlider(value=1, description='Chọn số lượng công việc:', layout=Layout(width='50%'), max=200, min=1, style=S…"
      ]
     },
     "metadata": {},
     "output_type": "display_data"
    },
    {
     "data": {
      "application/vnd.jupyter.widget-view+json": {
       "model_id": "a8a7033664a04d669fec41cd7359690c",
       "version_major": 2,
       "version_minor": 0
      },
      "text/plain": [
       "Button(description='Nhấn để nhập thông tin về các công việc', layout=Layout(height='50px', width='25%'), style…"
      ]
     },
     "metadata": {},
     "output_type": "display_data"
    },
    {
     "data": {
      "application/vnd.jupyter.widget-view+json": {
       "model_id": "8205df37b30847d4a3482cfa03a7279e",
       "version_major": 2,
       "version_minor": 0
      },
      "text/plain": [
       "Output()"
      ]
     },
     "metadata": {},
     "output_type": "display_data"
    },
    {
     "data": {
      "application/vnd.jupyter.widget-view+json": {
       "model_id": "498fe928fc7a4e58a2d1b1a24cb4b0df",
       "version_major": 2,
       "version_minor": 0
      },
      "text/plain": [
       "Button(button_style='success', description='Solve', icon='check', style=ButtonStyle(font_size='15px', font_wei…"
      ]
     },
     "metadata": {},
     "output_type": "display_data"
    },
    {
     "name": "stdout",
     "output_type": "stream",
     "text": [
      "Solution:\n",
      "Objective value =  26.190000000027943\n",
      "Job 0 task 1 starts at 0.00 and ends at 2.16 on machine 25\n",
      "Job 0 task 17 starts at 2.16 and ends at 6.14 on machine 2\n",
      "Job 0 task 2 starts at 6.14 and ends at 10.48 on machine 4\n",
      "Job 0 task 3 starts at 10.48 and ends at 10.76 on machine 5\n"
     ]
    },
    {
     "data": {
      "application/vnd.plotly.v1+json": {
       "config": {
        "plotlyServerURL": "https://plot.ly"
       },
       "data": [
        {
         "fill": "toself",
         "fillcolor": "rgb(214, 39, 40)",
         "hoverinfo": "name",
         "legendgroup": "rgb(214, 39, 40)",
         "mode": "none",
         "name": "Task 3",
         "showlegend": true,
         "type": "scatter",
         "x": [
          "2024-01-09 09:33:28",
          "2024-01-09 09:33:45",
          "2024-01-09 09:33:45",
          "2024-01-09 09:33:28"
         ],
         "y": [
          -0.2,
          -0.2,
          0.2,
          0.2
         ]
        },
        {
         "fill": "toself",
         "fillcolor": "rgb(255, 127, 14)",
         "hoverinfo": "name",
         "legendgroup": "rgb(255, 127, 14)",
         "mode": "none",
         "name": "Task 17",
         "showlegend": true,
         "type": "scatter",
         "x": [
          "2024-01-09 09:25:09",
          "2024-01-09 09:29:08",
          "2024-01-09 09:29:08",
          "2024-01-09 09:25:09"
         ],
         "y": [
          2.8,
          2.8,
          3.2,
          3.2
         ]
        },
        {
         "fill": "toself",
         "fillcolor": "rgb(31, 119, 180)",
         "hoverinfo": "name",
         "legendgroup": "rgb(31, 119, 180)",
         "mode": "none",
         "name": "Task 1",
         "showlegend": true,
         "type": "scatter",
         "x": [
          "2024-01-09 09:23:00",
          "2024-01-09 09:25:09",
          "2024-01-09 09:25:09",
          "2024-01-09 09:23:00"
         ],
         "y": [
          1.8,
          1.8,
          2.2,
          2.2
         ]
        },
        {
         "fill": "toself",
         "fillcolor": "rgb(44, 160, 44)",
         "hoverinfo": "name",
         "legendgroup": "rgb(44, 160, 44)",
         "mode": "none",
         "name": "Task 2",
         "showlegend": true,
         "type": "scatter",
         "x": [
          "2024-01-09 09:29:08",
          "2024-01-09 09:33:28",
          "2024-01-09 09:33:28",
          "2024-01-09 09:29:08"
         ],
         "y": [
          0.8,
          0.8,
          1.2,
          1.2
         ]
        },
        {
         "legendgroup": "rgb(214, 39, 40)",
         "marker": {
          "color": "rgb(214, 39, 40)",
          "opacity": 0,
          "size": 1
         },
         "mode": "markers",
         "name": "",
         "showlegend": false,
         "text": [
          null,
          null
         ],
         "type": "scatter",
         "x": [
          "2024-01-09 09:33:28",
          "2024-01-09 09:33:45"
         ],
         "y": [
          0,
          0
         ]
        },
        {
         "legendgroup": "rgb(255, 127, 14)",
         "marker": {
          "color": "rgb(255, 127, 14)",
          "opacity": 0,
          "size": 1
         },
         "mode": "markers",
         "name": "",
         "showlegend": false,
         "text": [
          null,
          null
         ],
         "type": "scatter",
         "x": [
          "2024-01-09 09:25:09",
          "2024-01-09 09:29:08"
         ],
         "y": [
          3,
          3
         ]
        },
        {
         "legendgroup": "rgb(31, 119, 180)",
         "marker": {
          "color": "rgb(31, 119, 180)",
          "opacity": 0,
          "size": 1
         },
         "mode": "markers",
         "name": "",
         "showlegend": false,
         "text": [
          null,
          null
         ],
         "type": "scatter",
         "x": [
          "2024-01-09 09:23:00",
          "2024-01-09 09:25:09"
         ],
         "y": [
          2,
          2
         ]
        },
        {
         "legendgroup": "rgb(44, 160, 44)",
         "marker": {
          "color": "rgb(44, 160, 44)",
          "opacity": 0,
          "size": 1
         },
         "mode": "markers",
         "name": "",
         "showlegend": false,
         "text": [
          null,
          null
         ],
         "type": "scatter",
         "x": [
          "2024-01-09 09:29:08",
          "2024-01-09 09:33:28"
         ],
         "y": [
          1,
          1
         ]
        }
       ],
       "layout": {
        "height": 600,
        "hovermode": "closest",
        "showlegend": true,
        "template": {
         "data": {
          "bar": [
           {
            "error_x": {
             "color": "#2a3f5f"
            },
            "error_y": {
             "color": "#2a3f5f"
            },
            "marker": {
             "line": {
              "color": "#E5ECF6",
              "width": 0.5
             },
             "pattern": {
              "fillmode": "overlay",
              "size": 10,
              "solidity": 0.2
             }
            },
            "type": "bar"
           }
          ],
          "barpolar": [
           {
            "marker": {
             "line": {
              "color": "#E5ECF6",
              "width": 0.5
             },
             "pattern": {
              "fillmode": "overlay",
              "size": 10,
              "solidity": 0.2
             }
            },
            "type": "barpolar"
           }
          ],
          "carpet": [
           {
            "aaxis": {
             "endlinecolor": "#2a3f5f",
             "gridcolor": "white",
             "linecolor": "white",
             "minorgridcolor": "white",
             "startlinecolor": "#2a3f5f"
            },
            "baxis": {
             "endlinecolor": "#2a3f5f",
             "gridcolor": "white",
             "linecolor": "white",
             "minorgridcolor": "white",
             "startlinecolor": "#2a3f5f"
            },
            "type": "carpet"
           }
          ],
          "choropleth": [
           {
            "colorbar": {
             "outlinewidth": 0,
             "ticks": ""
            },
            "type": "choropleth"
           }
          ],
          "contour": [
           {
            "colorbar": {
             "outlinewidth": 0,
             "ticks": ""
            },
            "colorscale": [
             [
              0,
              "#0d0887"
             ],
             [
              0.1111111111111111,
              "#46039f"
             ],
             [
              0.2222222222222222,
              "#7201a8"
             ],
             [
              0.3333333333333333,
              "#9c179e"
             ],
             [
              0.4444444444444444,
              "#bd3786"
             ],
             [
              0.5555555555555556,
              "#d8576b"
             ],
             [
              0.6666666666666666,
              "#ed7953"
             ],
             [
              0.7777777777777778,
              "#fb9f3a"
             ],
             [
              0.8888888888888888,
              "#fdca26"
             ],
             [
              1,
              "#f0f921"
             ]
            ],
            "type": "contour"
           }
          ],
          "contourcarpet": [
           {
            "colorbar": {
             "outlinewidth": 0,
             "ticks": ""
            },
            "type": "contourcarpet"
           }
          ],
          "heatmap": [
           {
            "colorbar": {
             "outlinewidth": 0,
             "ticks": ""
            },
            "colorscale": [
             [
              0,
              "#0d0887"
             ],
             [
              0.1111111111111111,
              "#46039f"
             ],
             [
              0.2222222222222222,
              "#7201a8"
             ],
             [
              0.3333333333333333,
              "#9c179e"
             ],
             [
              0.4444444444444444,
              "#bd3786"
             ],
             [
              0.5555555555555556,
              "#d8576b"
             ],
             [
              0.6666666666666666,
              "#ed7953"
             ],
             [
              0.7777777777777778,
              "#fb9f3a"
             ],
             [
              0.8888888888888888,
              "#fdca26"
             ],
             [
              1,
              "#f0f921"
             ]
            ],
            "type": "heatmap"
           }
          ],
          "heatmapgl": [
           {
            "colorbar": {
             "outlinewidth": 0,
             "ticks": ""
            },
            "colorscale": [
             [
              0,
              "#0d0887"
             ],
             [
              0.1111111111111111,
              "#46039f"
             ],
             [
              0.2222222222222222,
              "#7201a8"
             ],
             [
              0.3333333333333333,
              "#9c179e"
             ],
             [
              0.4444444444444444,
              "#bd3786"
             ],
             [
              0.5555555555555556,
              "#d8576b"
             ],
             [
              0.6666666666666666,
              "#ed7953"
             ],
             [
              0.7777777777777778,
              "#fb9f3a"
             ],
             [
              0.8888888888888888,
              "#fdca26"
             ],
             [
              1,
              "#f0f921"
             ]
            ],
            "type": "heatmapgl"
           }
          ],
          "histogram": [
           {
            "marker": {
             "pattern": {
              "fillmode": "overlay",
              "size": 10,
              "solidity": 0.2
             }
            },
            "type": "histogram"
           }
          ],
          "histogram2d": [
           {
            "colorbar": {
             "outlinewidth": 0,
             "ticks": ""
            },
            "colorscale": [
             [
              0,
              "#0d0887"
             ],
             [
              0.1111111111111111,
              "#46039f"
             ],
             [
              0.2222222222222222,
              "#7201a8"
             ],
             [
              0.3333333333333333,
              "#9c179e"
             ],
             [
              0.4444444444444444,
              "#bd3786"
             ],
             [
              0.5555555555555556,
              "#d8576b"
             ],
             [
              0.6666666666666666,
              "#ed7953"
             ],
             [
              0.7777777777777778,
              "#fb9f3a"
             ],
             [
              0.8888888888888888,
              "#fdca26"
             ],
             [
              1,
              "#f0f921"
             ]
            ],
            "type": "histogram2d"
           }
          ],
          "histogram2dcontour": [
           {
            "colorbar": {
             "outlinewidth": 0,
             "ticks": ""
            },
            "colorscale": [
             [
              0,
              "#0d0887"
             ],
             [
              0.1111111111111111,
              "#46039f"
             ],
             [
              0.2222222222222222,
              "#7201a8"
             ],
             [
              0.3333333333333333,
              "#9c179e"
             ],
             [
              0.4444444444444444,
              "#bd3786"
             ],
             [
              0.5555555555555556,
              "#d8576b"
             ],
             [
              0.6666666666666666,
              "#ed7953"
             ],
             [
              0.7777777777777778,
              "#fb9f3a"
             ],
             [
              0.8888888888888888,
              "#fdca26"
             ],
             [
              1,
              "#f0f921"
             ]
            ],
            "type": "histogram2dcontour"
           }
          ],
          "mesh3d": [
           {
            "colorbar": {
             "outlinewidth": 0,
             "ticks": ""
            },
            "type": "mesh3d"
           }
          ],
          "parcoords": [
           {
            "line": {
             "colorbar": {
              "outlinewidth": 0,
              "ticks": ""
             }
            },
            "type": "parcoords"
           }
          ],
          "pie": [
           {
            "automargin": true,
            "type": "pie"
           }
          ],
          "scatter": [
           {
            "fillpattern": {
             "fillmode": "overlay",
             "size": 10,
             "solidity": 0.2
            },
            "type": "scatter"
           }
          ],
          "scatter3d": [
           {
            "line": {
             "colorbar": {
              "outlinewidth": 0,
              "ticks": ""
             }
            },
            "marker": {
             "colorbar": {
              "outlinewidth": 0,
              "ticks": ""
             }
            },
            "type": "scatter3d"
           }
          ],
          "scattercarpet": [
           {
            "marker": {
             "colorbar": {
              "outlinewidth": 0,
              "ticks": ""
             }
            },
            "type": "scattercarpet"
           }
          ],
          "scattergeo": [
           {
            "marker": {
             "colorbar": {
              "outlinewidth": 0,
              "ticks": ""
             }
            },
            "type": "scattergeo"
           }
          ],
          "scattergl": [
           {
            "marker": {
             "colorbar": {
              "outlinewidth": 0,
              "ticks": ""
             }
            },
            "type": "scattergl"
           }
          ],
          "scattermapbox": [
           {
            "marker": {
             "colorbar": {
              "outlinewidth": 0,
              "ticks": ""
             }
            },
            "type": "scattermapbox"
           }
          ],
          "scatterpolar": [
           {
            "marker": {
             "colorbar": {
              "outlinewidth": 0,
              "ticks": ""
             }
            },
            "type": "scatterpolar"
           }
          ],
          "scatterpolargl": [
           {
            "marker": {
             "colorbar": {
              "outlinewidth": 0,
              "ticks": ""
             }
            },
            "type": "scatterpolargl"
           }
          ],
          "scatterternary": [
           {
            "marker": {
             "colorbar": {
              "outlinewidth": 0,
              "ticks": ""
             }
            },
            "type": "scatterternary"
           }
          ],
          "surface": [
           {
            "colorbar": {
             "outlinewidth": 0,
             "ticks": ""
            },
            "colorscale": [
             [
              0,
              "#0d0887"
             ],
             [
              0.1111111111111111,
              "#46039f"
             ],
             [
              0.2222222222222222,
              "#7201a8"
             ],
             [
              0.3333333333333333,
              "#9c179e"
             ],
             [
              0.4444444444444444,
              "#bd3786"
             ],
             [
              0.5555555555555556,
              "#d8576b"
             ],
             [
              0.6666666666666666,
              "#ed7953"
             ],
             [
              0.7777777777777778,
              "#fb9f3a"
             ],
             [
              0.8888888888888888,
              "#fdca26"
             ],
             [
              1,
              "#f0f921"
             ]
            ],
            "type": "surface"
           }
          ],
          "table": [
           {
            "cells": {
             "fill": {
              "color": "#EBF0F8"
             },
             "line": {
              "color": "white"
             }
            },
            "header": {
             "fill": {
              "color": "#C8D4E3"
             },
             "line": {
              "color": "white"
             }
            },
            "type": "table"
           }
          ]
         },
         "layout": {
          "annotationdefaults": {
           "arrowcolor": "#2a3f5f",
           "arrowhead": 0,
           "arrowwidth": 1
          },
          "autotypenumbers": "strict",
          "coloraxis": {
           "colorbar": {
            "outlinewidth": 0,
            "ticks": ""
           }
          },
          "colorscale": {
           "diverging": [
            [
             0,
             "#8e0152"
            ],
            [
             0.1,
             "#c51b7d"
            ],
            [
             0.2,
             "#de77ae"
            ],
            [
             0.3,
             "#f1b6da"
            ],
            [
             0.4,
             "#fde0ef"
            ],
            [
             0.5,
             "#f7f7f7"
            ],
            [
             0.6,
             "#e6f5d0"
            ],
            [
             0.7,
             "#b8e186"
            ],
            [
             0.8,
             "#7fbc41"
            ],
            [
             0.9,
             "#4d9221"
            ],
            [
             1,
             "#276419"
            ]
           ],
           "sequential": [
            [
             0,
             "#0d0887"
            ],
            [
             0.1111111111111111,
             "#46039f"
            ],
            [
             0.2222222222222222,
             "#7201a8"
            ],
            [
             0.3333333333333333,
             "#9c179e"
            ],
            [
             0.4444444444444444,
             "#bd3786"
            ],
            [
             0.5555555555555556,
             "#d8576b"
            ],
            [
             0.6666666666666666,
             "#ed7953"
            ],
            [
             0.7777777777777778,
             "#fb9f3a"
            ],
            [
             0.8888888888888888,
             "#fdca26"
            ],
            [
             1,
             "#f0f921"
            ]
           ],
           "sequentialminus": [
            [
             0,
             "#0d0887"
            ],
            [
             0.1111111111111111,
             "#46039f"
            ],
            [
             0.2222222222222222,
             "#7201a8"
            ],
            [
             0.3333333333333333,
             "#9c179e"
            ],
            [
             0.4444444444444444,
             "#bd3786"
            ],
            [
             0.5555555555555556,
             "#d8576b"
            ],
            [
             0.6666666666666666,
             "#ed7953"
            ],
            [
             0.7777777777777778,
             "#fb9f3a"
            ],
            [
             0.8888888888888888,
             "#fdca26"
            ],
            [
             1,
             "#f0f921"
            ]
           ]
          },
          "colorway": [
           "#636efa",
           "#EF553B",
           "#00cc96",
           "#ab63fa",
           "#FFA15A",
           "#19d3f3",
           "#FF6692",
           "#B6E880",
           "#FF97FF",
           "#FECB52"
          ],
          "font": {
           "color": "#2a3f5f"
          },
          "geo": {
           "bgcolor": "white",
           "lakecolor": "white",
           "landcolor": "#E5ECF6",
           "showlakes": true,
           "showland": true,
           "subunitcolor": "white"
          },
          "hoverlabel": {
           "align": "left"
          },
          "hovermode": "closest",
          "mapbox": {
           "style": "light"
          },
          "paper_bgcolor": "white",
          "plot_bgcolor": "#E5ECF6",
          "polar": {
           "angularaxis": {
            "gridcolor": "white",
            "linecolor": "white",
            "ticks": ""
           },
           "bgcolor": "#E5ECF6",
           "radialaxis": {
            "gridcolor": "white",
            "linecolor": "white",
            "ticks": ""
           }
          },
          "scene": {
           "xaxis": {
            "backgroundcolor": "#E5ECF6",
            "gridcolor": "white",
            "gridwidth": 2,
            "linecolor": "white",
            "showbackground": true,
            "ticks": "",
            "zerolinecolor": "white"
           },
           "yaxis": {
            "backgroundcolor": "#E5ECF6",
            "gridcolor": "white",
            "gridwidth": 2,
            "linecolor": "white",
            "showbackground": true,
            "ticks": "",
            "zerolinecolor": "white"
           },
           "zaxis": {
            "backgroundcolor": "#E5ECF6",
            "gridcolor": "white",
            "gridwidth": 2,
            "linecolor": "white",
            "showbackground": true,
            "ticks": "",
            "zerolinecolor": "white"
           }
          },
          "shapedefaults": {
           "line": {
            "color": "#2a3f5f"
           }
          },
          "ternary": {
           "aaxis": {
            "gridcolor": "white",
            "linecolor": "white",
            "ticks": ""
           },
           "baxis": {
            "gridcolor": "white",
            "linecolor": "white",
            "ticks": ""
           },
           "bgcolor": "#E5ECF6",
           "caxis": {
            "gridcolor": "white",
            "linecolor": "white",
            "ticks": ""
           }
          },
          "title": {
           "x": 0.05
          },
          "xaxis": {
           "automargin": true,
           "gridcolor": "white",
           "linecolor": "white",
           "ticks": "",
           "title": {
            "standoff": 15
           },
           "zerolinecolor": "white",
           "zerolinewidth": 2
          },
          "yaxis": {
           "automargin": true,
           "gridcolor": "white",
           "linecolor": "white",
           "ticks": "",
           "title": {
            "standoff": 15
           },
           "zerolinecolor": "white",
           "zerolinewidth": 2
          }
         }
        },
        "title": {
         "text": " Gantt Chart"
        },
        "xaxis": {
         "rangeselector": {
          "buttons": [
           {
            "count": 7,
            "label": "1w",
            "step": "day",
            "stepmode": "backward"
           },
           {
            "count": 1,
            "label": "1m",
            "step": "month",
            "stepmode": "backward"
           },
           {
            "count": 6,
            "label": "6m",
            "step": "month",
            "stepmode": "backward"
           },
           {
            "count": 1,
            "label": "YTD",
            "step": "year",
            "stepmode": "todate"
           },
           {
            "count": 1,
            "label": "1y",
            "step": "year",
            "stepmode": "backward"
           },
           {
            "step": "all"
           }
          ]
         },
         "showgrid": true,
         "type": "date",
         "zeroline": false
        },
        "yaxis": {
         "autorange": false,
         "range": [
          -1,
          5
         ],
         "showgrid": true,
         "ticktext": [
          "Machine 5",
          "Machine 4",
          "Machine 25",
          "Machine 2"
         ],
         "tickvals": [
          0,
          1,
          2,
          3
         ],
         "zeroline": false
        }
       }
      }
     },
     "metadata": {},
     "output_type": "display_data"
    }
   ],
   "source": [
    "import ipywidgets as widgets\n",
    "from ipywidgets import Layout, Button, Box, VBox, HBox, Textarea, Label, Text\n",
    "\n",
    "# Step 2\n",
    "num_jobs = widgets.IntSlider(\n",
    "    value=1,\n",
    "    min=1,\n",
    "    max=200,\n",
    "    description=\"Chọn số lượng công việc:\",\n",
    "    style={\"description_width\": \"initial\", \"handle_color\": \"lightblue\"},\n",
    "    layout=Layout(width=\"50%\"),\n",
    ")\n",
    "num_jobs.add_class(\"mytext\")\n",
    "output = widgets.Output()\n",
    "tasks_input = []\n",
    "orders_input = []\n",
    "\n",
    "\n",
    "# Step 5\n",
    "def on_button_click(b):\n",
    "    output.clear_output()\n",
    "    global tasks_input, orders_input\n",
    "    tasks_input = [\n",
    "        Text(\n",
    "            value=\"\",\n",
    "            description=\"Các tác vụ:\",\n",
    "            placeholder=\"e.g. 1, 17, 2, 3\",\n",
    "            style={\"description_width\": \"initial\", \"font_size\": \"20px\"},\n",
    "            layout=Layout(width=\"45%\"),\n",
    "        )\n",
    "        for _ in range(num_jobs.value)\n",
    "    ]\n",
    "    orders_input = [\n",
    "        Text(\n",
    "            value=\"\",\n",
    "            description=\"Thứ tự thực hiện:\",\n",
    "            placeholder=\"e.g. (1, 17), (17, 2), (2, 3)\",\n",
    "            style={\"description_width\": \"initial\", \"font_size\": \"20px\"},\n",
    "            layout=Layout(width=\"45%\"),\n",
    "        )\n",
    "        for _ in range(num_jobs.value)\n",
    "    ]\n",
    "    # Step 6\n",
    "    num = num_jobs.value\n",
    "    for i in range(num):\n",
    "        task = tasks_input[i]\n",
    "        task.add_class(\"mytext\")\n",
    "        order = orders_input[i]\n",
    "        order.add_class(\"mytext\")\n",
    "        tasks_orders = VBox(\n",
    "            [\n",
    "                Label(\n",
    "                    \"Công việc %d:\" % (i + 1),\n",
    "                    style={\"font_size\": \"20px\", \"text_color\": \"#0fa312\"},\n",
    "                ),\n",
    "                HBox(\n",
    "                    [task, order],\n",
    "                    layout=widgets.Layout(\n",
    "                        display=\"flex\",\n",
    "                        justify_content=\"space-around\",\n",
    "                    ),\n",
    "                ),\n",
    "            ]\n",
    "        )\n",
    "        # Step 9\n",
    "        with output:\n",
    "            display(tasks_orders)\n",
    "\n",
    "\n",
    "# Step 8\n",
    "button = widgets.Button(\n",
    "    description=\"Nhấn để nhập thông tin về các công việc\",\n",
    "    style={\"font_weight\": \"bold\", \"font_size\": \"15px\", \"button_color\": \"pink\"},\n",
    "    layout=widgets.Layout(width=\"25%\", height=\"50px\"),\n",
    ")\n",
    "button.add_class(\"mytext\")\n",
    "button.on_click(on_button_click)\n",
    "solve_button = Button(\n",
    "    description=\"Solve\",\n",
    "    button_style=\"success\",\n",
    "    tooltip=\"Click me\",\n",
    "    icon=\"check\",\n",
    "    style={\"font_weight\": \"bold\", \"font_size\": \"15px\"},\n",
    ")\n",
    "display(num_jobs, button, output, solve_button)\n",
    "\n",
    "tasks = []\n",
    "orders = []\n",
    "model = None\n",
    "def bind_solve_button(b):\n",
    "    #clear all errors output\n",
    "    global tasks, orders, tasks_input, orders_input\n",
    "    tasks = []\n",
    "    orders = []\n",
    "    for task in tasks_input:\n",
    "        if task.value == \"\":\n",
    "            raise ValueError(\"Các tác vụ không được để trống\")\n",
    "        try:\n",
    "            tasks.append(eval(task.value))\n",
    "        except:\n",
    "            tasks.append([eval(task.value)])\n",
    "    for order in orders_input:\n",
    "        if order.value == \"\":\n",
    "            continue\n",
    "        l = eval(order.value)\n",
    "        if type(l[0]) == int:\n",
    "            orders.append([l])\n",
    "        else:\n",
    "            orders.append(l)\n",
    "    assert all([not checkCycle(order) for order in orders]), \"Tồn tại chu trình trong các thứ tự thực hiện\"\n",
    "    df = pd.read_excel(\"../datasets/Data.xlsx\", sheet_name=\"Tasks\")\n",
    "    all_tasks = set(df[\"Task ID\"])\n",
    "    for task in tasks:\n",
    "        assert all([t in all_tasks for t in task]), \"Có tác vụ không tồn tại trong bảng Tasks\"\n",
    "    for i, order in enumerate(orders):\n",
    "        tasks_in_job = set.union(*[set(i) for i in order])\n",
    "        assert all([t in tasks[i] for t in tasks_in_job]), \"Có tác vụ không tồn tại trong danh sách tác vụ của công việc\"\n",
    "    global model\n",
    "    \n",
    "    model = LPJS(tasks, orders, capacities)\n",
    "    \n",
    "    model.solve()\n",
    "solve_button.on_click(bind_solve_button)\n",
    "\n"
   ]
  },
  {
   "cell_type": "code",
   "execution_count": 9,
   "metadata": {},
   "outputs": [],
   "source": [
    "# tasks = [(1, 17, 2, 3), [1, 26, 3, 7, 5, 6], [1, 24, 3]]\n",
    "# orders = [\n",
    "#     [(1, 17), (17, 2), (2, 3)],\n",
    "#     [(1, 26), (26, 3), (3, 7), (7, 5)],\n",
    "#     [(1, 24), (24, 3)],\n",
    "# ]"
   ]
  }
 ],
 "metadata": {
  "kernelspec": {
   "display_name": ".venv",
   "language": "python",
   "name": "python3"
  },
  "language_info": {
   "codemirror_mode": {
    "name": "ipython",
    "version": 3
   },
   "file_extension": ".py",
   "mimetype": "text/x-python",
   "name": "python",
   "nbconvert_exporter": "python",
   "pygments_lexer": "ipython3",
   "version": "3.12.0"
  }
 },
 "nbformat": 4,
 "nbformat_minor": 2
}
