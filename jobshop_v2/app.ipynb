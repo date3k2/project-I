{
 "cells": [
  {
   "cell_type": "markdown",
   "metadata": {},
   "source": [
    "# <p align=\"center\"> Notebook dùng để chạy giải thuật JSSP version 2 </p>"
   ]
  },
  {
   "cell_type": "code",
   "execution_count": 22,
   "metadata": {},
   "outputs": [],
   "source": [
    "import sys\n",
    "if \"../\" not in sys.path:\n",
    "    sys.path.append(\"../\")"
   ]
  },
  {
   "cell_type": "code",
   "execution_count": 23,
   "metadata": {},
   "outputs": [],
   "source": [
    "from validation import checkCycle\n",
    "from mip_solver import LPJS\n",
    "from greedy import GreedyJS"
   ]
  },
  {
   "cell_type": "markdown",
   "metadata": {},
   "source": [
    "## Mở file Excel sau đây để xem chi tiết các công việc cần lập lịch\n",
    "\n",
    "### Có thể thay đổi các thông số trong file này để thực hiện lập lịch cho các công việc khác tùy ý, và cần phải lưu lại file trước khi thực hiện các bước tiếp theo. Cách thêm hoặc thay đổi:\n",
    "- Các công việc ở sheet `Jobs`, bao gồm:\n",
    "    - `Job ID` : mã số của công việc (bắt buộc, không được trùng với các mã số khác)\n",
    "    - `Job Name` : tên của công việc (không bắt buộc)\n",
    "    - `Job Description` : mô tả công việc (không bắt buộc)\n",
    "- Các tác vụ ở sheet `Tasks`, bao gồm:\n",
    "    - `Task ID` : mã số của tác vụ (bắt buộc, không được trùng với các mã số khác)\n",
    "    - `Task Name` : tên của tác vụ (không bắt buộc)\n",
    "    - `Task Description` : mô tả tác vụ (không bắt buộc)\n",
    "- Thứ tự thực hiện của tác vụ ở sheet `TaskOrders`, bao gồm:\n",
    "    - `First Task ID` : mã số của tác vụ được thực hiện đầu trước\n",
    "    - `Subsequent Task ID` : mã số của tác vụ được thực hiện sau\n",
    "- Các máy ở sheet `Machines`, bao gồm:\n",
    "    - `Machine ID` : mã số của máy (bắt buộc, không được trùng với các mã số khác)\n",
    "    - `Machine Name` : tên của máy (không bắt buộc)  \n",
    "- Các thông số của máy ở sheet `Capacities`, bao gồm:\n",
    "    - `Machine ID` : mã số của máy\n",
    "    - `Task ID` : mã số của tác vụ\n",
    "    - `Time` : thời gian thực hiện tác vụ trên máy\n",
    "    - `Cost` : chi phí thực hiện tác vụ trên máy"
   ]
  },
  {
   "cell_type": "code",
   "execution_count": 24,
   "metadata": {},
   "outputs": [
    {
     "data": {
      "application/vnd.jupyter.widget-view+json": {
       "model_id": "7ef37ac2cff44ea99a070731ccd783cf",
       "version_major": 2,
       "version_minor": 0
      },
      "text/plain": [
       "Button(description='Open data file', style=ButtonStyle())"
      ]
     },
     "metadata": {},
     "output_type": "display_data"
    }
   ],
   "source": [
    "import ipywidgets as widgets\n",
    "from IPython.display import display\n",
    "import os\n",
    "def open_data_file(_):\n",
    "    file_path = r\"..\\datasets\\Data.xlsx\"\n",
    "    if os.path.exists(file_path):\n",
    "        os.startfile(file_path)\n",
    "    else:\n",
    "        print(\"File not found.\")\n",
    "\n",
    "w = widgets.Button(description='Open data file')\n",
    "w.on_click(open_data_file)\n",
    "display(w)\n"
   ]
  },
  {
   "cell_type": "markdown",
   "metadata": {},
   "source": [
    "## Sau khi đã thay đổi các thông số, chạy các cell bên dưới để tiến hành lập lịch"
   ]
  },
  {
   "cell_type": "code",
   "execution_count": 25,
   "metadata": {},
   "outputs": [],
   "source": [
    "import pandas as pd\n",
    "capacities = pd.read_excel('../datasets/Data.xlsx',sheet_name='Capacities')\n",
    "from collections import defaultdict\n",
    "\n",
    "cap = defaultdict(dict)\n",
    "for index, row in capacities.iterrows():\n",
    "    machineid = int(row[\"Machine ID\"])\n",
    "    cap[machineid][int(row[\"Task ID\"])] = (row[\"Time\"], row[\"Cost\"])\n",
    "capacities = cap"
   ]
  },
  {
   "cell_type": "code",
   "execution_count": 26,
   "metadata": {},
   "outputs": [
    {
     "data": {
      "text/html": [
       "<style>\n",
       ".mytext > .widget-label {\n",
       "    color: #066889;\n",
       "    font-size: 20px;\n",
       "}\n",
       "</style>\n"
      ],
      "text/plain": [
       "<IPython.core.display.HTML object>"
      ]
     },
     "metadata": {},
     "output_type": "display_data"
    }
   ],
   "source": [
    "%%html\n",
    "<style>\n",
    ".mytext > .widget-label {\n",
    "    color: #066889;\n",
    "    font-size: 20px;\n",
    "}\n",
    "</style>"
   ]
  },
  {
   "cell_type": "markdown",
   "metadata": {},
   "source": [
    "### 1. Chạy cell bên dưới để chọn số lượng công việc cần lập lịch, sau đó với mỗi công việc, nhập mã tác vụ cần thực hiện và thứ giữa các tác vụ đó. Ví dụ:\n",
    " - Số lượng công việc cần lập lịch: 2\n",
    "    - Công việc 1: \n",
    "        - Các tác vụ: 1, 2, 3 (nhập ID tác vụ cách nhau bởi dấu phẩy)\n",
    "        - Thứ tự thực hiện: (1,2), (2,3) (nhập thứ tự thực hiện cách nhau bởi dấu phẩy, mỗi cặp tác vụ cách nhau bởi dấu phẩy và được bao bởi dấu ngoặc đơn)\n",
    "    - Công việc 2:\n",
    "        - Các tác vụ: 4, 5, 6\n",
    "        - Thứ tự thực hiện: (4,5)\n",
    "\n",
    "### 2. Chọn mô hình:\n",
    "- MIP : mô hình tối ưu nguyên, mặc định. Các tham số có thể được điều chỉnh trong hàm `solve`\n",
    "    - display : hiển thị Gannt chart, mặc định là `False`\n",
    "    - time_limit : thời gian giới hạn lập lịch, vì mô hình này có thể chạy rất lâu, mặc định là 30 giây.\n",
    "- Greedy : mô hình tham lam\n",
    "    - Giải thuật tham lam, chỉ lựa chọn các máy có chi phí thực hiện thấp nhất để thực hiện tác vụ.\n",
    "\n",
    "### 3. Nhấn nút **Solve** để lập lịch và hiển thị kết quả\n",
    "\n",
    "### 4. Trong quá trình lập lịch, có thể thay đổi các thông số và nhấn nút **Solve** để lập lịch lại, tuy nhiên nên chạy lại cell để output được hiển thị đầy đủ, không bị đè lên output của lần lập lịch trước đó\n",
    "---\n",
    "**_Chú ý:_**  \n",
    "- **_Các thông số về tác vụ không được để trống_**\n",
    "- **_Không nhập các tác vụ không tồn tại trong file dữ liệu_**\n",
    "- **_Không nhập các thứ tự thực hiện không chứa trong các tác vụ đã nhập_**\n",
    "- **_Không nhập các thứ tự thực hiện không hợp lệ (ví dụ: (1,2) và (2,1) cùng tồn tại)_**\n",
    "---\n",
    "**_Nếu nhập sai, chương trình sẽ báo lỗi, khi đó chạy lại cell để nhập lại_**"
   ]
  },
  {
   "cell_type": "code",
   "execution_count": 27,
   "metadata": {},
   "outputs": [
    {
     "data": {
      "application/vnd.jupyter.widget-view+json": {
       "model_id": "d43dbd11a65f43a1aa1631075d3ad81f",
       "version_major": 2,
       "version_minor": 0
      },
      "text/plain": [
       "IntSlider(value=1, description='Chọn số lượng công việc:', layout=Layout(width='50%'), max=200, min=1, style=S…"
      ]
     },
     "metadata": {},
     "output_type": "display_data"
    },
    {
     "data": {
      "application/vnd.jupyter.widget-view+json": {
       "model_id": "a3bf79f914514522bf4f595c6ab755a7",
       "version_major": 2,
       "version_minor": 0
      },
      "text/plain": [
       "Button(description='Nhấn để nhập thông tin về các công việc', layout=Layout(height='50px', width='25%'), style…"
      ]
     },
     "metadata": {},
     "output_type": "display_data"
    },
    {
     "data": {
      "application/vnd.jupyter.widget-view+json": {
       "model_id": "00a4c667805a4960abcfaab2cea9afdd",
       "version_major": 2,
       "version_minor": 0
      },
      "text/plain": [
       "Output()"
      ]
     },
     "metadata": {},
     "output_type": "display_data"
    },
    {
     "data": {
      "application/vnd.jupyter.widget-view+json": {
       "model_id": "43650dc80f0c4fc38a93d35df4478a90",
       "version_major": 2,
       "version_minor": 0
      },
      "text/plain": [
       "RadioButtons(description='Chọn mô hình:', layout=Layout(width='max-content'), options=('MIP', 'Greedy'), value…"
      ]
     },
     "metadata": {},
     "output_type": "display_data"
    },
    {
     "data": {
      "application/vnd.jupyter.widget-view+json": {
       "model_id": "15bd5379fa794b259bc09bc0aa375c0f",
       "version_major": 2,
       "version_minor": 0
      },
      "text/plain": [
       "Button(button_style='success', description='Solve', icon='check', style=ButtonStyle(font_size='15px', font_wei…"
      ]
     },
     "metadata": {},
     "output_type": "display_data"
    }
   ],
   "source": [
    "import ipywidgets as widgets\n",
    "from ipywidgets import Layout, Button, Box, VBox, HBox, Textarea, Label, Text\n",
    "\n",
    "# Step 2\n",
    "num_jobs = widgets.IntSlider(\n",
    "    value=1,\n",
    "    min=1,\n",
    "    max=200,\n",
    "    description=\"Chọn số lượng công việc:\",\n",
    "    style={\"description_width\": \"initial\", \"handle_color\": \"lightblue\"},\n",
    "    layout=Layout(width=\"50%\"),\n",
    ")\n",
    "num_jobs.add_class(\"mytext\")\n",
    "output = widgets.Output()\n",
    "tasks_input = []\n",
    "orders_input = []\n",
    "\n",
    "\n",
    "# Step 5\n",
    "def on_button_click(b):\n",
    "    output.clear_output()\n",
    "    global tasks_input, orders_input\n",
    "    tasks_input = [\n",
    "        Text(\n",
    "            value=\"\",\n",
    "            description=\"Các tác vụ:\",\n",
    "            placeholder=\"e.g. 1, 17, 2, 3\",\n",
    "            style={\"description_width\": \"initial\", \"font_size\": \"20px\"},\n",
    "            layout=Layout(width=\"45%\"),\n",
    "        )\n",
    "        for _ in range(num_jobs.value)\n",
    "    ]\n",
    "    orders_input = [\n",
    "        Text(\n",
    "            value=\"\",\n",
    "            description=\"Thứ tự thực hiện:\",\n",
    "            placeholder=\"e.g. (1, 17), (17, 2), (2, 3)\",\n",
    "            style={\"description_width\": \"initial\", \"font_size\": \"20px\"},\n",
    "            layout=Layout(width=\"45%\"),\n",
    "        )\n",
    "        for _ in range(num_jobs.value)\n",
    "    ]\n",
    "    # Step 6\n",
    "    num = num_jobs.value\n",
    "    for i in range(num):\n",
    "        task = tasks_input[i]\n",
    "        task.add_class(\"mytext\")\n",
    "        order = orders_input[i]\n",
    "        order.add_class(\"mytext\")\n",
    "        tasks_orders = VBox(\n",
    "            [\n",
    "                Label(\n",
    "                    \"Công việc %d:\" % (i + 1),\n",
    "                    style={\"font_size\": \"20px\", \"text_color\": \"#0fa312\"},\n",
    "                ),\n",
    "                HBox(\n",
    "                    [task, order],\n",
    "                    layout=widgets.Layout(\n",
    "                        display=\"flex\",\n",
    "                        justify_content=\"space-around\",\n",
    "                    ),\n",
    "                ),\n",
    "            ]\n",
    "        )\n",
    "        # Step 9\n",
    "        with output:\n",
    "            display(tasks_orders)\n",
    "\n",
    "\n",
    "# Step 8\n",
    "button = widgets.Button(\n",
    "    description=\"Nhấn để nhập thông tin về các công việc\",\n",
    "    style={\"font_weight\": \"bold\", \"font_size\": \"15px\", \"button_color\": \"pink\"},\n",
    "    layout=widgets.Layout(width=\"25%\", height=\"50px\"),\n",
    ")\n",
    "button.add_class(\"mytext\")\n",
    "button.on_click(on_button_click)\n",
    "solve_button = Button(\n",
    "    description=\"Solve\",\n",
    "    button_style=\"success\",\n",
    "    tooltip=\"Click me\",\n",
    "    icon=\"check\",\n",
    "    style={\"font_weight\": \"bold\", \"font_size\": \"15px\"},\n",
    ")\n",
    "model_selector = widgets.RadioButtons(\n",
    "    options=[\"MIP\", \"Greedy\"],\n",
    "    value=\"MIP\",\n",
    "    layout={\"width\": \"max-content\", \"font_size\": \"20px\"},\n",
    "    description=\"Chọn mô hình:\",\n",
    "    disabled=False,\n",
    ")\n",
    "display(num_jobs, button, output, model_selector, solve_button)\n",
    "\n",
    "tasks = []\n",
    "orders = []\n",
    "model = None\n",
    "\n",
    "\n",
    "def bind_solve_button(b):\n",
    "    # clear all errors output\n",
    "    global tasks, orders, tasks_input, orders_input\n",
    "    tasks = []\n",
    "    orders = []\n",
    "    for task in tasks_input:\n",
    "        if task.value == \"\":\n",
    "            raise ValueError(\"Các tác vụ không được để trống\")\n",
    "        try:\n",
    "            tasks.append(eval(task.value))\n",
    "        except:\n",
    "            tasks.append([eval(task.value)])\n",
    "    for order in orders_input:\n",
    "        if order.value == \"\":\n",
    "            continue\n",
    "        l = eval(order.value)\n",
    "        if type(l[0]) == int:\n",
    "            orders.append([l])\n",
    "        else:\n",
    "            orders.append(l)\n",
    "    assert all(\n",
    "        [not checkCycle(order) for order in orders]\n",
    "    ), \"Tồn tại chu trình trong các thứ tự thực hiện\"\n",
    "    df = pd.read_excel(\"../datasets/Data.xlsx\", sheet_name=\"Tasks\")\n",
    "    all_tasks = set(df[\"Task ID\"])\n",
    "    for task in tasks:\n",
    "        assert all(\n",
    "            [t in all_tasks for t in task]\n",
    "        ), \"Có tác vụ không tồn tại trong bảng Tasks\"\n",
    "    for i, order in enumerate(orders):\n",
    "        tasks_in_job = set.union(*[set(i) for i in order])\n",
    "        assert all(\n",
    "            [t in tasks[i] for t in tasks_in_job]\n",
    "        ), \"Có tác vụ không tồn tại trong danh sách tác vụ của công việc\"\n",
    "    global model, model_selector\n",
    "    if model_selector.value == \"MIP\":\n",
    "        model = LPJS(tasks, orders, capacities)\n",
    "    else:\n",
    "        model = GreedyJS(tasks, orders, capacities)\n",
    "        \n",
    "\n",
    "    model.solve()\n",
    "    \n",
    "\n",
    "\n",
    "solve_button.on_click(bind_solve_button)"
   ]
  },
  {
   "cell_type": "code",
   "execution_count": 28,
   "metadata": {},
   "outputs": [],
   "source": [
    "# tasks = [(1, 17, 2, 3), [1, 26, 3, 7, 5, 6], [1, 24, 3]]\n",
    "# orders = [\n",
    "#     [(1, 17), (17, 2), (2, 3)],\n",
    "#     [(1, 26), (26, 3), (3, 7), (7, 5)],\n",
    "#     [(1, 24), (24, 3)],\n",
    "# ]"
   ]
  }
 ],
 "metadata": {
  "kernelspec": {
   "display_name": ".venv",
   "language": "python",
   "name": "python3"
  },
  "language_info": {
   "codemirror_mode": {
    "name": "ipython",
    "version": 3
   },
   "file_extension": ".py",
   "mimetype": "text/x-python",
   "name": "python",
   "nbconvert_exporter": "python",
   "pygments_lexer": "ipython3",
   "version": "3.12.0"
  }
 },
 "nbformat": 4,
 "nbformat_minor": 2
}
