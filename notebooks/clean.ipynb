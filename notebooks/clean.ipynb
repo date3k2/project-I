{
 "cells": [
  {
   "cell_type": "code",
   "execution_count": 1,
   "metadata": {},
   "outputs": [],
   "source": [
    "import os"
   ]
  },
  {
   "cell_type": "code",
   "execution_count": null,
   "metadata": {},
   "outputs": [],
   "source": [
    "for file in os.listdir(\"../datasets/taillard/\"):\n",
    "    with open(\"../datasets/taillard/\" + file, \"r\") as f:\n",
    "        lines = f.readlines()\n",
    "        n_jobs, n_machines, _ = map(int, lines[0].split())\n",
    "        duration_matrix = [[0 for _ in range(n_jobs)] for _ in range(n_machines)]\n",
    "        for i in range(1, len(lines)):\n",
    "            lines[i] = \" \".join(lines[i].split()[4:]) + \"\\n\"\n",
    "        duration_matrix = [\n",
    "            [int(x) for i, x in enumerate(line.split()) if i % 2] for line in lines[1:]\n",
    "        ]\n",
    "        machines = [\n",
    "            [int(x) for i, x in enumerate(line.split()) if i % 2 == 0]\n",
    "            for line in lines[1:]\n",
    "        ]\n",
    "    with open(\"../datasets/taillard/\" + file, \"w\") as f:\n",
    "        f.write(str(n_jobs) + \" \" + str(n_machines) + \"\\n\")\n",
    "        for duration in duration_matrix:\n",
    "            f.write(\" \".join(map(str, duration)) + \"\\n\")\n",
    "        f.write(\"\\n\")\n",
    "        for machine in machines:\n",
    "            f.write(\" \".join(map(str, machine)) + \"\\n\")"
   ]
  },
  {
   "cell_type": "code",
   "execution_count": 11,
   "metadata": {},
   "outputs": [],
   "source": [
    "for file in os.listdir(\"../datasets/dmu/\"):\n",
    "    with open(\"../datasets/dmu/\" + file, \"r\") as f:\n",
    "        lines = f.readlines()\n",
    "        n_jobs, n_machines = map(int, lines[0].split())\n",
    "        duration_matrix = [[0 for _ in range(n_jobs)] for _ in range(n_machines)]\n",
    "        for i in range(1, len(lines)):\n",
    "            lines[i] = \" \".join(lines[i].split()) + \"\\n\"\n",
    "        duration_matrix = [\n",
    "            [int(x) for i, x in enumerate(line.split()) if i % 2] for line in lines[1:]\n",
    "        ]\n",
    "        machines = [\n",
    "            [int(x) + 1 for i, x in enumerate(line.split()) if i % 2 == 0]\n",
    "            for line in lines[1:]\n",
    "        ]\n",
    "        with open(\"../datasets/dmu/\" + file, \"w\") as f:\n",
    "            f.write(str(n_jobs) + \" \" + str(n_machines) + \"\\n\")\n",
    "            for duration in duration_matrix:\n",
    "                f.write(\" \".join(map(str, duration)) + \"\\n\")\n",
    "            f.write(\"\\n\")\n",
    "            for machine in machines:\n",
    "                f.write(\" \".join(map(str, machine)) + \"\\n\")\n",
    "        # print(n_jobs, n_machines)\n",
    "        # for duration in duration_matrix:\n",
    "        #     print(*duration)\n",
    "        # print()\n",
    "        # for machine in machines:\n",
    "        #     print(*machine)\n",
    "        # break"
   ]
  },
  {
   "cell_type": "code",
   "execution_count": 5,
   "metadata": {},
   "outputs": [],
   "source": [
    "import glob\n",
    "import shutil\n",
    "\n",
    "# Get a list of all CSV files in the source directory\n",
    "csv_files = glob.glob(\"../datasets/*.csv\")\n",
    "\n",
    "# Move each CSV file to the destination directory\n",
    "for file in csv_files:\n",
    "    shutil.move(file, \"../results/\")\n",
    "\n"
   ]
  }
 ],
 "metadata": {
  "kernelspec": {
   "display_name": ".venv",
   "language": "python",
   "name": "python3"
  },
  "language_info": {
   "codemirror_mode": {
    "name": "ipython",
    "version": 3
   },
   "file_extension": ".py",
   "mimetype": "text/x-python",
   "name": "python",
   "nbconvert_exporter": "python",
   "pygments_lexer": "ipython3",
   "version": "3.12.0"
  }
 },
 "nbformat": 4,
 "nbformat_minor": 2
}
