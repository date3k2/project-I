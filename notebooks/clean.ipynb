{
 "cells": [
  {
   "cell_type": "code",
   "execution_count": 93,
   "metadata": {},
   "outputs": [],
   "source": [
    "import sys\n",
    "if \"../\" not in sys.path:\n",
    "    sys.path.append(\"../\")"
   ]
  },
  {
   "cell_type": "code",
   "execution_count": 94,
   "metadata": {},
   "outputs": [],
   "source": [
    "import plotly.figure_factory as ff\n",
    "import datetime\n",
    "\n",
    "def ToDate(now,mins):\n",
    "    return (now + datetime.timedelta(minutes=mins)).strftime(\"%Y-%m-%d %H:%M:%S\")"
   ]
  },
  {
   "cell_type": "code",
   "execution_count": 95,
   "metadata": {},
   "outputs": [],
   "source": [
    "from ortools.linear_solver import pywraplp\n",
    "from collections import defaultdict\n",
    "from typing import List, Tuple\n",
    "\n",
    "\n",
    "class LPJS:\n",
    "    def __init__(\n",
    "        self,\n",
    "        tasks: List[List[int]],\n",
    "        orders: List[List[Tuple[int, int]]],\n",
    "        capacities: dict,\n",
    "    ):\n",
    "        self.tasks = tasks\n",
    "        self.orders = orders\n",
    "        self.capacities = capacities\n",
    "        self.n_jobs = len(tasks)\n",
    "        self.model = pywraplp.Solver(\n",
    "            \"JSSP\", pywraplp.Solver.SCIP_MIXED_INTEGER_PROGRAMMING\n",
    "        )\n",
    "\n",
    "    def addConstraints(self):\n",
    "        # Define a dict of start time for each task of each job\n",
    "        self.start_vars = [defaultdict() for _ in range(self.n_jobs)]\n",
    "        # Define a dict of tasks including what machine can do the task\n",
    "        all_tasks = set.union(*[set(i) for i in self.tasks])\n",
    "        self.task_machines = defaultdict(dict)\n",
    "        for taskJ in all_tasks:\n",
    "            for machine in self.capacities:\n",
    "                for taskM in self.capacities[machine]:\n",
    "                    if taskJ == taskM:\n",
    "                        self.task_machines[taskJ][machine] = self.capacities[machine][\n",
    "                            taskM\n",
    "                        ]\n",
    "                        break\n",
    "        # Define variables for assigning task of each job to each machine\n",
    "        V = 1_000_000\n",
    "        self.assignment_task = defaultdict(list)\n",
    "        assignment_machine = defaultdict(list)\n",
    "        for job in range(self.n_jobs):\n",
    "            for task in self.tasks[job]:\n",
    "                self.start_vars[job][task] = self.model.NumVar(\n",
    "                    0, self.model.infinity(), f\"start_job_{job}_task_{task}\"\n",
    "                )\n",
    "                for machine in self.task_machines[task]:\n",
    "                    decision_var = self.model.BoolVar(\n",
    "                        f\"job_{job}_task_{task}_machine_{machine}\"\n",
    "                    )\n",
    "                    self.assignment_task[(job, task)].append(\n",
    "                        (decision_var, machine, self.task_machines[task][machine][1])\n",
    "                    )\n",
    "                    assignment_machine[machine].append((decision_var, job, task))\n",
    "                self.model.Add(\n",
    "                    sum(des for des, _, _ in self.assignment_task[(job, task)]) == 1\n",
    "                )  # Each task must be assigned to one machine\n",
    "\n",
    "        # Orders constraint\n",
    "        for job, order in enumerate(self.orders):\n",
    "            for task1, task2 in order:\n",
    "                for dec_var, machine, _ in self.assignment_task[(job, task1)]:\n",
    "                    self.model.Add(\n",
    "                        self.start_vars[job][task1]\n",
    "                        + self.task_machines[task1][machine][0]\n",
    "                        <= self.start_vars[job][task2] + V * (1 - dec_var)\n",
    "                    )\n",
    "\n",
    "        # A machine can only perform one task at a time\n",
    "        precedence = defaultdict()\n",
    "        for machine in assignment_machine:\n",
    "            for i, job1, task1 in assignment_machine[machine]:\n",
    "                for j, job2, task2 in assignment_machine[machine]:\n",
    "                    if i.name() != j.name():\n",
    "                        precedence[\n",
    "                            (machine, job1, task1, job2, task2)\n",
    "                        ] = self.model.BoolVar(\n",
    "                            f\"machine_{machine}_job_{job1}_task_{task1}_job_{job2}_task_{task2}\"\n",
    "                        )\n",
    "        for machine in assignment_machine:\n",
    "            for idx, (i, job1, task1) in enumerate(assignment_machine[machine]):\n",
    "                for j, job2, task2 in assignment_machine[machine][idx + 1 :]:\n",
    "                    self.model.Add(\n",
    "                        precedence[(machine, job1, task1, job2, task2)]\n",
    "                        + precedence[(machine, job2, task2, job1, task1)]\n",
    "                        == 1\n",
    "                    )\n",
    "\n",
    "        for machine in assignment_machine:\n",
    "            for i, job1, task1 in assignment_machine[machine]:\n",
    "                for j, job2, task2 in assignment_machine[machine]:\n",
    "                    if i.name() != j.name():\n",
    "                        self.model.Add(\n",
    "                            self.start_vars[job1][task1]\n",
    "                            + self.task_machines[task1][machine][0]\n",
    "                            <= self.start_vars[job2][task2]\n",
    "                            + V\n",
    "                            * (\n",
    "                                3\n",
    "                                - precedence[(machine, job1, task1, job2, task2)]\n",
    "                                - i\n",
    "                                - j\n",
    "                            )\n",
    "                        )\n",
    "        # Minimize cost\n",
    "        self.model.Minimize(\n",
    "            sum(\n",
    "                cost * decision_var\n",
    "                for job in range(self.n_jobs)\n",
    "                for task in self.tasks[job]\n",
    "                for decision_var, _, cost in self.assignment_task[(job, task)]\n",
    "            )\n",
    "        )\n",
    "\n",
    "    def solve(self, display=True):\n",
    "        self.addConstraints()\n",
    "        status = self.model.Solve()\n",
    "        if status == pywraplp.Solver.OPTIMAL:\n",
    "            print(\"Solution:\")\n",
    "            print(\"Objective value = \", self.model.Objective().Value())\n",
    "            df = []\n",
    "            # round current time to minute\n",
    "            current_time = datetime.datetime.now().replace(second=0, microsecond=0)\n",
    "            for job in range(self.n_jobs):\n",
    "                for task in self.tasks[job]:\n",
    "                    start = (\n",
    "                        self.start_vars[job][task].solution_value()\n",
    "                        if self.start_vars[job][task].solution_value() < 1e6\n",
    "                        else 0\n",
    "                    )\n",
    "                    for des, machine, _ in self.assignment_task[(job, task)]:\n",
    "                        if des.solution_value() == 1:\n",
    "                            print(\n",
    "                                \"Job %d task %d starts at %.2f and ends at %.2f on machine %d\"\n",
    "                                % (\n",
    "                                    job,\n",
    "                                    task,\n",
    "                                    start,\n",
    "                                    start + self.task_machines[task][machine][0],\n",
    "                                    machine\n",
    "                                )\n",
    "                            )\n",
    "                            df.append(\n",
    "                                dict(\n",
    "                                    Task=\"Machine %i\" % machine,\n",
    "                                    Start=ToDate(current_time, start),\n",
    "                                    Finish=ToDate(\n",
    "                                        current_time,\n",
    "                                        start + self.task_machines[task][machine][0],\n",
    "                                    ),\n",
    "                                    Machine=\"Task %i\" % task,\n",
    "                                )\n",
    "                            )\n",
    "            if display:\n",
    "                sorted_df = sorted(df, key=lambda k: k[\"Task\"])\n",
    "                fig = ff.create_gantt(\n",
    "                    sorted_df,\n",
    "                    index_col=\"Machine\",\n",
    "                    title=\" Gantt Chart\",\n",
    "                    show_colorbar=True,\n",
    "                    showgrid_x=True,\n",
    "                    showgrid_y=True,\n",
    "                    group_tasks=True,\n",
    "                )\n",
    "                fig.show()"
   ]
  },
  {
   "cell_type": "code",
   "execution_count": 96,
   "metadata": {},
   "outputs": [],
   "source": [
    "tasks = [[1, 17, 2, 3], [1, 26, 3, 7, 5, 6], [1, 24, 3]]\n",
    "orders = [\n",
    "    [(1, 17), (17, 2), (2, 3)],\n",
    "    [(1, 26), (26, 3), (3, 7), (7, 5)],\n",
    "    [(1, 24), (24, 3)],\n",
    "]\n",
    "import pickle\n",
    "\n",
    "with open(\"../datasets/capacities.pickle\", \"rb\") as f:\n",
    "    capacities = pickle.load(f)"
   ]
  },
  {
   "cell_type": "code",
   "execution_count": 97,
   "metadata": {},
   "outputs": [
    {
     "name": "stdout",
     "output_type": "stream",
     "text": [
      "Solution:\n",
      "Objective value =  28.76\n",
      "Job 0 task 1 starts at 0.00 and ends at 2.16 on machine 25\n",
      "Job 0 task 17 starts at 2.16 and ends at 6.14 on machine 2\n",
      "Job 0 task 2 starts at 6.14 and ends at 10.48 on machine 4\n",
      "Job 0 task 3 starts at 10.48 and ends at 10.76 on machine 5\n",
      "Job 1 task 1 starts at 2.16 and ends at 4.32 on machine 25\n",
      "Job 1 task 26 starts at 7.42 and ends at 10.76 on machine 12\n",
      "Job 1 task 3 starts at 10.76 and ends at 11.04 on machine 5\n",
      "Job 1 task 7 starts at 11.04 and ends at 17.63 on machine 27\n",
      "Job 1 task 5 starts at 0.00 and ends at 7.51 on machine 9\n",
      "Job 1 task 6 starts at -0.00 and ends at 2.85 on machine 3\n",
      "Job 2 task 1 starts at 4.32 and ends at 6.48 on machine 25\n",
      "Job 2 task 24 starts at 6.48 and ends at 15.64 on machine 18\n",
      "Job 2 task 3 starts at 15.64 and ends at 15.92 on machine 5\n"
     ]
    },
    {
     "data": {
      "application/vnd.plotly.v1+json": {
       "config": {
        "plotlyServerURL": "https://plot.ly"
       },
       "data": [
        {
         "fill": "toself",
         "fillcolor": "rgb(127, 127, 127)",
         "hoverinfo": "name",
         "legendgroup": "rgb(127, 127, 127)",
         "mode": "none",
         "name": "Task 6",
         "showlegend": true,
         "type": "scatter",
         "x": [
          "2023-12-27 23:24:00",
          "2023-12-27 23:26:51",
          "2023-12-27 23:26:51",
          "2023-12-27 23:24:00"
         ],
         "y": [
          2.8,
          2.8,
          3.2,
          3.2
         ]
        },
        {
         "fill": "toself",
         "fillcolor": "rgb(140, 86, 75)",
         "hoverinfo": "name",
         "legendgroup": "rgb(140, 86, 75)",
         "mode": "none",
         "name": "Task 3",
         "showlegend": true,
         "type": "scatter",
         "x": [
          "2023-12-27 23:34:28",
          "2023-12-27 23:34:45",
          "2023-12-27 23:34:45",
          "2023-12-27 23:34:28",
          "2023-12-27 23:34:28",
          "2023-12-27 23:34:45",
          "2023-12-27 23:35:02",
          "2023-12-27 23:35:02",
          "2023-12-27 23:34:45",
          "2023-12-27 23:34:45",
          "2023-12-27 23:39:38",
          "2023-12-27 23:39:55",
          "2023-12-27 23:39:55",
          "2023-12-27 23:39:38"
         ],
         "y": [
          0.8,
          0.8,
          1.2,
          1.2,
          null,
          0.8,
          0.8,
          1.2,
          1.2,
          null,
          0.8,
          0.8,
          1.2,
          1.2
         ]
        },
        {
         "fill": "toself",
         "fillcolor": "rgb(148, 103, 189)",
         "hoverinfo": "name",
         "legendgroup": "rgb(148, 103, 189)",
         "mode": "none",
         "name": "Task 26",
         "showlegend": true,
         "type": "scatter",
         "x": [
          "2023-12-27 23:31:25",
          "2023-12-27 23:34:45",
          "2023-12-27 23:34:45",
          "2023-12-27 23:31:25"
         ],
         "y": [
          7.8,
          7.8,
          8.2,
          8.2
         ]
        },
        {
         "fill": "toself",
         "fillcolor": "rgb(188, 189, 34)",
         "hoverinfo": "name",
         "legendgroup": "rgb(188, 189, 34)",
         "mode": "none",
         "name": "Task 7",
         "showlegend": true,
         "type": "scatter",
         "x": [
          "2023-12-27 23:35:02",
          "2023-12-27 23:41:37",
          "2023-12-27 23:41:37",
          "2023-12-27 23:35:02"
         ],
         "y": [
          3.8,
          3.8,
          4.2,
          4.2
         ]
        },
        {
         "fill": "toself",
         "fillcolor": "rgb(214, 39, 40)",
         "hoverinfo": "name",
         "legendgroup": "rgb(214, 39, 40)",
         "mode": "none",
         "name": "Task 24",
         "showlegend": true,
         "type": "scatter",
         "x": [
          "2023-12-27 23:30:28",
          "2023-12-27 23:39:38",
          "2023-12-27 23:39:38",
          "2023-12-27 23:30:28"
         ],
         "y": [
          6.8,
          6.8,
          7.2,
          7.2
         ]
        },
        {
         "fill": "toself",
         "fillcolor": "rgb(227, 119, 194)",
         "hoverinfo": "name",
         "legendgroup": "rgb(227, 119, 194)",
         "mode": "none",
         "name": "Task 5",
         "showlegend": true,
         "type": "scatter",
         "x": [
          "2023-12-27 23:24:00",
          "2023-12-27 23:31:30",
          "2023-12-27 23:31:30",
          "2023-12-27 23:24:00"
         ],
         "y": [
          -0.2,
          -0.2,
          0.2,
          0.2
         ]
        },
        {
         "fill": "toself",
         "fillcolor": "rgb(255, 127, 14)",
         "hoverinfo": "name",
         "legendgroup": "rgb(255, 127, 14)",
         "mode": "none",
         "name": "Task 17",
         "showlegend": true,
         "type": "scatter",
         "x": [
          "2023-12-27 23:26:09",
          "2023-12-27 23:30:08",
          "2023-12-27 23:30:08",
          "2023-12-27 23:26:09"
         ],
         "y": [
          5.8,
          5.8,
          6.2,
          6.2
         ]
        },
        {
         "fill": "toself",
         "fillcolor": "rgb(31, 119, 180)",
         "hoverinfo": "name",
         "legendgroup": "rgb(31, 119, 180)",
         "mode": "none",
         "name": "Task 1",
         "showlegend": true,
         "type": "scatter",
         "x": [
          "2023-12-27 23:24:00",
          "2023-12-27 23:26:09",
          "2023-12-27 23:26:09",
          "2023-12-27 23:24:00",
          "2023-12-27 23:24:00",
          "2023-12-27 23:26:09",
          "2023-12-27 23:28:19",
          "2023-12-27 23:28:19",
          "2023-12-27 23:26:09",
          "2023-12-27 23:26:09",
          "2023-12-27 23:28:19",
          "2023-12-27 23:30:28",
          "2023-12-27 23:30:28",
          "2023-12-27 23:28:19"
         ],
         "y": [
          4.8,
          4.8,
          5.2,
          5.2,
          null,
          4.8,
          4.8,
          5.2,
          5.2,
          null,
          4.8,
          4.8,
          5.2,
          5.2
         ]
        },
        {
         "fill": "toself",
         "fillcolor": "rgb(44, 160, 44)",
         "hoverinfo": "name",
         "legendgroup": "rgb(44, 160, 44)",
         "mode": "none",
         "name": "Task 2",
         "showlegend": true,
         "type": "scatter",
         "x": [
          "2023-12-27 23:30:08",
          "2023-12-27 23:34:28",
          "2023-12-27 23:34:28",
          "2023-12-27 23:30:08"
         ],
         "y": [
          1.8,
          1.8,
          2.2,
          2.2
         ]
        },
        {
         "legendgroup": "rgb(127, 127, 127)",
         "marker": {
          "color": "rgb(127, 127, 127)",
          "opacity": 0,
          "size": 1
         },
         "mode": "markers",
         "name": "",
         "showlegend": false,
         "text": [
          null,
          null
         ],
         "type": "scatter",
         "x": [
          "2023-12-27 23:24:00",
          "2023-12-27 23:26:51"
         ],
         "y": [
          3,
          3
         ]
        },
        {
         "legendgroup": "rgb(140, 86, 75)",
         "marker": {
          "color": "rgb(140, 86, 75)",
          "opacity": 0,
          "size": 1
         },
         "mode": "markers",
         "name": "",
         "showlegend": false,
         "text": [
          null,
          null,
          null,
          null,
          null,
          null
         ],
         "type": "scatter",
         "x": [
          "2023-12-27 23:34:28",
          "2023-12-27 23:34:45",
          "2023-12-27 23:34:45",
          "2023-12-27 23:35:02",
          "2023-12-27 23:39:38",
          "2023-12-27 23:39:55"
         ],
         "y": [
          1,
          1,
          1,
          1,
          1,
          1
         ]
        },
        {
         "legendgroup": "rgb(148, 103, 189)",
         "marker": {
          "color": "rgb(148, 103, 189)",
          "opacity": 0,
          "size": 1
         },
         "mode": "markers",
         "name": "",
         "showlegend": false,
         "text": [
          null,
          null
         ],
         "type": "scatter",
         "x": [
          "2023-12-27 23:31:25",
          "2023-12-27 23:34:45"
         ],
         "y": [
          8,
          8
         ]
        },
        {
         "legendgroup": "rgb(188, 189, 34)",
         "marker": {
          "color": "rgb(188, 189, 34)",
          "opacity": 0,
          "size": 1
         },
         "mode": "markers",
         "name": "",
         "showlegend": false,
         "text": [
          null,
          null
         ],
         "type": "scatter",
         "x": [
          "2023-12-27 23:35:02",
          "2023-12-27 23:41:37"
         ],
         "y": [
          4,
          4
         ]
        },
        {
         "legendgroup": "rgb(214, 39, 40)",
         "marker": {
          "color": "rgb(214, 39, 40)",
          "opacity": 0,
          "size": 1
         },
         "mode": "markers",
         "name": "",
         "showlegend": false,
         "text": [
          null,
          null
         ],
         "type": "scatter",
         "x": [
          "2023-12-27 23:30:28",
          "2023-12-27 23:39:38"
         ],
         "y": [
          7,
          7
         ]
        },
        {
         "legendgroup": "rgb(227, 119, 194)",
         "marker": {
          "color": "rgb(227, 119, 194)",
          "opacity": 0,
          "size": 1
         },
         "mode": "markers",
         "name": "",
         "showlegend": false,
         "text": [
          null,
          null
         ],
         "type": "scatter",
         "x": [
          "2023-12-27 23:24:00",
          "2023-12-27 23:31:30"
         ],
         "y": [
          0,
          0
         ]
        },
        {
         "legendgroup": "rgb(255, 127, 14)",
         "marker": {
          "color": "rgb(255, 127, 14)",
          "opacity": 0,
          "size": 1
         },
         "mode": "markers",
         "name": "",
         "showlegend": false,
         "text": [
          null,
          null
         ],
         "type": "scatter",
         "x": [
          "2023-12-27 23:26:09",
          "2023-12-27 23:30:08"
         ],
         "y": [
          6,
          6
         ]
        },
        {
         "legendgroup": "rgb(31, 119, 180)",
         "marker": {
          "color": "rgb(31, 119, 180)",
          "opacity": 0,
          "size": 1
         },
         "mode": "markers",
         "name": "",
         "showlegend": false,
         "text": [
          null,
          null,
          null,
          null,
          null,
          null
         ],
         "type": "scatter",
         "x": [
          "2023-12-27 23:24:00",
          "2023-12-27 23:26:09",
          "2023-12-27 23:26:09",
          "2023-12-27 23:28:19",
          "2023-12-27 23:28:19",
          "2023-12-27 23:30:28"
         ],
         "y": [
          5,
          5,
          5,
          5,
          5,
          5
         ]
        },
        {
         "legendgroup": "rgb(44, 160, 44)",
         "marker": {
          "color": "rgb(44, 160, 44)",
          "opacity": 0,
          "size": 1
         },
         "mode": "markers",
         "name": "",
         "showlegend": false,
         "text": [
          null,
          null
         ],
         "type": "scatter",
         "x": [
          "2023-12-27 23:30:08",
          "2023-12-27 23:34:28"
         ],
         "y": [
          2,
          2
         ]
        }
       ],
       "layout": {
        "height": 600,
        "hovermode": "closest",
        "showlegend": true,
        "template": {
         "data": {
          "bar": [
           {
            "error_x": {
             "color": "#2a3f5f"
            },
            "error_y": {
             "color": "#2a3f5f"
            },
            "marker": {
             "line": {
              "color": "#E5ECF6",
              "width": 0.5
             },
             "pattern": {
              "fillmode": "overlay",
              "size": 10,
              "solidity": 0.2
             }
            },
            "type": "bar"
           }
          ],
          "barpolar": [
           {
            "marker": {
             "line": {
              "color": "#E5ECF6",
              "width": 0.5
             },
             "pattern": {
              "fillmode": "overlay",
              "size": 10,
              "solidity": 0.2
             }
            },
            "type": "barpolar"
           }
          ],
          "carpet": [
           {
            "aaxis": {
             "endlinecolor": "#2a3f5f",
             "gridcolor": "white",
             "linecolor": "white",
             "minorgridcolor": "white",
             "startlinecolor": "#2a3f5f"
            },
            "baxis": {
             "endlinecolor": "#2a3f5f",
             "gridcolor": "white",
             "linecolor": "white",
             "minorgridcolor": "white",
             "startlinecolor": "#2a3f5f"
            },
            "type": "carpet"
           }
          ],
          "choropleth": [
           {
            "colorbar": {
             "outlinewidth": 0,
             "ticks": ""
            },
            "type": "choropleth"
           }
          ],
          "contour": [
           {
            "colorbar": {
             "outlinewidth": 0,
             "ticks": ""
            },
            "colorscale": [
             [
              0,
              "#0d0887"
             ],
             [
              0.1111111111111111,
              "#46039f"
             ],
             [
              0.2222222222222222,
              "#7201a8"
             ],
             [
              0.3333333333333333,
              "#9c179e"
             ],
             [
              0.4444444444444444,
              "#bd3786"
             ],
             [
              0.5555555555555556,
              "#d8576b"
             ],
             [
              0.6666666666666666,
              "#ed7953"
             ],
             [
              0.7777777777777778,
              "#fb9f3a"
             ],
             [
              0.8888888888888888,
              "#fdca26"
             ],
             [
              1,
              "#f0f921"
             ]
            ],
            "type": "contour"
           }
          ],
          "contourcarpet": [
           {
            "colorbar": {
             "outlinewidth": 0,
             "ticks": ""
            },
            "type": "contourcarpet"
           }
          ],
          "heatmap": [
           {
            "colorbar": {
             "outlinewidth": 0,
             "ticks": ""
            },
            "colorscale": [
             [
              0,
              "#0d0887"
             ],
             [
              0.1111111111111111,
              "#46039f"
             ],
             [
              0.2222222222222222,
              "#7201a8"
             ],
             [
              0.3333333333333333,
              "#9c179e"
             ],
             [
              0.4444444444444444,
              "#bd3786"
             ],
             [
              0.5555555555555556,
              "#d8576b"
             ],
             [
              0.6666666666666666,
              "#ed7953"
             ],
             [
              0.7777777777777778,
              "#fb9f3a"
             ],
             [
              0.8888888888888888,
              "#fdca26"
             ],
             [
              1,
              "#f0f921"
             ]
            ],
            "type": "heatmap"
           }
          ],
          "heatmapgl": [
           {
            "colorbar": {
             "outlinewidth": 0,
             "ticks": ""
            },
            "colorscale": [
             [
              0,
              "#0d0887"
             ],
             [
              0.1111111111111111,
              "#46039f"
             ],
             [
              0.2222222222222222,
              "#7201a8"
             ],
             [
              0.3333333333333333,
              "#9c179e"
             ],
             [
              0.4444444444444444,
              "#bd3786"
             ],
             [
              0.5555555555555556,
              "#d8576b"
             ],
             [
              0.6666666666666666,
              "#ed7953"
             ],
             [
              0.7777777777777778,
              "#fb9f3a"
             ],
             [
              0.8888888888888888,
              "#fdca26"
             ],
             [
              1,
              "#f0f921"
             ]
            ],
            "type": "heatmapgl"
           }
          ],
          "histogram": [
           {
            "marker": {
             "pattern": {
              "fillmode": "overlay",
              "size": 10,
              "solidity": 0.2
             }
            },
            "type": "histogram"
           }
          ],
          "histogram2d": [
           {
            "colorbar": {
             "outlinewidth": 0,
             "ticks": ""
            },
            "colorscale": [
             [
              0,
              "#0d0887"
             ],
             [
              0.1111111111111111,
              "#46039f"
             ],
             [
              0.2222222222222222,
              "#7201a8"
             ],
             [
              0.3333333333333333,
              "#9c179e"
             ],
             [
              0.4444444444444444,
              "#bd3786"
             ],
             [
              0.5555555555555556,
              "#d8576b"
             ],
             [
              0.6666666666666666,
              "#ed7953"
             ],
             [
              0.7777777777777778,
              "#fb9f3a"
             ],
             [
              0.8888888888888888,
              "#fdca26"
             ],
             [
              1,
              "#f0f921"
             ]
            ],
            "type": "histogram2d"
           }
          ],
          "histogram2dcontour": [
           {
            "colorbar": {
             "outlinewidth": 0,
             "ticks": ""
            },
            "colorscale": [
             [
              0,
              "#0d0887"
             ],
             [
              0.1111111111111111,
              "#46039f"
             ],
             [
              0.2222222222222222,
              "#7201a8"
             ],
             [
              0.3333333333333333,
              "#9c179e"
             ],
             [
              0.4444444444444444,
              "#bd3786"
             ],
             [
              0.5555555555555556,
              "#d8576b"
             ],
             [
              0.6666666666666666,
              "#ed7953"
             ],
             [
              0.7777777777777778,
              "#fb9f3a"
             ],
             [
              0.8888888888888888,
              "#fdca26"
             ],
             [
              1,
              "#f0f921"
             ]
            ],
            "type": "histogram2dcontour"
           }
          ],
          "mesh3d": [
           {
            "colorbar": {
             "outlinewidth": 0,
             "ticks": ""
            },
            "type": "mesh3d"
           }
          ],
          "parcoords": [
           {
            "line": {
             "colorbar": {
              "outlinewidth": 0,
              "ticks": ""
             }
            },
            "type": "parcoords"
           }
          ],
          "pie": [
           {
            "automargin": true,
            "type": "pie"
           }
          ],
          "scatter": [
           {
            "fillpattern": {
             "fillmode": "overlay",
             "size": 10,
             "solidity": 0.2
            },
            "type": "scatter"
           }
          ],
          "scatter3d": [
           {
            "line": {
             "colorbar": {
              "outlinewidth": 0,
              "ticks": ""
             }
            },
            "marker": {
             "colorbar": {
              "outlinewidth": 0,
              "ticks": ""
             }
            },
            "type": "scatter3d"
           }
          ],
          "scattercarpet": [
           {
            "marker": {
             "colorbar": {
              "outlinewidth": 0,
              "ticks": ""
             }
            },
            "type": "scattercarpet"
           }
          ],
          "scattergeo": [
           {
            "marker": {
             "colorbar": {
              "outlinewidth": 0,
              "ticks": ""
             }
            },
            "type": "scattergeo"
           }
          ],
          "scattergl": [
           {
            "marker": {
             "colorbar": {
              "outlinewidth": 0,
              "ticks": ""
             }
            },
            "type": "scattergl"
           }
          ],
          "scattermapbox": [
           {
            "marker": {
             "colorbar": {
              "outlinewidth": 0,
              "ticks": ""
             }
            },
            "type": "scattermapbox"
           }
          ],
          "scatterpolar": [
           {
            "marker": {
             "colorbar": {
              "outlinewidth": 0,
              "ticks": ""
             }
            },
            "type": "scatterpolar"
           }
          ],
          "scatterpolargl": [
           {
            "marker": {
             "colorbar": {
              "outlinewidth": 0,
              "ticks": ""
             }
            },
            "type": "scatterpolargl"
           }
          ],
          "scatterternary": [
           {
            "marker": {
             "colorbar": {
              "outlinewidth": 0,
              "ticks": ""
             }
            },
            "type": "scatterternary"
           }
          ],
          "surface": [
           {
            "colorbar": {
             "outlinewidth": 0,
             "ticks": ""
            },
            "colorscale": [
             [
              0,
              "#0d0887"
             ],
             [
              0.1111111111111111,
              "#46039f"
             ],
             [
              0.2222222222222222,
              "#7201a8"
             ],
             [
              0.3333333333333333,
              "#9c179e"
             ],
             [
              0.4444444444444444,
              "#bd3786"
             ],
             [
              0.5555555555555556,
              "#d8576b"
             ],
             [
              0.6666666666666666,
              "#ed7953"
             ],
             [
              0.7777777777777778,
              "#fb9f3a"
             ],
             [
              0.8888888888888888,
              "#fdca26"
             ],
             [
              1,
              "#f0f921"
             ]
            ],
            "type": "surface"
           }
          ],
          "table": [
           {
            "cells": {
             "fill": {
              "color": "#EBF0F8"
             },
             "line": {
              "color": "white"
             }
            },
            "header": {
             "fill": {
              "color": "#C8D4E3"
             },
             "line": {
              "color": "white"
             }
            },
            "type": "table"
           }
          ]
         },
         "layout": {
          "annotationdefaults": {
           "arrowcolor": "#2a3f5f",
           "arrowhead": 0,
           "arrowwidth": 1
          },
          "autotypenumbers": "strict",
          "coloraxis": {
           "colorbar": {
            "outlinewidth": 0,
            "ticks": ""
           }
          },
          "colorscale": {
           "diverging": [
            [
             0,
             "#8e0152"
            ],
            [
             0.1,
             "#c51b7d"
            ],
            [
             0.2,
             "#de77ae"
            ],
            [
             0.3,
             "#f1b6da"
            ],
            [
             0.4,
             "#fde0ef"
            ],
            [
             0.5,
             "#f7f7f7"
            ],
            [
             0.6,
             "#e6f5d0"
            ],
            [
             0.7,
             "#b8e186"
            ],
            [
             0.8,
             "#7fbc41"
            ],
            [
             0.9,
             "#4d9221"
            ],
            [
             1,
             "#276419"
            ]
           ],
           "sequential": [
            [
             0,
             "#0d0887"
            ],
            [
             0.1111111111111111,
             "#46039f"
            ],
            [
             0.2222222222222222,
             "#7201a8"
            ],
            [
             0.3333333333333333,
             "#9c179e"
            ],
            [
             0.4444444444444444,
             "#bd3786"
            ],
            [
             0.5555555555555556,
             "#d8576b"
            ],
            [
             0.6666666666666666,
             "#ed7953"
            ],
            [
             0.7777777777777778,
             "#fb9f3a"
            ],
            [
             0.8888888888888888,
             "#fdca26"
            ],
            [
             1,
             "#f0f921"
            ]
           ],
           "sequentialminus": [
            [
             0,
             "#0d0887"
            ],
            [
             0.1111111111111111,
             "#46039f"
            ],
            [
             0.2222222222222222,
             "#7201a8"
            ],
            [
             0.3333333333333333,
             "#9c179e"
            ],
            [
             0.4444444444444444,
             "#bd3786"
            ],
            [
             0.5555555555555556,
             "#d8576b"
            ],
            [
             0.6666666666666666,
             "#ed7953"
            ],
            [
             0.7777777777777778,
             "#fb9f3a"
            ],
            [
             0.8888888888888888,
             "#fdca26"
            ],
            [
             1,
             "#f0f921"
            ]
           ]
          },
          "colorway": [
           "#636efa",
           "#EF553B",
           "#00cc96",
           "#ab63fa",
           "#FFA15A",
           "#19d3f3",
           "#FF6692",
           "#B6E880",
           "#FF97FF",
           "#FECB52"
          ],
          "font": {
           "color": "#2a3f5f"
          },
          "geo": {
           "bgcolor": "white",
           "lakecolor": "white",
           "landcolor": "#E5ECF6",
           "showlakes": true,
           "showland": true,
           "subunitcolor": "white"
          },
          "hoverlabel": {
           "align": "left"
          },
          "hovermode": "closest",
          "mapbox": {
           "style": "light"
          },
          "paper_bgcolor": "white",
          "plot_bgcolor": "#E5ECF6",
          "polar": {
           "angularaxis": {
            "gridcolor": "white",
            "linecolor": "white",
            "ticks": ""
           },
           "bgcolor": "#E5ECF6",
           "radialaxis": {
            "gridcolor": "white",
            "linecolor": "white",
            "ticks": ""
           }
          },
          "scene": {
           "xaxis": {
            "backgroundcolor": "#E5ECF6",
            "gridcolor": "white",
            "gridwidth": 2,
            "linecolor": "white",
            "showbackground": true,
            "ticks": "",
            "zerolinecolor": "white"
           },
           "yaxis": {
            "backgroundcolor": "#E5ECF6",
            "gridcolor": "white",
            "gridwidth": 2,
            "linecolor": "white",
            "showbackground": true,
            "ticks": "",
            "zerolinecolor": "white"
           },
           "zaxis": {
            "backgroundcolor": "#E5ECF6",
            "gridcolor": "white",
            "gridwidth": 2,
            "linecolor": "white",
            "showbackground": true,
            "ticks": "",
            "zerolinecolor": "white"
           }
          },
          "shapedefaults": {
           "line": {
            "color": "#2a3f5f"
           }
          },
          "ternary": {
           "aaxis": {
            "gridcolor": "white",
            "linecolor": "white",
            "ticks": ""
           },
           "baxis": {
            "gridcolor": "white",
            "linecolor": "white",
            "ticks": ""
           },
           "bgcolor": "#E5ECF6",
           "caxis": {
            "gridcolor": "white",
            "linecolor": "white",
            "ticks": ""
           }
          },
          "title": {
           "x": 0.05
          },
          "xaxis": {
           "automargin": true,
           "gridcolor": "white",
           "linecolor": "white",
           "ticks": "",
           "title": {
            "standoff": 15
           },
           "zerolinecolor": "white",
           "zerolinewidth": 2
          },
          "yaxis": {
           "automargin": true,
           "gridcolor": "white",
           "linecolor": "white",
           "ticks": "",
           "title": {
            "standoff": 15
           },
           "zerolinecolor": "white",
           "zerolinewidth": 2
          }
         }
        },
        "title": {
         "text": " Gantt Chart"
        },
        "xaxis": {
         "rangeselector": {
          "buttons": [
           {
            "count": 7,
            "label": "1w",
            "step": "day",
            "stepmode": "backward"
           },
           {
            "count": 1,
            "label": "1m",
            "step": "month",
            "stepmode": "backward"
           },
           {
            "count": 6,
            "label": "6m",
            "step": "month",
            "stepmode": "backward"
           },
           {
            "count": 1,
            "label": "YTD",
            "step": "year",
            "stepmode": "todate"
           },
           {
            "count": 1,
            "label": "1y",
            "step": "year",
            "stepmode": "backward"
           },
           {
            "step": "all"
           }
          ]
         },
         "showgrid": true,
         "type": "date",
         "zeroline": false
        },
        "yaxis": {
         "autorange": false,
         "range": [
          -1,
          10
         ],
         "showgrid": true,
         "ticktext": [
          "Machine 9",
          "Machine 5",
          "Machine 4",
          "Machine 3",
          "Machine 27",
          "Machine 25",
          "Machine 2",
          "Machine 18",
          "Machine 12"
         ],
         "tickvals": [
          0,
          1,
          2,
          3,
          4,
          5,
          6,
          7,
          8
         ],
         "zeroline": false
        }
       }
      }
     },
     "metadata": {},
     "output_type": "display_data"
    }
   ],
   "source": [
    "model = LPJS(tasks, orders, capacities)\n",
    "model.solve()"
   ]
  }
 ],
 "metadata": {
  "kernelspec": {
   "display_name": ".venv",
   "language": "python",
   "name": "python3"
  },
  "language_info": {
   "codemirror_mode": {
    "name": "ipython",
    "version": 3
   },
   "file_extension": ".py",
   "mimetype": "text/x-python",
   "name": "python",
   "nbconvert_exporter": "python",
   "pygments_lexer": "ipython3",
   "version": "3.12.0"
  }
 },
 "nbformat": 4,
 "nbformat_minor": 2
}
