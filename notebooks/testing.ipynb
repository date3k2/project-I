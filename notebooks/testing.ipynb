{
 "cells": [
  {
   "cell_type": "markdown",
   "metadata": {},
   "source": [
    "## Benchmarks trên các bộ dữ liệu"
   ]
  },
  {
   "cell_type": "code",
   "execution_count": 1,
   "metadata": {},
   "outputs": [],
   "source": [
    "import sys\n",
    "if '../' not in sys.path:\n",
    "    sys.path.append('../')\n",
    "from jobshop.benchmark import benchmark"
   ]
  },
  {
   "cell_type": "markdown",
   "metadata": {},
   "source": [
    "### Hàm `benchmarks` gồm các tham số:\n",
    "- `dataset_path`: đường dẫn đến thư mục chứa các bộ dữ liệu\n",
    "- `model_name`: tên của mô hình\n",
    "- `time_limit`: thời gian chạy tối đa cho mỗi bộ dữ liệu\n",
    "- `num_instances`: số lượng bộ dữ liệu được chạy\n",
    "\n",
    "Kết quả được lưu vào thư mục `results`."
   ]
  },
  {
   "cell_type": "code",
   "execution_count": 2,
   "metadata": {},
   "outputs": [],
   "source": [
    "df_cp_10s = benchmark(\"../datasets/taillard/\", \"CP-SAT\", 10, 8)"
   ]
  },
  {
   "cell_type": "code",
   "execution_count": 4,
   "metadata": {},
   "outputs": [],
   "source": [
    "df_cp_10s.to_csv(\"../results/CP-SAT-10s.csv\", index=False)"
   ]
  },
  {
   "cell_type": "code",
   "execution_count": 5,
   "metadata": {},
   "outputs": [],
   "source": [
    "df_mip_10s = benchmark(\"../datasets/taillard/\", \"MIP\", 10, 80)"
   ]
  },
  {
   "cell_type": "code",
   "execution_count": 7,
   "metadata": {},
   "outputs": [],
   "source": [
    "df_mip_10s.to_csv(\"../results/CP-SAT-10s.csv\", index=False)"
   ]
  }
 ],
 "metadata": {
  "kernelspec": {
   "display_name": ".venv",
   "language": "python",
   "name": "python3"
  },
  "language_info": {
   "codemirror_mode": {
    "name": "ipython",
    "version": 3
   },
   "file_extension": ".py",
   "mimetype": "text/x-python",
   "name": "python",
   "nbconvert_exporter": "python",
   "pygments_lexer": "ipython3",
   "version": "3.12.0"
  }
 },
 "nbformat": 4,
 "nbformat_minor": 2
}
