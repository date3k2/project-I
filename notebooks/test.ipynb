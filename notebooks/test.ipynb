{
 "cells": [
  {
   "cell_type": "code",
   "execution_count": 2,
   "metadata": {},
   "outputs": [
    {
     "name": "stdout",
     "output_type": "stream",
     "text": [
      "87\n"
     ]
    }
   ],
   "source": [
    "import os\n",
    "# list all pdf files in Downloads folder, including subfolders\n",
    "pdf_files = []\n",
    "for root, dirs, files in os.walk(r\"C:\\Users\\nguye\\Downloads\\Gia sư\"):\n",
    "    for file in files:\n",
    "        if file.endswith(\".pdf\"):\n",
    "             pdf_files.append(os.path.join(root, file))\n",
    "print(len(pdf_files))\n",
    "pdf_1 = pdf_files"
   ]
  },
  {
   "cell_type": "code",
   "execution_count": 38,
   "metadata": {},
   "outputs": [
    {
     "name": "stdout",
     "output_type": "stream",
     "text": [
      "C:\\Users\\nguye\\Downloads\\Documents\\Computer Science & Computer Engineering\\Thuật toán ứng dụng\\L8-graphs-advanced.pdf\n"
     ]
    },
    {
     "data": {
      "text/plain": [
       "<Popen: returncode: None args: ['C:\\\\Users\\\\nguye\\\\Downloads\\\\Documents\\\\Com...>"
      ]
     },
     "execution_count": 38,
     "metadata": {},
     "output_type": "execute_result"
    }
   ],
   "source": [
    "# open random file from pdf_files\n",
    "import random\n",
    "import subprocess\n",
    "random_pdf = random.choice(pdf_files)\n",
    "print(random_pdf)\n",
    "subprocess.Popen([random_pdf],shell=True)"
   ]
  },
  {
   "cell_type": "code",
   "execution_count": 63,
   "metadata": {},
   "outputs": [],
   "source": [
    "# list all pdf files in Downloads folder, including subfolders using glob\n",
    "import glob\n",
    "pdf_files = glob.glob(r\"C:\\Users\\nguye\\Downloads\\Gia sư\\**\\*.pdf\", recursive=True)"
   ]
  },
  {
   "cell_type": "code",
   "execution_count": 81,
   "metadata": {},
   "outputs": [],
   "source": [
    "for file in os.listdir(\"../datasets/taillard/\"):\n",
    "    with open(\"../datasets/taillard/\" + file, \"r\") as f:\n",
    "        lines = f.readlines()\n",
    "        n_jobs, n_machines, _ = map(int, lines[0].split())\n",
    "        duration_matrix = [[0 for _ in range(n_jobs)] for _ in range(n_machines)]\n",
    "        for i in range(1, len(lines)):\n",
    "            lines[i] = \" \".join(lines[i].split()[4:]) + \"\\n\"\n",
    "        duration_matrix = [\n",
    "            [int(x) for i, x in enumerate(line.split()) if i % 2] for line in lines[1:]\n",
    "        ]\n",
    "        machines = [\n",
    "            [int(x) for i, x in enumerate(line.split()) if i % 2 == 0]\n",
    "            for line in lines[1:]\n",
    "        ]\n",
    "    with open(\"../datasets/taillard/\" + file, \"w\") as f:\n",
    "        f.write(str(n_jobs) + \" \" + str(n_machines) + \"\\n\")\n",
    "        for duration in duration_matrix:\n",
    "            f.write(\" \".join(map(str, duration)) + \"\\n\")\n",
    "        f.write(\"\\n\")\n",
    "        for machine in machines:\n",
    "            f.write(\" \".join(map(str, machine)) + \"\\n\")"
   ]
  },
  {
   "cell_type": "code",
   "execution_count": 11,
   "metadata": {},
   "outputs": [],
   "source": [
    "for file in os.listdir(\"../datasets/dmu/\"):\n",
    "    with open(\"../datasets/dmu/\" + file, \"r\") as f:\n",
    "        lines = f.readlines()\n",
    "        n_jobs, n_machines = map(int, lines[0].split())\n",
    "        duration_matrix = [[0 for _ in range(n_jobs)] for _ in range(n_machines)]\n",
    "        for i in range(1, len(lines)):\n",
    "            lines[i] = \" \".join(lines[i].split()) + \"\\n\"\n",
    "        duration_matrix = [\n",
    "            [int(x) for i, x in enumerate(line.split()) if i % 2] for line in lines[1:]\n",
    "        ]\n",
    "        machines = [\n",
    "            [int(x) + 1 for i, x in enumerate(line.split()) if i % 2 == 0]\n",
    "            for line in lines[1:]\n",
    "        ]\n",
    "        with open(\"../datasets/dmu/\" + file, \"w\") as f:\n",
    "            f.write(str(n_jobs) + \" \" + str(n_machines) + \"\\n\")\n",
    "            for duration in duration_matrix:\n",
    "                f.write(\" \".join(map(str, duration)) + \"\\n\")\n",
    "            f.write(\"\\n\")\n",
    "            for machine in machines:\n",
    "                f.write(\" \".join(map(str, machine)) + \"\\n\")\n",
    "        # print(n_jobs, n_machines)\n",
    "        # for duration in duration_matrix:\n",
    "        #     print(*duration)\n",
    "        # print()\n",
    "        # for machine in machines:\n",
    "        #     print(*machine)\n",
    "        # break"
   ]
  }
 ],
 "metadata": {
  "kernelspec": {
   "display_name": ".venv",
   "language": "python",
   "name": "python3"
  },
  "language_info": {
   "codemirror_mode": {
    "name": "ipython",
    "version": 3
   },
   "file_extension": ".py",
   "mimetype": "text/x-python",
   "name": "python",
   "nbconvert_exporter": "python",
   "pygments_lexer": "ipython3",
   "version": "3.12.0"
  }
 },
 "nbformat": 4,
 "nbformat_minor": 2
}
