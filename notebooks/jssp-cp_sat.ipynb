{
 "cells": [
  {
   "cell_type": "markdown",
   "metadata": {},
   "source": [
    "## Job shop scheduling problem (JSSP) with constraint programming (CP) and SAT"
   ]
  },
  {
   "cell_type": "code",
   "execution_count": 2,
   "metadata": {},
   "outputs": [],
   "source": [
    "import sys\n",
    "if '../' not in sys.path:\n",
    "    sys.path.append('../')"
   ]
  },
  {
   "cell_type": "code",
   "execution_count": 2,
   "metadata": {},
   "outputs": [],
   "source": [
    "from jobshop.data_gen import jobshop_data_gen\n",
    "from jobshop.cp import CPModel"
   ]
  },
  {
   "cell_type": "markdown",
   "metadata": {},
   "source": [
    "### Solve random instances using CP-SAT"
   ]
  },
  {
   "cell_type": "code",
   "execution_count": 3,
   "metadata": {},
   "outputs": [
    {
     "name": "stdout",
     "output_type": "stream",
     "text": [
      "OPTIMAL : 457.0\n"
     ]
    },
    {
     "data": {
      "application/vnd.plotly.v1+json": {
       "config": {
        "plotlyServerURL": "https://plot.ly"
       },
       "data": [
        {
         "fill": "toself",
         "fillcolor": "rgb(111, 71, 144)",
         "hoverinfo": "name",
         "legendgroup": "rgb(111, 71, 144)",
         "mode": "none",
         "name": "Job3",
         "type": "scatter",
         "x": [
          "2016-01-01 6:03:52",
          "2016-01-01 6:04:13",
          "2016-01-01 6:04:13",
          "2016-01-01 6:03:52",
          "2016-01-01 6:03:52",
          "2016-01-01 6:00:00",
          "2016-01-01 6:00:27",
          "2016-01-01 6:00:27",
          "2016-01-01 6:00:00",
          "2016-01-01 6:00:00",
          "2016-01-01 6:06:01",
          "2016-01-01 6:06:33",
          "2016-01-01 6:06:33",
          "2016-01-01 6:06:01",
          "2016-01-01 6:06:01",
          "2016-01-01 6:00:49",
          "2016-01-01 6:02:20",
          "2016-01-01 6:02:20",
          "2016-01-01 6:00:49",
          "2016-01-01 6:00:49",
          "2016-01-01 6:04:13",
          "2016-01-01 6:04:57",
          "2016-01-01 6:04:57",
          "2016-01-01 6:04:13",
          "2016-01-01 6:04:13",
          "2016-01-01 6:02:20",
          "2016-01-01 6:02:27",
          "2016-01-01 6:02:27",
          "2016-01-01 6:02:20"
         ],
         "y": [
          4.8,
          4.8,
          5.2,
          5.2,
          null,
          3.8,
          3.8,
          4.2,
          4.2,
          null,
          2.8,
          2.8,
          3.2,
          3.2,
          null,
          1.8,
          1.8,
          2.2,
          2.2,
          null,
          0.8,
          0.8,
          1.2,
          1.2,
          null,
          -0.2,
          -0.2,
          0.2,
          0.2
         ]
        },
        {
         "fill": "toself",
         "fillcolor": "rgb(132, 248, 207)",
         "hoverinfo": "name",
         "legendgroup": "rgb(132, 248, 207)",
         "mode": "none",
         "name": "Job1",
         "type": "scatter",
         "x": [
          "2016-01-01 6:00:00",
          "2016-01-01 6:01:11",
          "2016-01-01 6:01:11",
          "2016-01-01 6:00:00",
          "2016-01-01 6:00:00",
          "2016-01-01 6:02:21",
          "2016-01-01 6:03:32",
          "2016-01-01 6:03:32",
          "2016-01-01 6:02:21",
          "2016-01-01 6:02:21",
          "2016-01-01 6:04:16",
          "2016-01-01 6:04:22",
          "2016-01-01 6:04:22",
          "2016-01-01 6:04:16",
          "2016-01-01 6:04:16",
          "2016-01-01 6:04:29",
          "2016-01-01 6:06:05",
          "2016-01-01 6:06:05",
          "2016-01-01 6:04:29",
          "2016-01-01 6:04:29",
          "2016-01-01 6:03:32",
          "2016-01-01 6:03:55",
          "2016-01-01 6:03:55",
          "2016-01-01 6:03:32",
          "2016-01-01 6:03:32",
          "2016-01-01 6:04:26",
          "2016-01-01 6:04:29",
          "2016-01-01 6:04:29",
          "2016-01-01 6:04:26"
         ],
         "y": [
          4.8,
          4.8,
          5.2,
          5.2,
          null,
          3.8,
          3.8,
          4.2,
          4.2,
          null,
          2.8,
          2.8,
          3.2,
          3.2,
          null,
          1.8,
          1.8,
          2.2,
          2.2,
          null,
          0.8,
          0.8,
          1.2,
          1.2,
          null,
          -0.2,
          -0.2,
          0.2,
          0.2
         ]
        },
        {
         "fill": "toself",
         "fillcolor": "rgb(155, 244, 183)",
         "hoverinfo": "name",
         "legendgroup": "rgb(155, 244, 183)",
         "mode": "none",
         "name": "Job2",
         "type": "scatter",
         "x": [
          "2016-01-01 6:02:21",
          "2016-01-01 6:03:40",
          "2016-01-01 6:03:40",
          "2016-01-01 6:02:21",
          "2016-01-01 6:02:21",
          "2016-01-01 6:01:12",
          "2016-01-01 6:02:21",
          "2016-01-01 6:02:21",
          "2016-01-01 6:01:12",
          "2016-01-01 6:01:12",
          "2016-01-01 6:03:40",
          "2016-01-01 6:04:16",
          "2016-01-01 6:04:16",
          "2016-01-01 6:03:40",
          "2016-01-01 6:03:40",
          "2016-01-01 6:06:05",
          "2016-01-01 6:07:37",
          "2016-01-01 6:07:37",
          "2016-01-01 6:06:05",
          "2016-01-01 6:06:05",
          "2016-01-01 6:00:00",
          "2016-01-01 6:01:12",
          "2016-01-01 6:01:12",
          "2016-01-01 6:00:00",
          "2016-01-01 6:00:00",
          "2016-01-01 6:04:29",
          "2016-01-01 6:06:02",
          "2016-01-01 6:06:02",
          "2016-01-01 6:04:29"
         ],
         "y": [
          4.8,
          4.8,
          5.2,
          5.2,
          null,
          3.8,
          3.8,
          4.2,
          4.2,
          null,
          2.8,
          2.8,
          3.2,
          3.2,
          null,
          1.8,
          1.8,
          2.2,
          2.2,
          null,
          0.8,
          0.8,
          1.2,
          1.2,
          null,
          -0.2,
          -0.2,
          0.2,
          0.2
         ]
        },
        {
         "fill": "toself",
         "fillcolor": "rgb(197, 215, 20)",
         "hoverinfo": "name",
         "legendgroup": "rgb(197, 215, 20)",
         "mode": "none",
         "name": "Job0",
         "type": "scatter",
         "x": [
          "2016-01-01 6:03:40",
          "2016-01-01 6:03:52",
          "2016-01-01 6:03:52",
          "2016-01-01 6:03:40",
          "2016-01-01 6:03:40",
          "2016-01-01 6:06:01",
          "2016-01-01 6:06:06",
          "2016-01-01 6:06:06",
          "2016-01-01 6:06:01",
          "2016-01-01 6:06:01",
          "2016-01-01 6:04:26",
          "2016-01-01 6:06:01",
          "2016-01-01 6:06:01",
          "2016-01-01 6:04:26",
          "2016-01-01 6:04:26",
          "2016-01-01 6:00:00",
          "2016-01-01 6:00:49",
          "2016-01-01 6:00:49",
          "2016-01-01 6:00:00",
          "2016-01-01 6:00:00",
          "2016-01-01 6:01:12",
          "2016-01-01 6:02:49",
          "2016-01-01 6:02:49",
          "2016-01-01 6:01:12",
          "2016-01-01 6:01:12",
          "2016-01-01 6:03:52",
          "2016-01-01 6:04:26",
          "2016-01-01 6:04:26",
          "2016-01-01 6:03:52"
         ],
         "y": [
          4.8,
          4.8,
          5.2,
          5.2,
          null,
          3.8,
          3.8,
          4.2,
          4.2,
          null,
          2.8,
          2.8,
          3.2,
          3.2,
          null,
          1.8,
          1.8,
          2.2,
          2.2,
          null,
          0.8,
          0.8,
          1.2,
          1.2,
          null,
          -0.2,
          -0.2,
          0.2,
          0.2
         ]
        },
        {
         "legendgroup": "rgb(111, 71, 144)",
         "marker": {
          "color": "rgb(111, 71, 144)",
          "opacity": 0,
          "size": 1
         },
         "mode": "markers",
         "name": "",
         "showlegend": false,
         "text": [
          null,
          null,
          null,
          null,
          null,
          null,
          null,
          null,
          null,
          null,
          null,
          null
         ],
         "type": "scatter",
         "x": [
          "2016-01-01 6:03:52",
          "2016-01-01 6:04:13",
          "2016-01-01 6:00:00",
          "2016-01-01 6:00:27",
          "2016-01-01 6:06:01",
          "2016-01-01 6:06:33",
          "2016-01-01 6:00:49",
          "2016-01-01 6:02:20",
          "2016-01-01 6:04:13",
          "2016-01-01 6:04:57",
          "2016-01-01 6:02:20",
          "2016-01-01 6:02:27"
         ],
         "y": [
          5,
          5,
          4,
          4,
          3,
          3,
          2,
          2,
          1,
          1,
          0,
          0
         ]
        },
        {
         "legendgroup": "rgb(132, 248, 207)",
         "marker": {
          "color": "rgb(132, 248, 207)",
          "opacity": 0,
          "size": 1
         },
         "mode": "markers",
         "name": "",
         "showlegend": false,
         "text": [
          null,
          null,
          null,
          null,
          null,
          null,
          null,
          null,
          null,
          null,
          null,
          null
         ],
         "type": "scatter",
         "x": [
          "2016-01-01 6:00:00",
          "2016-01-01 6:01:11",
          "2016-01-01 6:02:21",
          "2016-01-01 6:03:32",
          "2016-01-01 6:04:16",
          "2016-01-01 6:04:22",
          "2016-01-01 6:04:29",
          "2016-01-01 6:06:05",
          "2016-01-01 6:03:32",
          "2016-01-01 6:03:55",
          "2016-01-01 6:04:26",
          "2016-01-01 6:04:29"
         ],
         "y": [
          5,
          5,
          4,
          4,
          3,
          3,
          2,
          2,
          1,
          1,
          0,
          0
         ]
        },
        {
         "legendgroup": "rgb(155, 244, 183)",
         "marker": {
          "color": "rgb(155, 244, 183)",
          "opacity": 0,
          "size": 1
         },
         "mode": "markers",
         "name": "",
         "showlegend": false,
         "text": [
          null,
          null,
          null,
          null,
          null,
          null,
          null,
          null,
          null,
          null,
          null,
          null
         ],
         "type": "scatter",
         "x": [
          "2016-01-01 6:02:21",
          "2016-01-01 6:03:40",
          "2016-01-01 6:01:12",
          "2016-01-01 6:02:21",
          "2016-01-01 6:03:40",
          "2016-01-01 6:04:16",
          "2016-01-01 6:06:05",
          "2016-01-01 6:07:37",
          "2016-01-01 6:00:00",
          "2016-01-01 6:01:12",
          "2016-01-01 6:04:29",
          "2016-01-01 6:06:02"
         ],
         "y": [
          5,
          5,
          4,
          4,
          3,
          3,
          2,
          2,
          1,
          1,
          0,
          0
         ]
        },
        {
         "legendgroup": "rgb(197, 215, 20)",
         "marker": {
          "color": "rgb(197, 215, 20)",
          "opacity": 0,
          "size": 1
         },
         "mode": "markers",
         "name": "",
         "showlegend": false,
         "text": [
          null,
          null,
          null,
          null,
          null,
          null,
          null,
          null,
          null,
          null,
          null,
          null
         ],
         "type": "scatter",
         "x": [
          "2016-01-01 6:03:40",
          "2016-01-01 6:03:52",
          "2016-01-01 6:06:01",
          "2016-01-01 6:06:06",
          "2016-01-01 6:04:26",
          "2016-01-01 6:06:01",
          "2016-01-01 6:00:00",
          "2016-01-01 6:00:49",
          "2016-01-01 6:01:12",
          "2016-01-01 6:02:49",
          "2016-01-01 6:03:52",
          "2016-01-01 6:04:26"
         ],
         "y": [
          5,
          5,
          4,
          4,
          3,
          3,
          2,
          2,
          1,
          1,
          0,
          0
         ]
        }
       ],
       "layout": {
        "height": 600,
        "hovermode": "closest",
        "showlegend": false,
        "template": {
         "data": {
          "bar": [
           {
            "error_x": {
             "color": "#2a3f5f"
            },
            "error_y": {
             "color": "#2a3f5f"
            },
            "marker": {
             "line": {
              "color": "#E5ECF6",
              "width": 0.5
             },
             "pattern": {
              "fillmode": "overlay",
              "size": 10,
              "solidity": 0.2
             }
            },
            "type": "bar"
           }
          ],
          "barpolar": [
           {
            "marker": {
             "line": {
              "color": "#E5ECF6",
              "width": 0.5
             },
             "pattern": {
              "fillmode": "overlay",
              "size": 10,
              "solidity": 0.2
             }
            },
            "type": "barpolar"
           }
          ],
          "carpet": [
           {
            "aaxis": {
             "endlinecolor": "#2a3f5f",
             "gridcolor": "white",
             "linecolor": "white",
             "minorgridcolor": "white",
             "startlinecolor": "#2a3f5f"
            },
            "baxis": {
             "endlinecolor": "#2a3f5f",
             "gridcolor": "white",
             "linecolor": "white",
             "minorgridcolor": "white",
             "startlinecolor": "#2a3f5f"
            },
            "type": "carpet"
           }
          ],
          "choropleth": [
           {
            "colorbar": {
             "outlinewidth": 0,
             "ticks": ""
            },
            "type": "choropleth"
           }
          ],
          "contour": [
           {
            "colorbar": {
             "outlinewidth": 0,
             "ticks": ""
            },
            "colorscale": [
             [
              0,
              "#0d0887"
             ],
             [
              0.1111111111111111,
              "#46039f"
             ],
             [
              0.2222222222222222,
              "#7201a8"
             ],
             [
              0.3333333333333333,
              "#9c179e"
             ],
             [
              0.4444444444444444,
              "#bd3786"
             ],
             [
              0.5555555555555556,
              "#d8576b"
             ],
             [
              0.6666666666666666,
              "#ed7953"
             ],
             [
              0.7777777777777778,
              "#fb9f3a"
             ],
             [
              0.8888888888888888,
              "#fdca26"
             ],
             [
              1,
              "#f0f921"
             ]
            ],
            "type": "contour"
           }
          ],
          "contourcarpet": [
           {
            "colorbar": {
             "outlinewidth": 0,
             "ticks": ""
            },
            "type": "contourcarpet"
           }
          ],
          "heatmap": [
           {
            "colorbar": {
             "outlinewidth": 0,
             "ticks": ""
            },
            "colorscale": [
             [
              0,
              "#0d0887"
             ],
             [
              0.1111111111111111,
              "#46039f"
             ],
             [
              0.2222222222222222,
              "#7201a8"
             ],
             [
              0.3333333333333333,
              "#9c179e"
             ],
             [
              0.4444444444444444,
              "#bd3786"
             ],
             [
              0.5555555555555556,
              "#d8576b"
             ],
             [
              0.6666666666666666,
              "#ed7953"
             ],
             [
              0.7777777777777778,
              "#fb9f3a"
             ],
             [
              0.8888888888888888,
              "#fdca26"
             ],
             [
              1,
              "#f0f921"
             ]
            ],
            "type": "heatmap"
           }
          ],
          "heatmapgl": [
           {
            "colorbar": {
             "outlinewidth": 0,
             "ticks": ""
            },
            "colorscale": [
             [
              0,
              "#0d0887"
             ],
             [
              0.1111111111111111,
              "#46039f"
             ],
             [
              0.2222222222222222,
              "#7201a8"
             ],
             [
              0.3333333333333333,
              "#9c179e"
             ],
             [
              0.4444444444444444,
              "#bd3786"
             ],
             [
              0.5555555555555556,
              "#d8576b"
             ],
             [
              0.6666666666666666,
              "#ed7953"
             ],
             [
              0.7777777777777778,
              "#fb9f3a"
             ],
             [
              0.8888888888888888,
              "#fdca26"
             ],
             [
              1,
              "#f0f921"
             ]
            ],
            "type": "heatmapgl"
           }
          ],
          "histogram": [
           {
            "marker": {
             "pattern": {
              "fillmode": "overlay",
              "size": 10,
              "solidity": 0.2
             }
            },
            "type": "histogram"
           }
          ],
          "histogram2d": [
           {
            "colorbar": {
             "outlinewidth": 0,
             "ticks": ""
            },
            "colorscale": [
             [
              0,
              "#0d0887"
             ],
             [
              0.1111111111111111,
              "#46039f"
             ],
             [
              0.2222222222222222,
              "#7201a8"
             ],
             [
              0.3333333333333333,
              "#9c179e"
             ],
             [
              0.4444444444444444,
              "#bd3786"
             ],
             [
              0.5555555555555556,
              "#d8576b"
             ],
             [
              0.6666666666666666,
              "#ed7953"
             ],
             [
              0.7777777777777778,
              "#fb9f3a"
             ],
             [
              0.8888888888888888,
              "#fdca26"
             ],
             [
              1,
              "#f0f921"
             ]
            ],
            "type": "histogram2d"
           }
          ],
          "histogram2dcontour": [
           {
            "colorbar": {
             "outlinewidth": 0,
             "ticks": ""
            },
            "colorscale": [
             [
              0,
              "#0d0887"
             ],
             [
              0.1111111111111111,
              "#46039f"
             ],
             [
              0.2222222222222222,
              "#7201a8"
             ],
             [
              0.3333333333333333,
              "#9c179e"
             ],
             [
              0.4444444444444444,
              "#bd3786"
             ],
             [
              0.5555555555555556,
              "#d8576b"
             ],
             [
              0.6666666666666666,
              "#ed7953"
             ],
             [
              0.7777777777777778,
              "#fb9f3a"
             ],
             [
              0.8888888888888888,
              "#fdca26"
             ],
             [
              1,
              "#f0f921"
             ]
            ],
            "type": "histogram2dcontour"
           }
          ],
          "mesh3d": [
           {
            "colorbar": {
             "outlinewidth": 0,
             "ticks": ""
            },
            "type": "mesh3d"
           }
          ],
          "parcoords": [
           {
            "line": {
             "colorbar": {
              "outlinewidth": 0,
              "ticks": ""
             }
            },
            "type": "parcoords"
           }
          ],
          "pie": [
           {
            "automargin": true,
            "type": "pie"
           }
          ],
          "scatter": [
           {
            "fillpattern": {
             "fillmode": "overlay",
             "size": 10,
             "solidity": 0.2
            },
            "type": "scatter"
           }
          ],
          "scatter3d": [
           {
            "line": {
             "colorbar": {
              "outlinewidth": 0,
              "ticks": ""
             }
            },
            "marker": {
             "colorbar": {
              "outlinewidth": 0,
              "ticks": ""
             }
            },
            "type": "scatter3d"
           }
          ],
          "scattercarpet": [
           {
            "marker": {
             "colorbar": {
              "outlinewidth": 0,
              "ticks": ""
             }
            },
            "type": "scattercarpet"
           }
          ],
          "scattergeo": [
           {
            "marker": {
             "colorbar": {
              "outlinewidth": 0,
              "ticks": ""
             }
            },
            "type": "scattergeo"
           }
          ],
          "scattergl": [
           {
            "marker": {
             "colorbar": {
              "outlinewidth": 0,
              "ticks": ""
             }
            },
            "type": "scattergl"
           }
          ],
          "scattermapbox": [
           {
            "marker": {
             "colorbar": {
              "outlinewidth": 0,
              "ticks": ""
             }
            },
            "type": "scattermapbox"
           }
          ],
          "scatterpolar": [
           {
            "marker": {
             "colorbar": {
              "outlinewidth": 0,
              "ticks": ""
             }
            },
            "type": "scatterpolar"
           }
          ],
          "scatterpolargl": [
           {
            "marker": {
             "colorbar": {
              "outlinewidth": 0,
              "ticks": ""
             }
            },
            "type": "scatterpolargl"
           }
          ],
          "scatterternary": [
           {
            "marker": {
             "colorbar": {
              "outlinewidth": 0,
              "ticks": ""
             }
            },
            "type": "scatterternary"
           }
          ],
          "surface": [
           {
            "colorbar": {
             "outlinewidth": 0,
             "ticks": ""
            },
            "colorscale": [
             [
              0,
              "#0d0887"
             ],
             [
              0.1111111111111111,
              "#46039f"
             ],
             [
              0.2222222222222222,
              "#7201a8"
             ],
             [
              0.3333333333333333,
              "#9c179e"
             ],
             [
              0.4444444444444444,
              "#bd3786"
             ],
             [
              0.5555555555555556,
              "#d8576b"
             ],
             [
              0.6666666666666666,
              "#ed7953"
             ],
             [
              0.7777777777777778,
              "#fb9f3a"
             ],
             [
              0.8888888888888888,
              "#fdca26"
             ],
             [
              1,
              "#f0f921"
             ]
            ],
            "type": "surface"
           }
          ],
          "table": [
           {
            "cells": {
             "fill": {
              "color": "#EBF0F8"
             },
             "line": {
              "color": "white"
             }
            },
            "header": {
             "fill": {
              "color": "#C8D4E3"
             },
             "line": {
              "color": "white"
             }
            },
            "type": "table"
           }
          ]
         },
         "layout": {
          "annotationdefaults": {
           "arrowcolor": "#2a3f5f",
           "arrowhead": 0,
           "arrowwidth": 1
          },
          "autotypenumbers": "strict",
          "coloraxis": {
           "colorbar": {
            "outlinewidth": 0,
            "ticks": ""
           }
          },
          "colorscale": {
           "diverging": [
            [
             0,
             "#8e0152"
            ],
            [
             0.1,
             "#c51b7d"
            ],
            [
             0.2,
             "#de77ae"
            ],
            [
             0.3,
             "#f1b6da"
            ],
            [
             0.4,
             "#fde0ef"
            ],
            [
             0.5,
             "#f7f7f7"
            ],
            [
             0.6,
             "#e6f5d0"
            ],
            [
             0.7,
             "#b8e186"
            ],
            [
             0.8,
             "#7fbc41"
            ],
            [
             0.9,
             "#4d9221"
            ],
            [
             1,
             "#276419"
            ]
           ],
           "sequential": [
            [
             0,
             "#0d0887"
            ],
            [
             0.1111111111111111,
             "#46039f"
            ],
            [
             0.2222222222222222,
             "#7201a8"
            ],
            [
             0.3333333333333333,
             "#9c179e"
            ],
            [
             0.4444444444444444,
             "#bd3786"
            ],
            [
             0.5555555555555556,
             "#d8576b"
            ],
            [
             0.6666666666666666,
             "#ed7953"
            ],
            [
             0.7777777777777778,
             "#fb9f3a"
            ],
            [
             0.8888888888888888,
             "#fdca26"
            ],
            [
             1,
             "#f0f921"
            ]
           ],
           "sequentialminus": [
            [
             0,
             "#0d0887"
            ],
            [
             0.1111111111111111,
             "#46039f"
            ],
            [
             0.2222222222222222,
             "#7201a8"
            ],
            [
             0.3333333333333333,
             "#9c179e"
            ],
            [
             0.4444444444444444,
             "#bd3786"
            ],
            [
             0.5555555555555556,
             "#d8576b"
            ],
            [
             0.6666666666666666,
             "#ed7953"
            ],
            [
             0.7777777777777778,
             "#fb9f3a"
            ],
            [
             0.8888888888888888,
             "#fdca26"
            ],
            [
             1,
             "#f0f921"
            ]
           ]
          },
          "colorway": [
           "#636efa",
           "#EF553B",
           "#00cc96",
           "#ab63fa",
           "#FFA15A",
           "#19d3f3",
           "#FF6692",
           "#B6E880",
           "#FF97FF",
           "#FECB52"
          ],
          "font": {
           "color": "#2a3f5f"
          },
          "geo": {
           "bgcolor": "white",
           "lakecolor": "white",
           "landcolor": "#E5ECF6",
           "showlakes": true,
           "showland": true,
           "subunitcolor": "white"
          },
          "hoverlabel": {
           "align": "left"
          },
          "hovermode": "closest",
          "mapbox": {
           "style": "light"
          },
          "paper_bgcolor": "white",
          "plot_bgcolor": "#E5ECF6",
          "polar": {
           "angularaxis": {
            "gridcolor": "white",
            "linecolor": "white",
            "ticks": ""
           },
           "bgcolor": "#E5ECF6",
           "radialaxis": {
            "gridcolor": "white",
            "linecolor": "white",
            "ticks": ""
           }
          },
          "scene": {
           "xaxis": {
            "backgroundcolor": "#E5ECF6",
            "gridcolor": "white",
            "gridwidth": 2,
            "linecolor": "white",
            "showbackground": true,
            "ticks": "",
            "zerolinecolor": "white"
           },
           "yaxis": {
            "backgroundcolor": "#E5ECF6",
            "gridcolor": "white",
            "gridwidth": 2,
            "linecolor": "white",
            "showbackground": true,
            "ticks": "",
            "zerolinecolor": "white"
           },
           "zaxis": {
            "backgroundcolor": "#E5ECF6",
            "gridcolor": "white",
            "gridwidth": 2,
            "linecolor": "white",
            "showbackground": true,
            "ticks": "",
            "zerolinecolor": "white"
           }
          },
          "shapedefaults": {
           "line": {
            "color": "#2a3f5f"
           }
          },
          "ternary": {
           "aaxis": {
            "gridcolor": "white",
            "linecolor": "white",
            "ticks": ""
           },
           "baxis": {
            "gridcolor": "white",
            "linecolor": "white",
            "ticks": ""
           },
           "bgcolor": "#E5ECF6",
           "caxis": {
            "gridcolor": "white",
            "linecolor": "white",
            "ticks": ""
           }
          },
          "title": {
           "x": 0.05
          },
          "xaxis": {
           "automargin": true,
           "gridcolor": "white",
           "linecolor": "white",
           "ticks": "",
           "title": {
            "standoff": 15
           },
           "zerolinecolor": "white",
           "zerolinewidth": 2
          },
          "yaxis": {
           "automargin": true,
           "gridcolor": "white",
           "linecolor": "white",
           "ticks": "",
           "title": {
            "standoff": 15
           },
           "zerolinecolor": "white",
           "zerolinewidth": 2
          }
         }
        },
        "title": {
         "text": "CPModel"
        },
        "xaxis": {
         "rangeselector": {
          "buttons": [
           {
            "count": 7,
            "label": "1w",
            "step": "day",
            "stepmode": "backward"
           },
           {
            "count": 1,
            "label": "1m",
            "step": "month",
            "stepmode": "backward"
           },
           {
            "count": 6,
            "label": "6m",
            "step": "month",
            "stepmode": "backward"
           },
           {
            "count": 1,
            "label": "YTD",
            "step": "year",
            "stepmode": "todate"
           },
           {
            "count": 1,
            "label": "1y",
            "step": "year",
            "stepmode": "backward"
           },
           {
            "step": "all"
           }
          ]
         },
         "showgrid": true,
         "type": "date",
         "zeroline": false
        },
        "yaxis": {
         "autorange": false,
         "range": [
          -1,
          7
         ],
         "showgrid": true,
         "ticktext": [
          "Resource5",
          "Resource4",
          "Resource3",
          "Resource2",
          "Resource1",
          "Resource0"
         ],
         "tickvals": [
          0,
          1,
          2,
          3,
          4,
          5
         ],
         "zeroline": false
        }
       }
      }
     },
     "metadata": {},
     "output_type": "display_data"
    },
    {
     "name": "stdout",
     "output_type": "stream",
     "text": [
      "Constraint programming model summary: \n",
      "CpSolverResponse summary:\n",
      "status: OPTIMAL\n",
      "objective: 457\n",
      "best_bound: 457\n",
      "integers: 25\n",
      "booleans: 0\n",
      "conflicts: 0\n",
      "branches: 0\n",
      "propagations: 0\n",
      "integer_propagations: 0\n",
      "restarts: 0\n",
      "lp_iterations: 0\n",
      "walltime: 0.0833185\n",
      "usertime: 0.0833185\n",
      "deterministic_time: 8.5398e-05\n",
      "gap_integral: 0.000147283\n",
      "solution_fingerprint: 0x8e6e3e9a07b0cf68\n",
      "\n",
      "no_lp\n"
     ]
    }
   ],
   "source": [
    "durations, machines = jobshop_data_gen(4, 6, 50)\n",
    "model = CPModel(durations, machines)\n",
    "x = model.solve()\n",
    "model.summary()"
   ]
  },
  {
   "cell_type": "markdown",
   "metadata": {},
   "source": [
    "### Solve Taillard instances using CP-SAT"
   ]
  },
  {
   "cell_type": "code",
   "execution_count": 6,
   "metadata": {},
   "outputs": [
    {
     "name": "stdout",
     "output_type": "stream",
     "text": [
      "OPTIMAL : 1231.0\n"
     ]
    },
    {
     "data": {
      "application/vnd.plotly.v1+json": {
       "config": {
        "plotlyServerURL": "https://plot.ly"
       },
       "data": [
        {
         "fill": "toself",
         "fillcolor": "rgb(0, 252, 170)",
         "hoverinfo": "name",
         "legendgroup": "rgb(0, 252, 170)",
         "mode": "none",
         "name": "Job11",
         "type": "scatter",
         "x": [
          "2016-01-01 6:01:34",
          "2016-01-01 6:02:49",
          "2016-01-01 6:02:49",
          "2016-01-01 6:01:34",
          "2016-01-01 6:01:34",
          "2016-01-01 6:10:52",
          "2016-01-01 6:11:37",
          "2016-01-01 6:11:37",
          "2016-01-01 6:10:52",
          "2016-01-01 6:10:52",
          "2016-01-01 6:05:17",
          "2016-01-01 6:05:20",
          "2016-01-01 6:05:20",
          "2016-01-01 6:05:17",
          "2016-01-01 6:05:17",
          "2016-01-01 6:17:12",
          "2016-01-01 6:18:10",
          "2016-01-01 6:18:10",
          "2016-01-01 6:17:12",
          "2016-01-01 6:17:12",
          "2016-01-01 6:03:46",
          "2016-01-01 6:03:54",
          "2016-01-01 6:03:54",
          "2016-01-01 6:03:46",
          "2016-01-01 6:03:46",
          "2016-01-01 6:08:48",
          "2016-01-01 6:09:57",
          "2016-01-01 6:09:57",
          "2016-01-01 6:08:48",
          "2016-01-01 6:08:48",
          "2016-01-01 6:00:49",
          "2016-01-01 6:01:32",
          "2016-01-01 6:01:32",
          "2016-01-01 6:00:49",
          "2016-01-01 6:00:49",
          "2016-01-01 6:00:00",
          "2016-01-01 6:00:47",
          "2016-01-01 6:00:47",
          "2016-01-01 6:00:00",
          "2016-01-01 6:00:00",
          "2016-01-01 6:11:40",
          "2016-01-01 6:12:47",
          "2016-01-01 6:12:47",
          "2016-01-01 6:11:40",
          "2016-01-01 6:11:40",
          "2016-01-01 6:18:19",
          "2016-01-01 6:19:46",
          "2016-01-01 6:19:46",
          "2016-01-01 6:18:19",
          "2016-01-01 6:18:19",
          "2016-01-01 6:06:46",
          "2016-01-01 6:07:20",
          "2016-01-01 6:07:20",
          "2016-01-01 6:06:46",
          "2016-01-01 6:06:46",
          "2016-01-01 6:04:24",
          "2016-01-01 6:05:15",
          "2016-01-01 6:05:15",
          "2016-01-01 6:04:24",
          "2016-01-01 6:04:24",
          "2016-01-01 6:05:22",
          "2016-01-01 6:06:46",
          "2016-01-01 6:06:46",
          "2016-01-01 6:05:22",
          "2016-01-01 6:05:22",
          "2016-01-01 6:07:20",
          "2016-01-01 6:07:48",
          "2016-01-01 6:07:48",
          "2016-01-01 6:07:20",
          "2016-01-01 6:07:20",
          "2016-01-01 6:07:48",
          "2016-01-01 6:08:48",
          "2016-01-01 6:08:48",
          "2016-01-01 6:07:48"
         ],
         "y": [
          13.8,
          13.8,
          14.2,
          14.2,
          null,
          12.8,
          12.8,
          13.2,
          13.2,
          null,
          11.8,
          11.8,
          12.2,
          12.2,
          null,
          10.8,
          10.8,
          11.2,
          11.2,
          null,
          9.8,
          9.8,
          10.2,
          10.2,
          null,
          8.8,
          8.8,
          9.2,
          9.2,
          null,
          7.8,
          7.8,
          8.2,
          8.2,
          null,
          6.8,
          6.8,
          7.2,
          7.2,
          null,
          5.8,
          5.8,
          6.2,
          6.2,
          null,
          4.8,
          4.8,
          5.2,
          5.2,
          null,
          3.8,
          3.8,
          4.2,
          4.2,
          null,
          2.8,
          2.8,
          3.2,
          3.2,
          null,
          1.8,
          1.8,
          2.2,
          2.2,
          null,
          0.8,
          0.8,
          1.2,
          1.2,
          null,
          -0.2,
          -0.2,
          0.2,
          0.2
         ]
        },
        {
         "fill": "toself",
         "fillcolor": "rgb(111, 71, 144)",
         "hoverinfo": "name",
         "legendgroup": "rgb(111, 71, 144)",
         "mode": "none",
         "name": "Job3",
         "type": "scatter",
         "x": [
          "2016-01-01 6:05:44",
          "2016-01-01 6:07:18",
          "2016-01-01 6:07:18",
          "2016-01-01 6:05:44",
          "2016-01-01 6:05:44",
          "2016-01-01 6:15:57",
          "2016-01-01 6:17:29",
          "2016-01-01 6:17:29",
          "2016-01-01 6:15:57",
          "2016-01-01 6:15:57",
          "2016-01-01 6:04:24",
          "2016-01-01 6:05:17",
          "2016-01-01 6:05:17",
          "2016-01-01 6:04:24",
          "2016-01-01 6:04:24",
          "2016-01-01 6:13:50",
          "2016-01-01 6:14:20",
          "2016-01-01 6:14:20",
          "2016-01-01 6:13:50",
          "2016-01-01 6:13:50",
          "2016-01-01 6:15:22",
          "2016-01-01 6:15:49",
          "2016-01-01 6:15:49",
          "2016-01-01 6:15:22",
          "2016-01-01 6:15:22",
          "2016-01-01 6:07:18",
          "2016-01-01 6:08:16",
          "2016-01-01 6:08:16",
          "2016-01-01 6:07:18",
          "2016-01-01 6:07:18",
          "2016-01-01 6:10:23",
          "2016-01-01 6:11:54",
          "2016-01-01 6:11:54",
          "2016-01-01 6:10:23",
          "2016-01-01 6:10:23",
          "2016-01-01 6:03:01",
          "2016-01-01 6:03:24",
          "2016-01-01 6:03:24",
          "2016-01-01 6:03:01",
          "2016-01-01 6:03:01",
          "2016-01-01 6:20:07",
          "2016-01-01 6:20:16",
          "2016-01-01 6:20:16",
          "2016-01-01 6:20:07",
          "2016-01-01 6:20:07",
          "2016-01-01 6:08:16",
          "2016-01-01 6:09:49",
          "2016-01-01 6:09:49",
          "2016-01-01 6:08:16",
          "2016-01-01 6:08:16",
          "2016-01-01 6:01:25",
          "2016-01-01 6:02:38",
          "2016-01-01 6:02:38",
          "2016-01-01 6:01:25",
          "2016-01-01 6:01:25",
          "2016-01-01 6:03:54",
          "2016-01-01 6:04:24",
          "2016-01-01 6:04:24",
          "2016-01-01 6:03:54",
          "2016-01-01 6:03:54",
          "2016-01-01 6:09:49",
          "2016-01-01 6:10:21",
          "2016-01-01 6:10:21",
          "2016-01-01 6:09:49",
          "2016-01-01 6:09:49",
          "2016-01-01 6:14:20",
          "2016-01-01 6:15:16",
          "2016-01-01 6:15:16",
          "2016-01-01 6:14:20",
          "2016-01-01 6:14:20",
          "2016-01-01 6:03:24",
          "2016-01-01 6:03:54",
          "2016-01-01 6:03:54",
          "2016-01-01 6:03:24"
         ],
         "y": [
          13.8,
          13.8,
          14.2,
          14.2,
          null,
          12.8,
          12.8,
          13.2,
          13.2,
          null,
          11.8,
          11.8,
          12.2,
          12.2,
          null,
          10.8,
          10.8,
          11.2,
          11.2,
          null,
          9.8,
          9.8,
          10.2,
          10.2,
          null,
          8.8,
          8.8,
          9.2,
          9.2,
          null,
          7.8,
          7.8,
          8.2,
          8.2,
          null,
          6.8,
          6.8,
          7.2,
          7.2,
          null,
          5.8,
          5.8,
          6.2,
          6.2,
          null,
          4.8,
          4.8,
          5.2,
          5.2,
          null,
          3.8,
          3.8,
          4.2,
          4.2,
          null,
          2.8,
          2.8,
          3.2,
          3.2,
          null,
          1.8,
          1.8,
          2.2,
          2.2,
          null,
          0.8,
          0.8,
          1.2,
          1.2,
          null,
          -0.2,
          -0.2,
          0.2,
          0.2
         ]
        },
        {
         "fill": "toself",
         "fillcolor": "rgb(124, 166, 32)",
         "hoverinfo": "name",
         "legendgroup": "rgb(124, 166, 32)",
         "mode": "none",
         "name": "Job12",
         "type": "scatter",
         "x": [
          "2016-01-01 6:09:36",
          "2016-01-01 6:10:53",
          "2016-01-01 6:10:53",
          "2016-01-01 6:09:36",
          "2016-01-01 6:09:36",
          "2016-01-01 6:13:36",
          "2016-01-01 6:14:24",
          "2016-01-01 6:14:24",
          "2016-01-01 6:13:36",
          "2016-01-01 6:13:36",
          "2016-01-01 6:05:20",
          "2016-01-01 6:06:57",
          "2016-01-01 6:06:57",
          "2016-01-01 6:05:20",
          "2016-01-01 6:05:20",
          "2016-01-01 6:14:25",
          "2016-01-01 6:15:55",
          "2016-01-01 6:15:55",
          "2016-01-01 6:14:25",
          "2016-01-01 6:14:25",
          "2016-01-01 6:15:55",
          "2016-01-01 6:17:10",
          "2016-01-01 6:17:10",
          "2016-01-01 6:15:55",
          "2016-01-01 6:15:55",
          "2016-01-01 6:10:54",
          "2016-01-01 6:11:44",
          "2016-01-01 6:11:44",
          "2016-01-01 6:10:54",
          "2016-01-01 6:10:54",
          "2016-01-01 6:19:39",
          "2016-01-01 6:20:23",
          "2016-01-01 6:20:23",
          "2016-01-01 6:19:39",
          "2016-01-01 6:19:39",
          "2016-01-01 6:06:57",
          "2016-01-01 6:07:17",
          "2016-01-01 6:07:17",
          "2016-01-01 6:06:57",
          "2016-01-01 6:06:57",
          "2016-01-01 6:07:17",
          "2016-01-01 6:07:48",
          "2016-01-01 6:07:48",
          "2016-01-01 6:07:17",
          "2016-01-01 6:07:17",
          "2016-01-01 6:11:59",
          "2016-01-01 6:13:19",
          "2016-01-01 6:13:19",
          "2016-01-01 6:11:59",
          "2016-01-01 6:11:59",
          "2016-01-01 6:02:38",
          "2016-01-01 6:03:43",
          "2016-01-01 6:03:43",
          "2016-01-01 6:02:38",
          "2016-01-01 6:02:38",
          "2016-01-01 6:08:30",
          "2016-01-01 6:09:03",
          "2016-01-01 6:09:03",
          "2016-01-01 6:08:30",
          "2016-01-01 6:08:30",
          "2016-01-01 6:17:17",
          "2016-01-01 6:18:53",
          "2016-01-01 6:18:53",
          "2016-01-01 6:17:17",
          "2016-01-01 6:17:17",
          "2016-01-01 6:03:43",
          "2016-01-01 6:04:45",
          "2016-01-01 6:04:45",
          "2016-01-01 6:03:43",
          "2016-01-01 6:03:43",
          "2016-01-01 6:09:03",
          "2016-01-01 6:09:36",
          "2016-01-01 6:09:36",
          "2016-01-01 6:09:03"
         ],
         "y": [
          13.8,
          13.8,
          14.2,
          14.2,
          null,
          12.8,
          12.8,
          13.2,
          13.2,
          null,
          11.8,
          11.8,
          12.2,
          12.2,
          null,
          10.8,
          10.8,
          11.2,
          11.2,
          null,
          9.8,
          9.8,
          10.2,
          10.2,
          null,
          8.8,
          8.8,
          9.2,
          9.2,
          null,
          7.8,
          7.8,
          8.2,
          8.2,
          null,
          6.8,
          6.8,
          7.2,
          7.2,
          null,
          5.8,
          5.8,
          6.2,
          6.2,
          null,
          4.8,
          4.8,
          5.2,
          5.2,
          null,
          3.8,
          3.8,
          4.2,
          4.2,
          null,
          2.8,
          2.8,
          3.2,
          3.2,
          null,
          1.8,
          1.8,
          2.2,
          2.2,
          null,
          0.8,
          0.8,
          1.2,
          1.2,
          null,
          -0.2,
          -0.2,
          0.2,
          0.2
         ]
        },
        {
         "fill": "toself",
         "fillcolor": "rgb(132, 248, 207)",
         "hoverinfo": "name",
         "legendgroup": "rgb(132, 248, 207)",
         "mode": "none",
         "name": "Job1",
         "type": "scatter",
         "x": [
          "2016-01-01 6:16:00",
          "2016-01-01 6:16:18",
          "2016-01-01 6:16:18",
          "2016-01-01 6:16:00",
          "2016-01-01 6:16:00",
          "2016-01-01 6:17:29",
          "2016-01-01 6:19:08",
          "2016-01-01 6:19:08",
          "2016-01-01 6:17:29",
          "2016-01-01 6:17:29",
          "2016-01-01 6:14:36",
          "2016-01-01 6:15:55",
          "2016-01-01 6:15:55",
          "2016-01-01 6:14:36",
          "2016-01-01 6:14:36",
          "2016-01-01 6:12:50",
          "2016-01-01 6:12:58",
          "2016-01-01 6:12:58",
          "2016-01-01 6:12:50",
          "2016-01-01 6:12:50",
          "2016-01-01 6:17:10",
          "2016-01-01 6:17:28",
          "2016-01-01 6:17:28",
          "2016-01-01 6:17:10",
          "2016-01-01 6:17:10",
          "2016-01-01 6:09:57",
          "2016-01-01 6:10:54",
          "2016-01-01 6:10:54",
          "2016-01-01 6:09:57",
          "2016-01-01 6:09:57",
          "2016-01-01 6:08:27",
          "2016-01-01 6:09:18",
          "2016-01-01 6:09:18",
          "2016-01-01 6:08:27",
          "2016-01-01 6:08:27",
          "2016-01-01 6:19:49",
          "2016-01-01 6:20:22",
          "2016-01-01 6:20:22",
          "2016-01-01 6:19:49",
          "2016-01-01 6:19:49",
          "2016-01-01 6:16:18",
          "2016-01-01 6:17:09",
          "2016-01-01 6:17:09",
          "2016-01-01 6:16:18",
          "2016-01-01 6:16:18",
          "2016-01-01 6:03:59",
          "2016-01-01 6:05:13",
          "2016-01-01 6:05:13",
          "2016-01-01 6:03:59",
          "2016-01-01 6:03:59",
          "2016-01-01 6:06:02",
          "2016-01-01 6:06:33",
          "2016-01-01 6:06:33",
          "2016-01-01 6:06:02",
          "2016-01-01 6:06:02",
          "2016-01-01 6:13:05",
          "2016-01-01 6:14:36",
          "2016-01-01 6:14:36",
          "2016-01-01 6:13:05",
          "2016-01-01 6:13:05",
          "2016-01-01 6:06:46",
          "2016-01-01 6:08:14",
          "2016-01-01 6:08:14",
          "2016-01-01 6:06:46",
          "2016-01-01 6:06:46",
          "2016-01-01 6:11:32",
          "2016-01-01 6:12:50",
          "2016-01-01 6:12:50",
          "2016-01-01 6:11:32",
          "2016-01-01 6:11:32",
          "2016-01-01 6:12:58",
          "2016-01-01 6:13:05",
          "2016-01-01 6:13:05",
          "2016-01-01 6:12:58"
         ],
         "y": [
          13.8,
          13.8,
          14.2,
          14.2,
          null,
          12.8,
          12.8,
          13.2,
          13.2,
          null,
          11.8,
          11.8,
          12.2,
          12.2,
          null,
          10.8,
          10.8,
          11.2,
          11.2,
          null,
          9.8,
          9.8,
          10.2,
          10.2,
          null,
          8.8,
          8.8,
          9.2,
          9.2,
          null,
          7.8,
          7.8,
          8.2,
          8.2,
          null,
          6.8,
          6.8,
          7.2,
          7.2,
          null,
          5.8,
          5.8,
          6.2,
          6.2,
          null,
          4.8,
          4.8,
          5.2,
          5.2,
          null,
          3.8,
          3.8,
          4.2,
          4.2,
          null,
          2.8,
          2.8,
          3.2,
          3.2,
          null,
          1.8,
          1.8,
          2.2,
          2.2,
          null,
          0.8,
          0.8,
          1.2,
          1.2,
          null,
          -0.2,
          -0.2,
          0.2,
          0.2
         ]
        },
        {
         "fill": "toself",
         "fillcolor": "rgb(155, 244, 183)",
         "hoverinfo": "name",
         "legendgroup": "rgb(155, 244, 183)",
         "mode": "none",
         "name": "Job2",
         "type": "scatter",
         "x": [
          "2016-01-01 6:13:19",
          "2016-01-01 6:14:13",
          "2016-01-01 6:14:13",
          "2016-01-01 6:13:19",
          "2016-01-01 6:13:19",
          "2016-01-01 6:00:00",
          "2016-01-01 6:00:04",
          "2016-01-01 6:00:04",
          "2016-01-01 6:00:00",
          "2016-01-01 6:00:00",
          "2016-01-01 6:16:43",
          "2016-01-01 6:17:03",
          "2016-01-01 6:17:03",
          "2016-01-01 6:16:43",
          "2016-01-01 6:16:43",
          "2016-01-01 6:11:28",
          "2016-01-01 6:12:22",
          "2016-01-01 6:12:22",
          "2016-01-01 6:11:28",
          "2016-01-01 6:11:28",
          "2016-01-01 6:07:25",
          "2016-01-01 6:08:51",
          "2016-01-01 6:08:51",
          "2016-01-01 6:07:25",
          "2016-01-01 6:07:25",
          "2016-01-01 6:12:52",
          "2016-01-01 6:13:13",
          "2016-01-01 6:13:13",
          "2016-01-01 6:12:52",
          "2016-01-01 6:12:52",
          "2016-01-01 6:18:31",
          "2016-01-01 6:19:39",
          "2016-01-01 6:19:39",
          "2016-01-01 6:18:31",
          "2016-01-01 6:18:31",
          "2016-01-01 6:14:13",
          "2016-01-01 6:15:21",
          "2016-01-01 6:15:21",
          "2016-01-01 6:14:13",
          "2016-01-01 6:14:13",
          "2016-01-01 6:17:56",
          "2016-01-01 6:18:31",
          "2016-01-01 6:18:31",
          "2016-01-01 6:17:56",
          "2016-01-01 6:17:56",
          "2016-01-01 6:17:03",
          "2016-01-01 6:17:42",
          "2016-01-01 6:17:42",
          "2016-01-01 6:17:03",
          "2016-01-01 6:17:03",
          "2016-01-01 6:13:13",
          "2016-01-01 6:13:19",
          "2016-01-01 6:13:19",
          "2016-01-01 6:13:13",
          "2016-01-01 6:13:13",
          "2016-01-01 6:10:32",
          "2016-01-01 6:11:22",
          "2016-01-01 6:11:22",
          "2016-01-01 6:10:32",
          "2016-01-01 6:10:32",
          "2016-01-01 6:15:21",
          "2016-01-01 6:16:43",
          "2016-01-01 6:16:43",
          "2016-01-01 6:15:21",
          "2016-01-01 6:15:21",
          "2016-01-01 6:04:45",
          "2016-01-01 6:06:07",
          "2016-01-01 6:06:07",
          "2016-01-01 6:04:45",
          "2016-01-01 6:04:45",
          "2016-01-01 6:06:07",
          "2016-01-01 6:06:47",
          "2016-01-01 6:06:47",
          "2016-01-01 6:06:07"
         ],
         "y": [
          13.8,
          13.8,
          14.2,
          14.2,
          null,
          12.8,
          12.8,
          13.2,
          13.2,
          null,
          11.8,
          11.8,
          12.2,
          12.2,
          null,
          10.8,
          10.8,
          11.2,
          11.2,
          null,
          9.8,
          9.8,
          10.2,
          10.2,
          null,
          8.8,
          8.8,
          9.2,
          9.2,
          null,
          7.8,
          7.8,
          8.2,
          8.2,
          null,
          6.8,
          6.8,
          7.2,
          7.2,
          null,
          5.8,
          5.8,
          6.2,
          6.2,
          null,
          4.8,
          4.8,
          5.2,
          5.2,
          null,
          3.8,
          3.8,
          4.2,
          4.2,
          null,
          2.8,
          2.8,
          3.2,
          3.2,
          null,
          1.8,
          1.8,
          2.2,
          2.2,
          null,
          0.8,
          0.8,
          1.2,
          1.2,
          null,
          -0.2,
          -0.2,
          0.2,
          0.2
         ]
        },
        {
         "fill": "toself",
         "fillcolor": "rgb(161, 104, 244)",
         "hoverinfo": "name",
         "legendgroup": "rgb(161, 104, 244)",
         "mode": "none",
         "name": "Job8",
         "type": "scatter",
         "x": [
          "2016-01-01 6:05:09",
          "2016-01-01 6:05:22",
          "2016-01-01 6:05:22",
          "2016-01-01 6:05:09",
          "2016-01-01 6:05:09",
          "2016-01-01 6:05:22",
          "2016-01-01 6:06:49",
          "2016-01-01 6:06:49",
          "2016-01-01 6:05:22",
          "2016-01-01 6:05:22",
          "2016-01-01 6:00:00",
          "2016-01-01 6:01:25",
          "2016-01-01 6:01:25",
          "2016-01-01 6:00:00",
          "2016-01-01 6:00:00",
          "2016-01-01 6:01:31",
          "2016-01-01 6:02:01",
          "2016-01-01 6:02:01",
          "2016-01-01 6:01:31",
          "2016-01-01 6:01:31",
          "2016-01-01 6:12:58",
          "2016-01-01 6:14:16",
          "2016-01-01 6:14:16",
          "2016-01-01 6:12:58",
          "2016-01-01 6:12:58",
          "2016-01-01 6:18:48",
          "2016-01-01 6:20:16",
          "2016-01-01 6:20:16",
          "2016-01-01 6:18:48",
          "2016-01-01 6:18:48",
          "2016-01-01 6:03:38",
          "2016-01-01 6:05:09",
          "2016-01-01 6:05:09",
          "2016-01-01 6:03:38",
          "2016-01-01 6:03:38",
          "2016-01-01 6:08:24",
          "2016-01-01 6:09:46",
          "2016-01-01 6:09:46",
          "2016-01-01 6:08:24",
          "2016-01-01 6:08:24",
          "2016-01-01 6:20:16",
          "2016-01-01 6:20:31",
          "2016-01-01 6:20:31",
          "2016-01-01 6:20:16",
          "2016-01-01 6:20:16",
          "2016-01-01 6:14:17",
          "2016-01-01 6:15:13",
          "2016-01-01 6:15:13",
          "2016-01-01 6:14:17",
          "2016-01-01 6:14:17",
          "2016-01-01 6:11:35",
          "2016-01-01 6:12:58",
          "2016-01-01 6:12:58",
          "2016-01-01 6:11:35",
          "2016-01-01 6:11:35",
          "2016-01-01 6:02:02",
          "2016-01-01 6:03:38",
          "2016-01-01 6:03:38",
          "2016-01-01 6:02:02",
          "2016-01-01 6:02:02",
          "2016-01-01 6:16:43",
          "2016-01-01 6:16:51",
          "2016-01-01 6:16:51",
          "2016-01-01 6:16:43",
          "2016-01-01 6:16:43",
          "2016-01-01 6:15:16",
          "2016-01-01 6:16:41",
          "2016-01-01 6:16:41",
          "2016-01-01 6:15:16",
          "2016-01-01 6:15:16",
          "2016-01-01 6:16:52",
          "2016-01-01 6:17:58",
          "2016-01-01 6:17:58",
          "2016-01-01 6:16:52"
         ],
         "y": [
          13.8,
          13.8,
          14.2,
          14.2,
          null,
          12.8,
          12.8,
          13.2,
          13.2,
          null,
          11.8,
          11.8,
          12.2,
          12.2,
          null,
          10.8,
          10.8,
          11.2,
          11.2,
          null,
          9.8,
          9.8,
          10.2,
          10.2,
          null,
          8.8,
          8.8,
          9.2,
          9.2,
          null,
          7.8,
          7.8,
          8.2,
          8.2,
          null,
          6.8,
          6.8,
          7.2,
          7.2,
          null,
          5.8,
          5.8,
          6.2,
          6.2,
          null,
          4.8,
          4.8,
          5.2,
          5.2,
          null,
          3.8,
          3.8,
          4.2,
          4.2,
          null,
          2.8,
          2.8,
          3.2,
          3.2,
          null,
          1.8,
          1.8,
          2.2,
          2.2,
          null,
          0.8,
          0.8,
          1.2,
          1.2,
          null,
          -0.2,
          -0.2,
          0.2,
          0.2
         ]
        },
        {
         "fill": "toself",
         "fillcolor": "rgb(197, 215, 20)",
         "hoverinfo": "name",
         "legendgroup": "rgb(197, 215, 20)",
         "mode": "none",
         "name": "Job0",
         "type": "scatter",
         "x": [
          "2016-01-01 6:17:57",
          "2016-01-01 6:19:07",
          "2016-01-01 6:19:07",
          "2016-01-01 6:17:57",
          "2016-01-01 6:17:57",
          "2016-01-01 6:19:08",
          "2016-01-01 6:20:31",
          "2016-01-01 6:20:31",
          "2016-01-01 6:19:08",
          "2016-01-01 6:19:08",
          "2016-01-01 6:08:15",
          "2016-01-01 6:09:20",
          "2016-01-01 6:09:20",
          "2016-01-01 6:08:15",
          "2016-01-01 6:08:15",
          "2016-01-01 6:10:00",
          "2016-01-01 6:11:22",
          "2016-01-01 6:11:22",
          "2016-01-01 6:10:00",
          "2016-01-01 6:10:00",
          "2016-01-01 6:01:39",
          "2016-01-01 6:02:45",
          "2016-01-01 6:02:45",
          "2016-01-01 6:01:39",
          "2016-01-01 6:01:39",
          "2016-01-01 6:14:44",
          "2016-01-01 6:16:16",
          "2016-01-01 6:16:16",
          "2016-01-01 6:14:44",
          "2016-01-01 6:14:44",
          "2016-01-01 6:12:40",
          "2016-01-01 6:13:07",
          "2016-01-01 6:13:07",
          "2016-01-01 6:12:40",
          "2016-01-01 6:12:40",
          "2016-01-01 6:06:03",
          "2016-01-01 6:06:18",
          "2016-01-01 6:06:18",
          "2016-01-01 6:06:03",
          "2016-01-01 6:06:03",
          "2016-01-01 6:04:41",
          "2016-01-01 6:05:07",
          "2016-01-01 6:05:07",
          "2016-01-01 6:04:41",
          "2016-01-01 6:04:41",
          "2016-01-01 6:02:45",
          "2016-01-01 6:02:55",
          "2016-01-01 6:02:55",
          "2016-01-01 6:02:45",
          "2016-01-01 6:02:45",
          "2016-01-01 6:16:16",
          "2016-01-01 6:17:52",
          "2016-01-01 6:17:52",
          "2016-01-01 6:16:16",
          "2016-01-01 6:16:16",
          "2016-01-01 6:00:05",
          "2016-01-01 6:01:39",
          "2016-01-01 6:01:39",
          "2016-01-01 6:00:05",
          "2016-01-01 6:00:05",
          "2016-01-01 6:03:44",
          "2016-01-01 6:04:37",
          "2016-01-01 6:04:37",
          "2016-01-01 6:03:44",
          "2016-01-01 6:03:44",
          "2016-01-01 6:11:22",
          "2016-01-01 6:11:32",
          "2016-01-01 6:11:32",
          "2016-01-01 6:11:22",
          "2016-01-01 6:11:22",
          "2016-01-01 6:13:11",
          "2016-01-01 6:14:44",
          "2016-01-01 6:14:44",
          "2016-01-01 6:13:11"
         ],
         "y": [
          13.8,
          13.8,
          14.2,
          14.2,
          null,
          12.8,
          12.8,
          13.2,
          13.2,
          null,
          11.8,
          11.8,
          12.2,
          12.2,
          null,
          10.8,
          10.8,
          11.2,
          11.2,
          null,
          9.8,
          9.8,
          10.2,
          10.2,
          null,
          8.8,
          8.8,
          9.2,
          9.2,
          null,
          7.8,
          7.8,
          8.2,
          8.2,
          null,
          6.8,
          6.8,
          7.2,
          7.2,
          null,
          5.8,
          5.8,
          6.2,
          6.2,
          null,
          4.8,
          4.8,
          5.2,
          5.2,
          null,
          3.8,
          3.8,
          4.2,
          4.2,
          null,
          2.8,
          2.8,
          3.2,
          3.2,
          null,
          1.8,
          1.8,
          2.2,
          2.2,
          null,
          0.8,
          0.8,
          1.2,
          1.2,
          null,
          -0.2,
          -0.2,
          0.2,
          0.2
         ]
        },
        {
         "fill": "toself",
         "fillcolor": "rgb(226, 133, 31)",
         "hoverinfo": "name",
         "legendgroup": "rgb(226, 133, 31)",
         "mode": "none",
         "name": "Job9",
         "type": "scatter",
         "x": [
          "2016-01-01 6:03:42",
          "2016-01-01 6:03:59",
          "2016-01-01 6:03:59",
          "2016-01-01 6:03:42",
          "2016-01-01 6:03:42",
          "2016-01-01 6:09:43",
          "2016-01-01 6:10:52",
          "2016-01-01 6:10:52",
          "2016-01-01 6:09:43",
          "2016-01-01 6:09:43",
          "2016-01-01 6:06:57",
          "2016-01-01 6:08:15",
          "2016-01-01 6:08:15",
          "2016-01-01 6:06:57",
          "2016-01-01 6:06:57",
          "2016-01-01 6:00:32",
          "2016-01-01 6:01:31",
          "2016-01-01 6:01:31",
          "2016-01-01 6:00:32",
          "2016-01-01 6:00:32",
          "2016-01-01 6:14:37",
          "2016-01-01 6:15:22",
          "2016-01-01 6:15:22",
          "2016-01-01 6:14:37",
          "2016-01-01 6:14:37",
          "2016-01-01 6:04:21",
          "2016-01-01 6:05:27",
          "2016-01-01 6:05:27",
          "2016-01-01 6:04:21",
          "2016-01-01 6:04:21",
          "2016-01-01 6:16:48",
          "2016-01-01 6:18:10",
          "2016-01-01 6:18:10",
          "2016-01-01 6:16:48",
          "2016-01-01 6:16:48",
          "2016-01-01 6:02:01",
          "2016-01-01 6:03:01",
          "2016-01-01 6:03:01",
          "2016-01-01 6:02:01",
          "2016-01-01 6:02:01",
          "2016-01-01 6:05:27",
          "2016-01-01 6:06:56",
          "2016-01-01 6:06:56",
          "2016-01-01 6:05:27",
          "2016-01-01 6:05:27",
          "2016-01-01 6:18:13",
          "2016-01-01 6:18:19",
          "2016-01-01 6:18:19",
          "2016-01-01 6:18:13",
          "2016-01-01 6:18:13",
          "2016-01-01 6:18:41",
          "2016-01-01 6:18:54",
          "2016-01-01 6:18:54",
          "2016-01-01 6:18:41",
          "2016-01-01 6:18:41",
          "2016-01-01 6:00:00",
          "2016-01-01 6:00:05",
          "2016-01-01 6:00:05",
          "2016-01-01 6:00:00",
          "2016-01-01 6:00:00",
          "2016-01-01 6:08:15",
          "2016-01-01 6:09:43",
          "2016-01-01 6:09:43",
          "2016-01-01 6:08:15",
          "2016-01-01 6:08:15",
          "2016-01-01 6:03:01",
          "2016-01-01 6:03:42",
          "2016-01-01 6:03:42",
          "2016-01-01 6:03:01",
          "2016-01-01 6:03:01",
          "2016-01-01 6:01:31",
          "2016-01-01 6:02:01",
          "2016-01-01 6:02:01",
          "2016-01-01 6:01:31"
         ],
         "y": [
          13.8,
          13.8,
          14.2,
          14.2,
          null,
          12.8,
          12.8,
          13.2,
          13.2,
          null,
          11.8,
          11.8,
          12.2,
          12.2,
          null,
          10.8,
          10.8,
          11.2,
          11.2,
          null,
          9.8,
          9.8,
          10.2,
          10.2,
          null,
          8.8,
          8.8,
          9.2,
          9.2,
          null,
          7.8,
          7.8,
          8.2,
          8.2,
          null,
          6.8,
          6.8,
          7.2,
          7.2,
          null,
          5.8,
          5.8,
          6.2,
          6.2,
          null,
          4.8,
          4.8,
          5.2,
          5.2,
          null,
          3.8,
          3.8,
          4.2,
          4.2,
          null,
          2.8,
          2.8,
          3.2,
          3.2,
          null,
          1.8,
          1.8,
          2.2,
          2.2,
          null,
          0.8,
          0.8,
          1.2,
          1.2,
          null,
          -0.2,
          -0.2,
          0.2,
          0.2
         ]
        },
        {
         "fill": "toself",
         "fillcolor": "rgb(37, 169, 241)",
         "hoverinfo": "name",
         "legendgroup": "rgb(37, 169, 241)",
         "mode": "none",
         "name": "Job6",
         "type": "scatter",
         "x": [
          "2016-01-01 6:16:38",
          "2016-01-01 6:17:15",
          "2016-01-01 6:17:15",
          "2016-01-01 6:16:38",
          "2016-01-01 6:16:38",
          "2016-01-01 6:08:47",
          "2016-01-01 6:09:06",
          "2016-01-01 6:09:06",
          "2016-01-01 6:08:47",
          "2016-01-01 6:08:47",
          "2016-01-01 6:16:04",
          "2016-01-01 6:16:28",
          "2016-01-01 6:16:28",
          "2016-01-01 6:16:04",
          "2016-01-01 6:16:04",
          "2016-01-01 6:09:06",
          "2016-01-01 6:10:00",
          "2016-01-01 6:10:00",
          "2016-01-01 6:09:06",
          "2016-01-01 6:09:06",
          "2016-01-01 6:00:00",
          "2016-01-01 6:00:18",
          "2016-01-01 6:00:18",
          "2016-01-01 6:00:00",
          "2016-01-01 6:00:00",
          "2016-01-01 6:17:21",
          "2016-01-01 6:18:48",
          "2016-01-01 6:18:48",
          "2016-01-01 6:17:21",
          "2016-01-01 6:17:21",
          "2016-01-01 6:01:59",
          "2016-01-01 6:03:30",
          "2016-01-01 6:03:30",
          "2016-01-01 6:01:59",
          "2016-01-01 6:01:59",
          "2016-01-01 6:15:21",
          "2016-01-01 6:16:04",
          "2016-01-01 6:16:04",
          "2016-01-01 6:15:21",
          "2016-01-01 6:15:21",
          "2016-01-01 6:00:18",
          "2016-01-01 6:01:33",
          "2016-01-01 6:01:33",
          "2016-01-01 6:00:18",
          "2016-01-01 6:00:18",
          "2016-01-01 6:10:34",
          "2016-01-01 6:11:59",
          "2016-01-01 6:11:59",
          "2016-01-01 6:10:34",
          "2016-01-01 6:10:34",
          "2016-01-01 6:13:19",
          "2016-01-01 6:14:32",
          "2016-01-01 6:14:32",
          "2016-01-01 6:13:19",
          "2016-01-01 6:13:19",
          "2016-01-01 6:07:22",
          "2016-01-01 6:08:30",
          "2016-01-01 6:08:30",
          "2016-01-01 6:07:22",
          "2016-01-01 6:07:22",
          "2016-01-01 6:01:33",
          "2016-01-01 6:01:53",
          "2016-01-01 6:01:53",
          "2016-01-01 6:01:33",
          "2016-01-01 6:01:33",
          "2016-01-01 6:01:54",
          "2016-01-01 6:01:58",
          "2016-01-01 6:01:58",
          "2016-01-01 6:01:54",
          "2016-01-01 6:01:54",
          "2016-01-01 6:19:25",
          "2016-01-01 6:20:31",
          "2016-01-01 6:20:31",
          "2016-01-01 6:19:25"
         ],
         "y": [
          13.8,
          13.8,
          14.2,
          14.2,
          null,
          12.8,
          12.8,
          13.2,
          13.2,
          null,
          11.8,
          11.8,
          12.2,
          12.2,
          null,
          10.8,
          10.8,
          11.2,
          11.2,
          null,
          9.8,
          9.8,
          10.2,
          10.2,
          null,
          8.8,
          8.8,
          9.2,
          9.2,
          null,
          7.8,
          7.8,
          8.2,
          8.2,
          null,
          6.8,
          6.8,
          7.2,
          7.2,
          null,
          5.8,
          5.8,
          6.2,
          6.2,
          null,
          4.8,
          4.8,
          5.2,
          5.2,
          null,
          3.8,
          3.8,
          4.2,
          4.2,
          null,
          2.8,
          2.8,
          3.2,
          3.2,
          null,
          1.8,
          1.8,
          2.2,
          2.2,
          null,
          0.8,
          0.8,
          1.2,
          1.2,
          null,
          -0.2,
          -0.2,
          0.2,
          0.2
         ]
        },
        {
         "fill": "toself",
         "fillcolor": "rgb(51, 181, 222)",
         "hoverinfo": "name",
         "legendgroup": "rgb(51, 181, 222)",
         "mode": "none",
         "name": "Job7",
         "type": "scatter",
         "x": [
          "2016-01-01 6:01:25",
          "2016-01-01 6:01:34",
          "2016-01-01 6:01:34",
          "2016-01-01 6:01:25",
          "2016-01-01 6:01:25",
          "2016-01-01 6:06:49",
          "2016-01-01 6:07:51",
          "2016-01-01 6:07:51",
          "2016-01-01 6:06:49",
          "2016-01-01 6:06:49",
          "2016-01-01 6:19:57",
          "2016-01-01 6:20:04",
          "2016-01-01 6:20:04",
          "2016-01-01 6:19:57",
          "2016-01-01 6:19:57",
          "2016-01-01 6:00:00",
          "2016-01-01 6:00:32",
          "2016-01-01 6:00:32",
          "2016-01-01 6:00:00",
          "2016-01-01 6:00:00",
          "2016-01-01 6:02:45",
          "2016-01-01 6:03:46",
          "2016-01-01 6:03:46",
          "2016-01-01 6:02:45",
          "2016-01-01 6:02:45",
          "2016-01-01 6:03:46",
          "2016-01-01 6:04:21",
          "2016-01-01 6:04:21",
          "2016-01-01 6:03:46",
          "2016-01-01 6:03:46",
          "2016-01-01 6:05:09",
          "2016-01-01 6:06:48",
          "2016-01-01 6:06:48",
          "2016-01-01 6:05:09",
          "2016-01-01 6:05:09",
          "2016-01-01 6:08:18",
          "2016-01-01 6:08:24",
          "2016-01-01 6:08:24",
          "2016-01-01 6:08:18",
          "2016-01-01 6:08:18",
          "2016-01-01 6:10:09",
          "2016-01-01 6:11:29",
          "2016-01-01 6:11:29",
          "2016-01-01 6:10:09",
          "2016-01-01 6:10:09",
          "2016-01-01 6:10:02",
          "2016-01-01 6:10:09",
          "2016-01-01 6:10:09",
          "2016-01-01 6:10:02",
          "2016-01-01 6:10:02",
          "2016-01-01 6:00:32",
          "2016-01-01 6:01:24",
          "2016-01-01 6:01:24",
          "2016-01-01 6:00:32",
          "2016-01-01 6:00:32",
          "2016-01-01 6:18:50",
          "2016-01-01 6:19:47",
          "2016-01-01 6:19:47",
          "2016-01-01 6:18:50",
          "2016-01-01 6:18:50",
          "2016-01-01 6:01:55",
          "2016-01-01 6:02:44",
          "2016-01-01 6:02:44",
          "2016-01-01 6:01:55",
          "2016-01-01 6:01:55",
          "2016-01-01 6:08:24",
          "2016-01-01 6:09:26",
          "2016-01-01 6:09:26",
          "2016-01-01 6:08:24",
          "2016-01-01 6:08:24",
          "2016-01-01 6:18:18",
          "2016-01-01 6:18:21",
          "2016-01-01 6:18:21",
          "2016-01-01 6:18:18"
         ],
         "y": [
          13.8,
          13.8,
          14.2,
          14.2,
          null,
          12.8,
          12.8,
          13.2,
          13.2,
          null,
          11.8,
          11.8,
          12.2,
          12.2,
          null,
          10.8,
          10.8,
          11.2,
          11.2,
          null,
          9.8,
          9.8,
          10.2,
          10.2,
          null,
          8.8,
          8.8,
          9.2,
          9.2,
          null,
          7.8,
          7.8,
          8.2,
          8.2,
          null,
          6.8,
          6.8,
          7.2,
          7.2,
          null,
          5.8,
          5.8,
          6.2,
          6.2,
          null,
          4.8,
          4.8,
          5.2,
          5.2,
          null,
          3.8,
          3.8,
          4.2,
          4.2,
          null,
          2.8,
          2.8,
          3.2,
          3.2,
          null,
          1.8,
          1.8,
          2.2,
          2.2,
          null,
          0.8,
          0.8,
          1.2,
          1.2,
          null,
          -0.2,
          -0.2,
          0.2,
          0.2
         ]
        },
        {
         "fill": "toself",
         "fillcolor": "rgb(7, 47, 204)",
         "hoverinfo": "name",
         "legendgroup": "rgb(7, 47, 204)",
         "mode": "none",
         "name": "Job10",
         "type": "scatter",
         "x": [
          "2016-01-01 6:04:05",
          "2016-01-01 6:04:13",
          "2016-01-01 6:04:13",
          "2016-01-01 6:04:05",
          "2016-01-01 6:04:05",
          "2016-01-01 6:14:24",
          "2016-01-01 6:15:57",
          "2016-01-01 6:15:57",
          "2016-01-01 6:14:24",
          "2016-01-01 6:14:24",
          "2016-01-01 6:12:26",
          "2016-01-01 6:12:54",
          "2016-01-01 6:12:54",
          "2016-01-01 6:12:26",
          "2016-01-01 6:12:26",
          "2016-01-01 6:15:57",
          "2016-01-01 6:16:03",
          "2016-01-01 6:16:03",
          "2016-01-01 6:15:57",
          "2016-01-01 6:15:57",
          "2016-01-01 6:06:05",
          "2016-01-01 6:07:25",
          "2016-01-01 6:07:25",
          "2016-01-01 6:06:05",
          "2016-01-01 6:06:05",
          "2016-01-01 6:03:38",
          "2016-01-01 6:03:39",
          "2016-01-01 6:03:39",
          "2016-01-01 6:03:38",
          "2016-01-01 6:03:38",
          "2016-01-01 6:11:54",
          "2016-01-01 6:12:26",
          "2016-01-01 6:12:26",
          "2016-01-01 6:11:54",
          "2016-01-01 6:11:54",
          "2016-01-01 6:17:35",
          "2016-01-01 6:18:48",
          "2016-01-01 6:18:48",
          "2016-01-01 6:17:35",
          "2016-01-01 6:17:35",
          "2016-01-01 6:12:54",
          "2016-01-01 6:14:24",
          "2016-01-01 6:14:24",
          "2016-01-01 6:12:54",
          "2016-01-01 6:12:54",
          "2016-01-01 6:00:00",
          "2016-01-01 6:01:30",
          "2016-01-01 6:01:30",
          "2016-01-01 6:00:00",
          "2016-01-01 6:00:00",
          "2016-01-01 6:04:31",
          "2016-01-01 6:06:02",
          "2016-01-01 6:06:02",
          "2016-01-01 6:04:31",
          "2016-01-01 6:04:31",
          "2016-01-01 6:09:03",
          "2016-01-01 6:10:32",
          "2016-01-01 6:10:32",
          "2016-01-01 6:09:03",
          "2016-01-01 6:09:03",
          "2016-01-01 6:02:44",
          "2016-01-01 6:03:11",
          "2016-01-01 6:03:11",
          "2016-01-01 6:02:44",
          "2016-01-01 6:02:44",
          "2016-01-01 6:10:32",
          "2016-01-01 6:11:21",
          "2016-01-01 6:11:21",
          "2016-01-01 6:10:32",
          "2016-01-01 6:10:32",
          "2016-01-01 6:16:17",
          "2016-01-01 6:16:52",
          "2016-01-01 6:16:52",
          "2016-01-01 6:16:17"
         ],
         "y": [
          13.8,
          13.8,
          14.2,
          14.2,
          null,
          12.8,
          12.8,
          13.2,
          13.2,
          null,
          11.8,
          11.8,
          12.2,
          12.2,
          null,
          10.8,
          10.8,
          11.2,
          11.2,
          null,
          9.8,
          9.8,
          10.2,
          10.2,
          null,
          8.8,
          8.8,
          9.2,
          9.2,
          null,
          7.8,
          7.8,
          8.2,
          8.2,
          null,
          6.8,
          6.8,
          7.2,
          7.2,
          null,
          5.8,
          5.8,
          6.2,
          6.2,
          null,
          4.8,
          4.8,
          5.2,
          5.2,
          null,
          3.8,
          3.8,
          4.2,
          4.2,
          null,
          2.8,
          2.8,
          3.2,
          3.2,
          null,
          1.8,
          1.8,
          2.2,
          2.2,
          null,
          0.8,
          0.8,
          1.2,
          1.2,
          null,
          -0.2,
          -0.2,
          0.2,
          0.2
         ]
        },
        {
         "fill": "toself",
         "fillcolor": "rgb(71, 48, 128)",
         "hoverinfo": "name",
         "legendgroup": "rgb(71, 48, 128)",
         "mode": "none",
         "name": "Job4",
         "type": "scatter",
         "x": [
          "2016-01-01 6:17:15",
          "2016-01-01 6:17:57",
          "2016-01-01 6:17:57",
          "2016-01-01 6:17:15",
          "2016-01-01 6:17:15",
          "2016-01-01 6:11:37",
          "2016-01-01 6:13:10",
          "2016-01-01 6:13:10",
          "2016-01-01 6:11:37",
          "2016-01-01 6:11:37",
          "2016-01-01 6:02:23",
          "2016-01-01 6:03:23",
          "2016-01-01 6:03:23",
          "2016-01-01 6:02:23",
          "2016-01-01 6:02:23",
          "2016-01-01 6:16:20",
          "2016-01-01 6:17:12",
          "2016-01-01 6:17:12",
          "2016-01-01 6:16:20",
          "2016-01-01 6:16:20",
          "2016-01-01 6:08:51",
          "2016-01-01 6:10:10",
          "2016-01-01 6:10:10",
          "2016-01-01 6:08:51",
          "2016-01-01 6:08:51",
          "2016-01-01 6:13:13",
          "2016-01-01 6:13:55",
          "2016-01-01 6:13:55",
          "2016-01-01 6:13:13",
          "2016-01-01 6:13:13",
          "2016-01-01 6:06:48",
          "2016-01-01 6:08:27",
          "2016-01-01 6:08:27",
          "2016-01-01 6:06:48",
          "2016-01-01 6:06:48",
          "2016-01-01 6:04:28",
          "2016-01-01 6:06:03",
          "2016-01-01 6:06:03",
          "2016-01-01 6:04:28",
          "2016-01-01 6:04:28",
          "2016-01-01 6:18:31",
          "2016-01-01 6:20:07",
          "2016-01-01 6:20:07",
          "2016-01-01 6:18:31",
          "2016-01-01 6:18:31",
          "2016-01-01 6:03:23",
          "2016-01-01 6:03:59",
          "2016-01-01 6:03:59",
          "2016-01-01 6:03:23",
          "2016-01-01 6:03:23",
          "2016-01-01 6:10:10",
          "2016-01-01 6:11:26",
          "2016-01-01 6:11:26",
          "2016-01-01 6:10:10",
          "2016-01-01 6:10:10",
          "2016-01-01 6:01:41",
          "2016-01-01 6:02:02",
          "2016-01-01 6:02:02",
          "2016-01-01 6:01:41",
          "2016-01-01 6:01:41",
          "2016-01-01 6:00:00",
          "2016-01-01 6:01:18",
          "2016-01-01 6:01:18",
          "2016-01-01 6:00:00",
          "2016-01-01 6:00:00",
          "2016-01-01 6:01:18",
          "2016-01-01 6:01:41",
          "2016-01-01 6:01:41",
          "2016-01-01 6:01:18",
          "2016-01-01 6:01:18",
          "2016-01-01 6:03:59",
          "2016-01-01 6:04:28",
          "2016-01-01 6:04:28",
          "2016-01-01 6:03:59"
         ],
         "y": [
          13.8,
          13.8,
          14.2,
          14.2,
          null,
          12.8,
          12.8,
          13.2,
          13.2,
          null,
          11.8,
          11.8,
          12.2,
          12.2,
          null,
          10.8,
          10.8,
          11.2,
          11.2,
          null,
          9.8,
          9.8,
          10.2,
          10.2,
          null,
          8.8,
          8.8,
          9.2,
          9.2,
          null,
          7.8,
          7.8,
          8.2,
          8.2,
          null,
          6.8,
          6.8,
          7.2,
          7.2,
          null,
          5.8,
          5.8,
          6.2,
          6.2,
          null,
          4.8,
          4.8,
          5.2,
          5.2,
          null,
          3.8,
          3.8,
          4.2,
          4.2,
          null,
          2.8,
          2.8,
          3.2,
          3.2,
          null,
          1.8,
          1.8,
          2.2,
          2.2,
          null,
          0.8,
          0.8,
          1.2,
          1.2,
          null,
          -0.2,
          -0.2,
          0.2,
          0.2
         ]
        },
        {
         "fill": "toself",
         "fillcolor": "rgb(72, 229, 46)",
         "hoverinfo": "name",
         "legendgroup": "rgb(72, 229, 46)",
         "mode": "none",
         "name": "Job14",
         "type": "scatter",
         "x": [
          "2016-01-01 6:14:25",
          "2016-01-01 6:14:33",
          "2016-01-01 6:14:33",
          "2016-01-01 6:14:25",
          "2016-01-01 6:14:25",
          "2016-01-01 6:09:06",
          "2016-01-01 6:09:32",
          "2016-01-01 6:09:32",
          "2016-01-01 6:09:06",
          "2016-01-01 6:09:06",
          "2016-01-01 6:01:25",
          "2016-01-01 6:02:22",
          "2016-01-01 6:02:22",
          "2016-01-01 6:01:25",
          "2016-01-01 6:01:25",
          "2016-01-01 6:14:20",
          "2016-01-01 6:14:25",
          "2016-01-01 6:14:25",
          "2016-01-01 6:14:20",
          "2016-01-01 6:14:20",
          "2016-01-01 6:05:23",
          "2016-01-01 6:06:05",
          "2016-01-01 6:06:05",
          "2016-01-01 6:05:23",
          "2016-01-01 6:05:23",
          "2016-01-01 6:11:44",
          "2016-01-01 6:12:52",
          "2016-01-01 6:12:52",
          "2016-01-01 6:11:44",
          "2016-01-01 6:11:44",
          "2016-01-01 6:13:07",
          "2016-01-01 6:14:20",
          "2016-01-01 6:14:20",
          "2016-01-01 6:13:07",
          "2016-01-01 6:13:07",
          "2016-01-01 6:16:12",
          "2016-01-01 6:17:35",
          "2016-01-01 6:17:35",
          "2016-01-01 6:16:12",
          "2016-01-01 6:16:12",
          "2016-01-01 6:14:45",
          "2016-01-01 6:16:12",
          "2016-01-01 6:16:12",
          "2016-01-01 6:14:45",
          "2016-01-01 6:14:45",
          "2016-01-01 6:07:32",
          "2016-01-01 6:08:09",
          "2016-01-01 6:08:09",
          "2016-01-01 6:07:32",
          "2016-01-01 6:07:32",
          "2016-01-01 6:18:54",
          "2016-01-01 6:20:31",
          "2016-01-01 6:20:31",
          "2016-01-01 6:18:54",
          "2016-01-01 6:18:54",
          "2016-01-01 6:06:48",
          "2016-01-01 6:07:22",
          "2016-01-01 6:07:22",
          "2016-01-01 6:06:48",
          "2016-01-01 6:06:48",
          "2016-01-01 6:14:33",
          "2016-01-01 6:14:45",
          "2016-01-01 6:14:45",
          "2016-01-01 6:14:33",
          "2016-01-01 6:14:33",
          "2016-01-01 6:02:22",
          "2016-01-01 6:02:38",
          "2016-01-01 6:02:38",
          "2016-01-01 6:02:22",
          "2016-01-01 6:02:22",
          "2016-01-01 6:17:58",
          "2016-01-01 6:18:18",
          "2016-01-01 6:18:18",
          "2016-01-01 6:17:58"
         ],
         "y": [
          13.8,
          13.8,
          14.2,
          14.2,
          null,
          12.8,
          12.8,
          13.2,
          13.2,
          null,
          11.8,
          11.8,
          12.2,
          12.2,
          null,
          10.8,
          10.8,
          11.2,
          11.2,
          null,
          9.8,
          9.8,
          10.2,
          10.2,
          null,
          8.8,
          8.8,
          9.2,
          9.2,
          null,
          7.8,
          7.8,
          8.2,
          8.2,
          null,
          6.8,
          6.8,
          7.2,
          7.2,
          null,
          5.8,
          5.8,
          6.2,
          6.2,
          null,
          4.8,
          4.8,
          5.2,
          5.2,
          null,
          3.8,
          3.8,
          4.2,
          4.2,
          null,
          2.8,
          2.8,
          3.2,
          3.2,
          null,
          1.8,
          1.8,
          2.2,
          2.2,
          null,
          0.8,
          0.8,
          1.2,
          1.2,
          null,
          -0.2,
          -0.2,
          0.2,
          0.2
         ]
        },
        {
         "fill": "toself",
         "fillcolor": "rgb(75, 158, 50)",
         "hoverinfo": "name",
         "legendgroup": "rgb(75, 158, 50)",
         "mode": "none",
         "name": "Job5",
         "type": "scatter",
         "x": [
          "2016-01-01 6:14:33",
          "2016-01-01 6:16:00",
          "2016-01-01 6:16:00",
          "2016-01-01 6:14:33",
          "2016-01-01 6:14:33",
          "2016-01-01 6:13:10",
          "2016-01-01 6:13:36",
          "2016-01-01 6:13:36",
          "2016-01-01 6:13:10",
          "2016-01-01 6:13:10",
          "2016-01-01 6:13:38",
          "2016-01-01 6:14:28",
          "2016-01-01 6:14:28",
          "2016-01-01 6:13:38",
          "2016-01-01 6:13:38",
          "2016-01-01 6:06:45",
          "2016-01-01 6:07:01",
          "2016-01-01 6:07:01",
          "2016-01-01 6:06:45",
          "2016-01-01 6:06:45",
          "2016-01-01 6:03:54",
          "2016-01-01 6:05:22",
          "2016-01-01 6:05:22",
          "2016-01-01 6:03:54",
          "2016-01-01 6:03:54",
          "2016-01-01 6:05:35",
          "2016-01-01 6:06:45",
          "2016-01-01 6:06:45",
          "2016-01-01 6:05:35",
          "2016-01-01 6:05:35",
          "2016-01-01 6:09:18",
          "2016-01-01 6:10:23",
          "2016-01-01 6:10:23",
          "2016-01-01 6:09:18",
          "2016-01-01 6:09:18",
          "2016-01-01 6:11:46",
          "2016-01-01 6:13:04",
          "2016-01-01 6:13:04",
          "2016-01-01 6:11:46",
          "2016-01-01 6:11:46",
          "2016-01-01 6:01:35",
          "2016-01-01 6:02:36",
          "2016-01-01 6:02:36",
          "2016-01-01 6:01:35",
          "2016-01-01 6:01:35",
          "2016-01-01 6:07:01",
          "2016-01-01 6:07:32",
          "2016-01-01 6:07:32",
          "2016-01-01 6:07:01",
          "2016-01-01 6:07:01",
          "2016-01-01 6:00:01",
          "2016-01-01 6:00:30",
          "2016-01-01 6:00:30",
          "2016-01-01 6:00:01",
          "2016-01-01 6:00:01",
          "2016-01-01 6:19:47",
          "2016-01-01 6:20:01",
          "2016-01-01 6:20:01",
          "2016-01-01 6:19:47",
          "2016-01-01 6:19:47",
          "2016-01-01 6:10:23",
          "2016-01-01 6:11:46",
          "2016-01-01 6:11:46",
          "2016-01-01 6:10:23",
          "2016-01-01 6:10:23",
          "2016-01-01 6:20:01",
          "2016-01-01 6:20:31",
          "2016-01-01 6:20:31",
          "2016-01-01 6:20:01",
          "2016-01-01 6:20:01",
          "2016-01-01 6:18:21",
          "2016-01-01 6:19:23",
          "2016-01-01 6:19:23",
          "2016-01-01 6:18:21"
         ],
         "y": [
          13.8,
          13.8,
          14.2,
          14.2,
          null,
          12.8,
          12.8,
          13.2,
          13.2,
          null,
          11.8,
          11.8,
          12.2,
          12.2,
          null,
          10.8,
          10.8,
          11.2,
          11.2,
          null,
          9.8,
          9.8,
          10.2,
          10.2,
          null,
          8.8,
          8.8,
          9.2,
          9.2,
          null,
          7.8,
          7.8,
          8.2,
          8.2,
          null,
          6.8,
          6.8,
          7.2,
          7.2,
          null,
          5.8,
          5.8,
          6.2,
          6.2,
          null,
          4.8,
          4.8,
          5.2,
          5.2,
          null,
          3.8,
          3.8,
          4.2,
          4.2,
          null,
          2.8,
          2.8,
          3.2,
          3.2,
          null,
          1.8,
          1.8,
          2.2,
          2.2,
          null,
          0.8,
          0.8,
          1.2,
          1.2,
          null,
          -0.2,
          -0.2,
          0.2,
          0.2
         ]
        },
        {
         "fill": "toself",
         "fillcolor": "rgb(97, 113, 122)",
         "hoverinfo": "name",
         "legendgroup": "rgb(97, 113, 122)",
         "mode": "none",
         "name": "Job13",
         "type": "scatter",
         "x": [
          "2016-01-01 6:19:56",
          "2016-01-01 6:20:31",
          "2016-01-01 6:20:31",
          "2016-01-01 6:19:56",
          "2016-01-01 6:19:56",
          "2016-01-01 6:07:51",
          "2016-01-01 6:08:47",
          "2016-01-01 6:08:47",
          "2016-01-01 6:07:51",
          "2016-01-01 6:07:51",
          "2016-01-01 6:17:03",
          "2016-01-01 6:17:33",
          "2016-01-01 6:17:33",
          "2016-01-01 6:17:03",
          "2016-01-01 6:17:03",
          "2016-01-01 6:16:03",
          "2016-01-01 6:16:20",
          "2016-01-01 6:16:20",
          "2016-01-01 6:16:03",
          "2016-01-01 6:16:03",
          "2016-01-01 6:11:49",
          "2016-01-01 6:12:52",
          "2016-01-01 6:12:52",
          "2016-01-01 6:11:49",
          "2016-01-01 6:11:49",
          "2016-01-01 6:02:23",
          "2016-01-01 6:03:38",
          "2016-01-01 6:03:38",
          "2016-01-01 6:02:23",
          "2016-01-01 6:02:23",
          "2016-01-01 6:00:28",
          "2016-01-01 6:00:49",
          "2016-01-01 6:00:49",
          "2016-01-01 6:00:28",
          "2016-01-01 6:00:28",
          "2016-01-01 6:19:42",
          "2016-01-01 6:19:49",
          "2016-01-01 6:19:49",
          "2016-01-01 6:19:42",
          "2016-01-01 6:19:42",
          "2016-01-01 6:17:40",
          "2016-01-01 6:17:56",
          "2016-01-01 6:17:56",
          "2016-01-01 6:17:40",
          "2016-01-01 6:17:40",
          "2016-01-01 6:01:31",
          "2016-01-01 6:02:22",
          "2016-01-01 6:02:22",
          "2016-01-01 6:01:31",
          "2016-01-01 6:01:31",
          "2016-01-01 6:04:12",
          "2016-01-01 6:04:29",
          "2016-01-01 6:04:29",
          "2016-01-01 6:04:12",
          "2016-01-01 6:04:12",
          "2016-01-01 6:05:19",
          "2016-01-01 6:06:48",
          "2016-01-01 6:06:48",
          "2016-01-01 6:05:19",
          "2016-01-01 6:05:19",
          "2016-01-01 6:14:09",
          "2016-01-01 6:14:27",
          "2016-01-01 6:14:27",
          "2016-01-01 6:14:09",
          "2016-01-01 6:14:09",
          "2016-01-01 6:00:00",
          "2016-01-01 6:00:28",
          "2016-01-01 6:00:28",
          "2016-01-01 6:00:00",
          "2016-01-01 6:00:00",
          "2016-01-01 6:06:48",
          "2016-01-01 6:07:47",
          "2016-01-01 6:07:47",
          "2016-01-01 6:06:48"
         ],
         "y": [
          13.8,
          13.8,
          14.2,
          14.2,
          null,
          12.8,
          12.8,
          13.2,
          13.2,
          null,
          11.8,
          11.8,
          12.2,
          12.2,
          null,
          10.8,
          10.8,
          11.2,
          11.2,
          null,
          9.8,
          9.8,
          10.2,
          10.2,
          null,
          8.8,
          8.8,
          9.2,
          9.2,
          null,
          7.8,
          7.8,
          8.2,
          8.2,
          null,
          6.8,
          6.8,
          7.2,
          7.2,
          null,
          5.8,
          5.8,
          6.2,
          6.2,
          null,
          4.8,
          4.8,
          5.2,
          5.2,
          null,
          3.8,
          3.8,
          4.2,
          4.2,
          null,
          2.8,
          2.8,
          3.2,
          3.2,
          null,
          1.8,
          1.8,
          2.2,
          2.2,
          null,
          0.8,
          0.8,
          1.2,
          1.2,
          null,
          -0.2,
          -0.2,
          0.2,
          0.2
         ]
        },
        {
         "legendgroup": "rgb(0, 252, 170)",
         "marker": {
          "color": "rgb(0, 252, 170)",
          "opacity": 0,
          "size": 1
         },
         "mode": "markers",
         "name": "",
         "showlegend": false,
         "text": [
          null,
          null,
          null,
          null,
          null,
          null,
          null,
          null,
          null,
          null,
          null,
          null,
          null,
          null,
          null,
          null,
          null,
          null,
          null,
          null,
          null,
          null,
          null,
          null,
          null,
          null,
          null,
          null,
          null,
          null
         ],
         "type": "scatter",
         "x": [
          "2016-01-01 6:01:34",
          "2016-01-01 6:02:49",
          "2016-01-01 6:10:52",
          "2016-01-01 6:11:37",
          "2016-01-01 6:05:17",
          "2016-01-01 6:05:20",
          "2016-01-01 6:17:12",
          "2016-01-01 6:18:10",
          "2016-01-01 6:03:46",
          "2016-01-01 6:03:54",
          "2016-01-01 6:08:48",
          "2016-01-01 6:09:57",
          "2016-01-01 6:00:49",
          "2016-01-01 6:01:32",
          "2016-01-01 6:00:00",
          "2016-01-01 6:00:47",
          "2016-01-01 6:11:40",
          "2016-01-01 6:12:47",
          "2016-01-01 6:18:19",
          "2016-01-01 6:19:46",
          "2016-01-01 6:06:46",
          "2016-01-01 6:07:20",
          "2016-01-01 6:04:24",
          "2016-01-01 6:05:15",
          "2016-01-01 6:05:22",
          "2016-01-01 6:06:46",
          "2016-01-01 6:07:20",
          "2016-01-01 6:07:48",
          "2016-01-01 6:07:48",
          "2016-01-01 6:08:48"
         ],
         "y": [
          14,
          14,
          13,
          13,
          12,
          12,
          11,
          11,
          10,
          10,
          9,
          9,
          8,
          8,
          7,
          7,
          6,
          6,
          5,
          5,
          4,
          4,
          3,
          3,
          2,
          2,
          1,
          1,
          0,
          0
         ]
        },
        {
         "legendgroup": "rgb(111, 71, 144)",
         "marker": {
          "color": "rgb(111, 71, 144)",
          "opacity": 0,
          "size": 1
         },
         "mode": "markers",
         "name": "",
         "showlegend": false,
         "text": [
          null,
          null,
          null,
          null,
          null,
          null,
          null,
          null,
          null,
          null,
          null,
          null,
          null,
          null,
          null,
          null,
          null,
          null,
          null,
          null,
          null,
          null,
          null,
          null,
          null,
          null,
          null,
          null,
          null,
          null
         ],
         "type": "scatter",
         "x": [
          "2016-01-01 6:05:44",
          "2016-01-01 6:07:18",
          "2016-01-01 6:15:57",
          "2016-01-01 6:17:29",
          "2016-01-01 6:04:24",
          "2016-01-01 6:05:17",
          "2016-01-01 6:13:50",
          "2016-01-01 6:14:20",
          "2016-01-01 6:15:22",
          "2016-01-01 6:15:49",
          "2016-01-01 6:07:18",
          "2016-01-01 6:08:16",
          "2016-01-01 6:10:23",
          "2016-01-01 6:11:54",
          "2016-01-01 6:03:01",
          "2016-01-01 6:03:24",
          "2016-01-01 6:20:07",
          "2016-01-01 6:20:16",
          "2016-01-01 6:08:16",
          "2016-01-01 6:09:49",
          "2016-01-01 6:01:25",
          "2016-01-01 6:02:38",
          "2016-01-01 6:03:54",
          "2016-01-01 6:04:24",
          "2016-01-01 6:09:49",
          "2016-01-01 6:10:21",
          "2016-01-01 6:14:20",
          "2016-01-01 6:15:16",
          "2016-01-01 6:03:24",
          "2016-01-01 6:03:54"
         ],
         "y": [
          14,
          14,
          13,
          13,
          12,
          12,
          11,
          11,
          10,
          10,
          9,
          9,
          8,
          8,
          7,
          7,
          6,
          6,
          5,
          5,
          4,
          4,
          3,
          3,
          2,
          2,
          1,
          1,
          0,
          0
         ]
        },
        {
         "legendgroup": "rgb(124, 166, 32)",
         "marker": {
          "color": "rgb(124, 166, 32)",
          "opacity": 0,
          "size": 1
         },
         "mode": "markers",
         "name": "",
         "showlegend": false,
         "text": [
          null,
          null,
          null,
          null,
          null,
          null,
          null,
          null,
          null,
          null,
          null,
          null,
          null,
          null,
          null,
          null,
          null,
          null,
          null,
          null,
          null,
          null,
          null,
          null,
          null,
          null,
          null,
          null,
          null,
          null
         ],
         "type": "scatter",
         "x": [
          "2016-01-01 6:09:36",
          "2016-01-01 6:10:53",
          "2016-01-01 6:13:36",
          "2016-01-01 6:14:24",
          "2016-01-01 6:05:20",
          "2016-01-01 6:06:57",
          "2016-01-01 6:14:25",
          "2016-01-01 6:15:55",
          "2016-01-01 6:15:55",
          "2016-01-01 6:17:10",
          "2016-01-01 6:10:54",
          "2016-01-01 6:11:44",
          "2016-01-01 6:19:39",
          "2016-01-01 6:20:23",
          "2016-01-01 6:06:57",
          "2016-01-01 6:07:17",
          "2016-01-01 6:07:17",
          "2016-01-01 6:07:48",
          "2016-01-01 6:11:59",
          "2016-01-01 6:13:19",
          "2016-01-01 6:02:38",
          "2016-01-01 6:03:43",
          "2016-01-01 6:08:30",
          "2016-01-01 6:09:03",
          "2016-01-01 6:17:17",
          "2016-01-01 6:18:53",
          "2016-01-01 6:03:43",
          "2016-01-01 6:04:45",
          "2016-01-01 6:09:03",
          "2016-01-01 6:09:36"
         ],
         "y": [
          14,
          14,
          13,
          13,
          12,
          12,
          11,
          11,
          10,
          10,
          9,
          9,
          8,
          8,
          7,
          7,
          6,
          6,
          5,
          5,
          4,
          4,
          3,
          3,
          2,
          2,
          1,
          1,
          0,
          0
         ]
        },
        {
         "legendgroup": "rgb(132, 248, 207)",
         "marker": {
          "color": "rgb(132, 248, 207)",
          "opacity": 0,
          "size": 1
         },
         "mode": "markers",
         "name": "",
         "showlegend": false,
         "text": [
          null,
          null,
          null,
          null,
          null,
          null,
          null,
          null,
          null,
          null,
          null,
          null,
          null,
          null,
          null,
          null,
          null,
          null,
          null,
          null,
          null,
          null,
          null,
          null,
          null,
          null,
          null,
          null,
          null,
          null
         ],
         "type": "scatter",
         "x": [
          "2016-01-01 6:16:00",
          "2016-01-01 6:16:18",
          "2016-01-01 6:17:29",
          "2016-01-01 6:19:08",
          "2016-01-01 6:14:36",
          "2016-01-01 6:15:55",
          "2016-01-01 6:12:50",
          "2016-01-01 6:12:58",
          "2016-01-01 6:17:10",
          "2016-01-01 6:17:28",
          "2016-01-01 6:09:57",
          "2016-01-01 6:10:54",
          "2016-01-01 6:08:27",
          "2016-01-01 6:09:18",
          "2016-01-01 6:19:49",
          "2016-01-01 6:20:22",
          "2016-01-01 6:16:18",
          "2016-01-01 6:17:09",
          "2016-01-01 6:03:59",
          "2016-01-01 6:05:13",
          "2016-01-01 6:06:02",
          "2016-01-01 6:06:33",
          "2016-01-01 6:13:05",
          "2016-01-01 6:14:36",
          "2016-01-01 6:06:46",
          "2016-01-01 6:08:14",
          "2016-01-01 6:11:32",
          "2016-01-01 6:12:50",
          "2016-01-01 6:12:58",
          "2016-01-01 6:13:05"
         ],
         "y": [
          14,
          14,
          13,
          13,
          12,
          12,
          11,
          11,
          10,
          10,
          9,
          9,
          8,
          8,
          7,
          7,
          6,
          6,
          5,
          5,
          4,
          4,
          3,
          3,
          2,
          2,
          1,
          1,
          0,
          0
         ]
        },
        {
         "legendgroup": "rgb(155, 244, 183)",
         "marker": {
          "color": "rgb(155, 244, 183)",
          "opacity": 0,
          "size": 1
         },
         "mode": "markers",
         "name": "",
         "showlegend": false,
         "text": [
          null,
          null,
          null,
          null,
          null,
          null,
          null,
          null,
          null,
          null,
          null,
          null,
          null,
          null,
          null,
          null,
          null,
          null,
          null,
          null,
          null,
          null,
          null,
          null,
          null,
          null,
          null,
          null,
          null,
          null
         ],
         "type": "scatter",
         "x": [
          "2016-01-01 6:13:19",
          "2016-01-01 6:14:13",
          "2016-01-01 6:00:00",
          "2016-01-01 6:00:04",
          "2016-01-01 6:16:43",
          "2016-01-01 6:17:03",
          "2016-01-01 6:11:28",
          "2016-01-01 6:12:22",
          "2016-01-01 6:07:25",
          "2016-01-01 6:08:51",
          "2016-01-01 6:12:52",
          "2016-01-01 6:13:13",
          "2016-01-01 6:18:31",
          "2016-01-01 6:19:39",
          "2016-01-01 6:14:13",
          "2016-01-01 6:15:21",
          "2016-01-01 6:17:56",
          "2016-01-01 6:18:31",
          "2016-01-01 6:17:03",
          "2016-01-01 6:17:42",
          "2016-01-01 6:13:13",
          "2016-01-01 6:13:19",
          "2016-01-01 6:10:32",
          "2016-01-01 6:11:22",
          "2016-01-01 6:15:21",
          "2016-01-01 6:16:43",
          "2016-01-01 6:04:45",
          "2016-01-01 6:06:07",
          "2016-01-01 6:06:07",
          "2016-01-01 6:06:47"
         ],
         "y": [
          14,
          14,
          13,
          13,
          12,
          12,
          11,
          11,
          10,
          10,
          9,
          9,
          8,
          8,
          7,
          7,
          6,
          6,
          5,
          5,
          4,
          4,
          3,
          3,
          2,
          2,
          1,
          1,
          0,
          0
         ]
        },
        {
         "legendgroup": "rgb(161, 104, 244)",
         "marker": {
          "color": "rgb(161, 104, 244)",
          "opacity": 0,
          "size": 1
         },
         "mode": "markers",
         "name": "",
         "showlegend": false,
         "text": [
          null,
          null,
          null,
          null,
          null,
          null,
          null,
          null,
          null,
          null,
          null,
          null,
          null,
          null,
          null,
          null,
          null,
          null,
          null,
          null,
          null,
          null,
          null,
          null,
          null,
          null,
          null,
          null,
          null,
          null
         ],
         "type": "scatter",
         "x": [
          "2016-01-01 6:05:09",
          "2016-01-01 6:05:22",
          "2016-01-01 6:05:22",
          "2016-01-01 6:06:49",
          "2016-01-01 6:00:00",
          "2016-01-01 6:01:25",
          "2016-01-01 6:01:31",
          "2016-01-01 6:02:01",
          "2016-01-01 6:12:58",
          "2016-01-01 6:14:16",
          "2016-01-01 6:18:48",
          "2016-01-01 6:20:16",
          "2016-01-01 6:03:38",
          "2016-01-01 6:05:09",
          "2016-01-01 6:08:24",
          "2016-01-01 6:09:46",
          "2016-01-01 6:20:16",
          "2016-01-01 6:20:31",
          "2016-01-01 6:14:17",
          "2016-01-01 6:15:13",
          "2016-01-01 6:11:35",
          "2016-01-01 6:12:58",
          "2016-01-01 6:02:02",
          "2016-01-01 6:03:38",
          "2016-01-01 6:16:43",
          "2016-01-01 6:16:51",
          "2016-01-01 6:15:16",
          "2016-01-01 6:16:41",
          "2016-01-01 6:16:52",
          "2016-01-01 6:17:58"
         ],
         "y": [
          14,
          14,
          13,
          13,
          12,
          12,
          11,
          11,
          10,
          10,
          9,
          9,
          8,
          8,
          7,
          7,
          6,
          6,
          5,
          5,
          4,
          4,
          3,
          3,
          2,
          2,
          1,
          1,
          0,
          0
         ]
        },
        {
         "legendgroup": "rgb(197, 215, 20)",
         "marker": {
          "color": "rgb(197, 215, 20)",
          "opacity": 0,
          "size": 1
         },
         "mode": "markers",
         "name": "",
         "showlegend": false,
         "text": [
          null,
          null,
          null,
          null,
          null,
          null,
          null,
          null,
          null,
          null,
          null,
          null,
          null,
          null,
          null,
          null,
          null,
          null,
          null,
          null,
          null,
          null,
          null,
          null,
          null,
          null,
          null,
          null,
          null,
          null
         ],
         "type": "scatter",
         "x": [
          "2016-01-01 6:17:57",
          "2016-01-01 6:19:07",
          "2016-01-01 6:19:08",
          "2016-01-01 6:20:31",
          "2016-01-01 6:08:15",
          "2016-01-01 6:09:20",
          "2016-01-01 6:10:00",
          "2016-01-01 6:11:22",
          "2016-01-01 6:01:39",
          "2016-01-01 6:02:45",
          "2016-01-01 6:14:44",
          "2016-01-01 6:16:16",
          "2016-01-01 6:12:40",
          "2016-01-01 6:13:07",
          "2016-01-01 6:06:03",
          "2016-01-01 6:06:18",
          "2016-01-01 6:04:41",
          "2016-01-01 6:05:07",
          "2016-01-01 6:02:45",
          "2016-01-01 6:02:55",
          "2016-01-01 6:16:16",
          "2016-01-01 6:17:52",
          "2016-01-01 6:00:05",
          "2016-01-01 6:01:39",
          "2016-01-01 6:03:44",
          "2016-01-01 6:04:37",
          "2016-01-01 6:11:22",
          "2016-01-01 6:11:32",
          "2016-01-01 6:13:11",
          "2016-01-01 6:14:44"
         ],
         "y": [
          14,
          14,
          13,
          13,
          12,
          12,
          11,
          11,
          10,
          10,
          9,
          9,
          8,
          8,
          7,
          7,
          6,
          6,
          5,
          5,
          4,
          4,
          3,
          3,
          2,
          2,
          1,
          1,
          0,
          0
         ]
        },
        {
         "legendgroup": "rgb(226, 133, 31)",
         "marker": {
          "color": "rgb(226, 133, 31)",
          "opacity": 0,
          "size": 1
         },
         "mode": "markers",
         "name": "",
         "showlegend": false,
         "text": [
          null,
          null,
          null,
          null,
          null,
          null,
          null,
          null,
          null,
          null,
          null,
          null,
          null,
          null,
          null,
          null,
          null,
          null,
          null,
          null,
          null,
          null,
          null,
          null,
          null,
          null,
          null,
          null,
          null,
          null
         ],
         "type": "scatter",
         "x": [
          "2016-01-01 6:03:42",
          "2016-01-01 6:03:59",
          "2016-01-01 6:09:43",
          "2016-01-01 6:10:52",
          "2016-01-01 6:06:57",
          "2016-01-01 6:08:15",
          "2016-01-01 6:00:32",
          "2016-01-01 6:01:31",
          "2016-01-01 6:14:37",
          "2016-01-01 6:15:22",
          "2016-01-01 6:04:21",
          "2016-01-01 6:05:27",
          "2016-01-01 6:16:48",
          "2016-01-01 6:18:10",
          "2016-01-01 6:02:01",
          "2016-01-01 6:03:01",
          "2016-01-01 6:05:27",
          "2016-01-01 6:06:56",
          "2016-01-01 6:18:13",
          "2016-01-01 6:18:19",
          "2016-01-01 6:18:41",
          "2016-01-01 6:18:54",
          "2016-01-01 6:00:00",
          "2016-01-01 6:00:05",
          "2016-01-01 6:08:15",
          "2016-01-01 6:09:43",
          "2016-01-01 6:03:01",
          "2016-01-01 6:03:42",
          "2016-01-01 6:01:31",
          "2016-01-01 6:02:01"
         ],
         "y": [
          14,
          14,
          13,
          13,
          12,
          12,
          11,
          11,
          10,
          10,
          9,
          9,
          8,
          8,
          7,
          7,
          6,
          6,
          5,
          5,
          4,
          4,
          3,
          3,
          2,
          2,
          1,
          1,
          0,
          0
         ]
        },
        {
         "legendgroup": "rgb(37, 169, 241)",
         "marker": {
          "color": "rgb(37, 169, 241)",
          "opacity": 0,
          "size": 1
         },
         "mode": "markers",
         "name": "",
         "showlegend": false,
         "text": [
          null,
          null,
          null,
          null,
          null,
          null,
          null,
          null,
          null,
          null,
          null,
          null,
          null,
          null,
          null,
          null,
          null,
          null,
          null,
          null,
          null,
          null,
          null,
          null,
          null,
          null,
          null,
          null,
          null,
          null
         ],
         "type": "scatter",
         "x": [
          "2016-01-01 6:16:38",
          "2016-01-01 6:17:15",
          "2016-01-01 6:08:47",
          "2016-01-01 6:09:06",
          "2016-01-01 6:16:04",
          "2016-01-01 6:16:28",
          "2016-01-01 6:09:06",
          "2016-01-01 6:10:00",
          "2016-01-01 6:00:00",
          "2016-01-01 6:00:18",
          "2016-01-01 6:17:21",
          "2016-01-01 6:18:48",
          "2016-01-01 6:01:59",
          "2016-01-01 6:03:30",
          "2016-01-01 6:15:21",
          "2016-01-01 6:16:04",
          "2016-01-01 6:00:18",
          "2016-01-01 6:01:33",
          "2016-01-01 6:10:34",
          "2016-01-01 6:11:59",
          "2016-01-01 6:13:19",
          "2016-01-01 6:14:32",
          "2016-01-01 6:07:22",
          "2016-01-01 6:08:30",
          "2016-01-01 6:01:33",
          "2016-01-01 6:01:53",
          "2016-01-01 6:01:54",
          "2016-01-01 6:01:58",
          "2016-01-01 6:19:25",
          "2016-01-01 6:20:31"
         ],
         "y": [
          14,
          14,
          13,
          13,
          12,
          12,
          11,
          11,
          10,
          10,
          9,
          9,
          8,
          8,
          7,
          7,
          6,
          6,
          5,
          5,
          4,
          4,
          3,
          3,
          2,
          2,
          1,
          1,
          0,
          0
         ]
        },
        {
         "legendgroup": "rgb(51, 181, 222)",
         "marker": {
          "color": "rgb(51, 181, 222)",
          "opacity": 0,
          "size": 1
         },
         "mode": "markers",
         "name": "",
         "showlegend": false,
         "text": [
          null,
          null,
          null,
          null,
          null,
          null,
          null,
          null,
          null,
          null,
          null,
          null,
          null,
          null,
          null,
          null,
          null,
          null,
          null,
          null,
          null,
          null,
          null,
          null,
          null,
          null,
          null,
          null,
          null,
          null
         ],
         "type": "scatter",
         "x": [
          "2016-01-01 6:01:25",
          "2016-01-01 6:01:34",
          "2016-01-01 6:06:49",
          "2016-01-01 6:07:51",
          "2016-01-01 6:19:57",
          "2016-01-01 6:20:04",
          "2016-01-01 6:00:00",
          "2016-01-01 6:00:32",
          "2016-01-01 6:02:45",
          "2016-01-01 6:03:46",
          "2016-01-01 6:03:46",
          "2016-01-01 6:04:21",
          "2016-01-01 6:05:09",
          "2016-01-01 6:06:48",
          "2016-01-01 6:08:18",
          "2016-01-01 6:08:24",
          "2016-01-01 6:10:09",
          "2016-01-01 6:11:29",
          "2016-01-01 6:10:02",
          "2016-01-01 6:10:09",
          "2016-01-01 6:00:32",
          "2016-01-01 6:01:24",
          "2016-01-01 6:18:50",
          "2016-01-01 6:19:47",
          "2016-01-01 6:01:55",
          "2016-01-01 6:02:44",
          "2016-01-01 6:08:24",
          "2016-01-01 6:09:26",
          "2016-01-01 6:18:18",
          "2016-01-01 6:18:21"
         ],
         "y": [
          14,
          14,
          13,
          13,
          12,
          12,
          11,
          11,
          10,
          10,
          9,
          9,
          8,
          8,
          7,
          7,
          6,
          6,
          5,
          5,
          4,
          4,
          3,
          3,
          2,
          2,
          1,
          1,
          0,
          0
         ]
        },
        {
         "legendgroup": "rgb(7, 47, 204)",
         "marker": {
          "color": "rgb(7, 47, 204)",
          "opacity": 0,
          "size": 1
         },
         "mode": "markers",
         "name": "",
         "showlegend": false,
         "text": [
          null,
          null,
          null,
          null,
          null,
          null,
          null,
          null,
          null,
          null,
          null,
          null,
          null,
          null,
          null,
          null,
          null,
          null,
          null,
          null,
          null,
          null,
          null,
          null,
          null,
          null,
          null,
          null,
          null,
          null
         ],
         "type": "scatter",
         "x": [
          "2016-01-01 6:04:05",
          "2016-01-01 6:04:13",
          "2016-01-01 6:14:24",
          "2016-01-01 6:15:57",
          "2016-01-01 6:12:26",
          "2016-01-01 6:12:54",
          "2016-01-01 6:15:57",
          "2016-01-01 6:16:03",
          "2016-01-01 6:06:05",
          "2016-01-01 6:07:25",
          "2016-01-01 6:03:38",
          "2016-01-01 6:03:39",
          "2016-01-01 6:11:54",
          "2016-01-01 6:12:26",
          "2016-01-01 6:17:35",
          "2016-01-01 6:18:48",
          "2016-01-01 6:12:54",
          "2016-01-01 6:14:24",
          "2016-01-01 6:00:00",
          "2016-01-01 6:01:30",
          "2016-01-01 6:04:31",
          "2016-01-01 6:06:02",
          "2016-01-01 6:09:03",
          "2016-01-01 6:10:32",
          "2016-01-01 6:02:44",
          "2016-01-01 6:03:11",
          "2016-01-01 6:10:32",
          "2016-01-01 6:11:21",
          "2016-01-01 6:16:17",
          "2016-01-01 6:16:52"
         ],
         "y": [
          14,
          14,
          13,
          13,
          12,
          12,
          11,
          11,
          10,
          10,
          9,
          9,
          8,
          8,
          7,
          7,
          6,
          6,
          5,
          5,
          4,
          4,
          3,
          3,
          2,
          2,
          1,
          1,
          0,
          0
         ]
        },
        {
         "legendgroup": "rgb(71, 48, 128)",
         "marker": {
          "color": "rgb(71, 48, 128)",
          "opacity": 0,
          "size": 1
         },
         "mode": "markers",
         "name": "",
         "showlegend": false,
         "text": [
          null,
          null,
          null,
          null,
          null,
          null,
          null,
          null,
          null,
          null,
          null,
          null,
          null,
          null,
          null,
          null,
          null,
          null,
          null,
          null,
          null,
          null,
          null,
          null,
          null,
          null,
          null,
          null,
          null,
          null
         ],
         "type": "scatter",
         "x": [
          "2016-01-01 6:17:15",
          "2016-01-01 6:17:57",
          "2016-01-01 6:11:37",
          "2016-01-01 6:13:10",
          "2016-01-01 6:02:23",
          "2016-01-01 6:03:23",
          "2016-01-01 6:16:20",
          "2016-01-01 6:17:12",
          "2016-01-01 6:08:51",
          "2016-01-01 6:10:10",
          "2016-01-01 6:13:13",
          "2016-01-01 6:13:55",
          "2016-01-01 6:06:48",
          "2016-01-01 6:08:27",
          "2016-01-01 6:04:28",
          "2016-01-01 6:06:03",
          "2016-01-01 6:18:31",
          "2016-01-01 6:20:07",
          "2016-01-01 6:03:23",
          "2016-01-01 6:03:59",
          "2016-01-01 6:10:10",
          "2016-01-01 6:11:26",
          "2016-01-01 6:01:41",
          "2016-01-01 6:02:02",
          "2016-01-01 6:00:00",
          "2016-01-01 6:01:18",
          "2016-01-01 6:01:18",
          "2016-01-01 6:01:41",
          "2016-01-01 6:03:59",
          "2016-01-01 6:04:28"
         ],
         "y": [
          14,
          14,
          13,
          13,
          12,
          12,
          11,
          11,
          10,
          10,
          9,
          9,
          8,
          8,
          7,
          7,
          6,
          6,
          5,
          5,
          4,
          4,
          3,
          3,
          2,
          2,
          1,
          1,
          0,
          0
         ]
        },
        {
         "legendgroup": "rgb(72, 229, 46)",
         "marker": {
          "color": "rgb(72, 229, 46)",
          "opacity": 0,
          "size": 1
         },
         "mode": "markers",
         "name": "",
         "showlegend": false,
         "text": [
          null,
          null,
          null,
          null,
          null,
          null,
          null,
          null,
          null,
          null,
          null,
          null,
          null,
          null,
          null,
          null,
          null,
          null,
          null,
          null,
          null,
          null,
          null,
          null,
          null,
          null,
          null,
          null,
          null,
          null
         ],
         "type": "scatter",
         "x": [
          "2016-01-01 6:14:25",
          "2016-01-01 6:14:33",
          "2016-01-01 6:09:06",
          "2016-01-01 6:09:32",
          "2016-01-01 6:01:25",
          "2016-01-01 6:02:22",
          "2016-01-01 6:14:20",
          "2016-01-01 6:14:25",
          "2016-01-01 6:05:23",
          "2016-01-01 6:06:05",
          "2016-01-01 6:11:44",
          "2016-01-01 6:12:52",
          "2016-01-01 6:13:07",
          "2016-01-01 6:14:20",
          "2016-01-01 6:16:12",
          "2016-01-01 6:17:35",
          "2016-01-01 6:14:45",
          "2016-01-01 6:16:12",
          "2016-01-01 6:07:32",
          "2016-01-01 6:08:09",
          "2016-01-01 6:18:54",
          "2016-01-01 6:20:31",
          "2016-01-01 6:06:48",
          "2016-01-01 6:07:22",
          "2016-01-01 6:14:33",
          "2016-01-01 6:14:45",
          "2016-01-01 6:02:22",
          "2016-01-01 6:02:38",
          "2016-01-01 6:17:58",
          "2016-01-01 6:18:18"
         ],
         "y": [
          14,
          14,
          13,
          13,
          12,
          12,
          11,
          11,
          10,
          10,
          9,
          9,
          8,
          8,
          7,
          7,
          6,
          6,
          5,
          5,
          4,
          4,
          3,
          3,
          2,
          2,
          1,
          1,
          0,
          0
         ]
        },
        {
         "legendgroup": "rgb(75, 158, 50)",
         "marker": {
          "color": "rgb(75, 158, 50)",
          "opacity": 0,
          "size": 1
         },
         "mode": "markers",
         "name": "",
         "showlegend": false,
         "text": [
          null,
          null,
          null,
          null,
          null,
          null,
          null,
          null,
          null,
          null,
          null,
          null,
          null,
          null,
          null,
          null,
          null,
          null,
          null,
          null,
          null,
          null,
          null,
          null,
          null,
          null,
          null,
          null,
          null,
          null
         ],
         "type": "scatter",
         "x": [
          "2016-01-01 6:14:33",
          "2016-01-01 6:16:00",
          "2016-01-01 6:13:10",
          "2016-01-01 6:13:36",
          "2016-01-01 6:13:38",
          "2016-01-01 6:14:28",
          "2016-01-01 6:06:45",
          "2016-01-01 6:07:01",
          "2016-01-01 6:03:54",
          "2016-01-01 6:05:22",
          "2016-01-01 6:05:35",
          "2016-01-01 6:06:45",
          "2016-01-01 6:09:18",
          "2016-01-01 6:10:23",
          "2016-01-01 6:11:46",
          "2016-01-01 6:13:04",
          "2016-01-01 6:01:35",
          "2016-01-01 6:02:36",
          "2016-01-01 6:07:01",
          "2016-01-01 6:07:32",
          "2016-01-01 6:00:01",
          "2016-01-01 6:00:30",
          "2016-01-01 6:19:47",
          "2016-01-01 6:20:01",
          "2016-01-01 6:10:23",
          "2016-01-01 6:11:46",
          "2016-01-01 6:20:01",
          "2016-01-01 6:20:31",
          "2016-01-01 6:18:21",
          "2016-01-01 6:19:23"
         ],
         "y": [
          14,
          14,
          13,
          13,
          12,
          12,
          11,
          11,
          10,
          10,
          9,
          9,
          8,
          8,
          7,
          7,
          6,
          6,
          5,
          5,
          4,
          4,
          3,
          3,
          2,
          2,
          1,
          1,
          0,
          0
         ]
        },
        {
         "legendgroup": "rgb(97, 113, 122)",
         "marker": {
          "color": "rgb(97, 113, 122)",
          "opacity": 0,
          "size": 1
         },
         "mode": "markers",
         "name": "",
         "showlegend": false,
         "text": [
          null,
          null,
          null,
          null,
          null,
          null,
          null,
          null,
          null,
          null,
          null,
          null,
          null,
          null,
          null,
          null,
          null,
          null,
          null,
          null,
          null,
          null,
          null,
          null,
          null,
          null,
          null,
          null,
          null,
          null
         ],
         "type": "scatter",
         "x": [
          "2016-01-01 6:19:56",
          "2016-01-01 6:20:31",
          "2016-01-01 6:07:51",
          "2016-01-01 6:08:47",
          "2016-01-01 6:17:03",
          "2016-01-01 6:17:33",
          "2016-01-01 6:16:03",
          "2016-01-01 6:16:20",
          "2016-01-01 6:11:49",
          "2016-01-01 6:12:52",
          "2016-01-01 6:02:23",
          "2016-01-01 6:03:38",
          "2016-01-01 6:00:28",
          "2016-01-01 6:00:49",
          "2016-01-01 6:19:42",
          "2016-01-01 6:19:49",
          "2016-01-01 6:17:40",
          "2016-01-01 6:17:56",
          "2016-01-01 6:01:31",
          "2016-01-01 6:02:22",
          "2016-01-01 6:04:12",
          "2016-01-01 6:04:29",
          "2016-01-01 6:05:19",
          "2016-01-01 6:06:48",
          "2016-01-01 6:14:09",
          "2016-01-01 6:14:27",
          "2016-01-01 6:00:00",
          "2016-01-01 6:00:28",
          "2016-01-01 6:06:48",
          "2016-01-01 6:07:47"
         ],
         "y": [
          14,
          14,
          13,
          13,
          12,
          12,
          11,
          11,
          10,
          10,
          9,
          9,
          8,
          8,
          7,
          7,
          6,
          6,
          5,
          5,
          4,
          4,
          3,
          3,
          2,
          2,
          1,
          1,
          0,
          0
         ]
        }
       ],
       "layout": {
        "height": 600,
        "hovermode": "closest",
        "showlegend": false,
        "template": {
         "data": {
          "bar": [
           {
            "error_x": {
             "color": "#2a3f5f"
            },
            "error_y": {
             "color": "#2a3f5f"
            },
            "marker": {
             "line": {
              "color": "#E5ECF6",
              "width": 0.5
             },
             "pattern": {
              "fillmode": "overlay",
              "size": 10,
              "solidity": 0.2
             }
            },
            "type": "bar"
           }
          ],
          "barpolar": [
           {
            "marker": {
             "line": {
              "color": "#E5ECF6",
              "width": 0.5
             },
             "pattern": {
              "fillmode": "overlay",
              "size": 10,
              "solidity": 0.2
             }
            },
            "type": "barpolar"
           }
          ],
          "carpet": [
           {
            "aaxis": {
             "endlinecolor": "#2a3f5f",
             "gridcolor": "white",
             "linecolor": "white",
             "minorgridcolor": "white",
             "startlinecolor": "#2a3f5f"
            },
            "baxis": {
             "endlinecolor": "#2a3f5f",
             "gridcolor": "white",
             "linecolor": "white",
             "minorgridcolor": "white",
             "startlinecolor": "#2a3f5f"
            },
            "type": "carpet"
           }
          ],
          "choropleth": [
           {
            "colorbar": {
             "outlinewidth": 0,
             "ticks": ""
            },
            "type": "choropleth"
           }
          ],
          "contour": [
           {
            "colorbar": {
             "outlinewidth": 0,
             "ticks": ""
            },
            "colorscale": [
             [
              0,
              "#0d0887"
             ],
             [
              0.1111111111111111,
              "#46039f"
             ],
             [
              0.2222222222222222,
              "#7201a8"
             ],
             [
              0.3333333333333333,
              "#9c179e"
             ],
             [
              0.4444444444444444,
              "#bd3786"
             ],
             [
              0.5555555555555556,
              "#d8576b"
             ],
             [
              0.6666666666666666,
              "#ed7953"
             ],
             [
              0.7777777777777778,
              "#fb9f3a"
             ],
             [
              0.8888888888888888,
              "#fdca26"
             ],
             [
              1,
              "#f0f921"
             ]
            ],
            "type": "contour"
           }
          ],
          "contourcarpet": [
           {
            "colorbar": {
             "outlinewidth": 0,
             "ticks": ""
            },
            "type": "contourcarpet"
           }
          ],
          "heatmap": [
           {
            "colorbar": {
             "outlinewidth": 0,
             "ticks": ""
            },
            "colorscale": [
             [
              0,
              "#0d0887"
             ],
             [
              0.1111111111111111,
              "#46039f"
             ],
             [
              0.2222222222222222,
              "#7201a8"
             ],
             [
              0.3333333333333333,
              "#9c179e"
             ],
             [
              0.4444444444444444,
              "#bd3786"
             ],
             [
              0.5555555555555556,
              "#d8576b"
             ],
             [
              0.6666666666666666,
              "#ed7953"
             ],
             [
              0.7777777777777778,
              "#fb9f3a"
             ],
             [
              0.8888888888888888,
              "#fdca26"
             ],
             [
              1,
              "#f0f921"
             ]
            ],
            "type": "heatmap"
           }
          ],
          "heatmapgl": [
           {
            "colorbar": {
             "outlinewidth": 0,
             "ticks": ""
            },
            "colorscale": [
             [
              0,
              "#0d0887"
             ],
             [
              0.1111111111111111,
              "#46039f"
             ],
             [
              0.2222222222222222,
              "#7201a8"
             ],
             [
              0.3333333333333333,
              "#9c179e"
             ],
             [
              0.4444444444444444,
              "#bd3786"
             ],
             [
              0.5555555555555556,
              "#d8576b"
             ],
             [
              0.6666666666666666,
              "#ed7953"
             ],
             [
              0.7777777777777778,
              "#fb9f3a"
             ],
             [
              0.8888888888888888,
              "#fdca26"
             ],
             [
              1,
              "#f0f921"
             ]
            ],
            "type": "heatmapgl"
           }
          ],
          "histogram": [
           {
            "marker": {
             "pattern": {
              "fillmode": "overlay",
              "size": 10,
              "solidity": 0.2
             }
            },
            "type": "histogram"
           }
          ],
          "histogram2d": [
           {
            "colorbar": {
             "outlinewidth": 0,
             "ticks": ""
            },
            "colorscale": [
             [
              0,
              "#0d0887"
             ],
             [
              0.1111111111111111,
              "#46039f"
             ],
             [
              0.2222222222222222,
              "#7201a8"
             ],
             [
              0.3333333333333333,
              "#9c179e"
             ],
             [
              0.4444444444444444,
              "#bd3786"
             ],
             [
              0.5555555555555556,
              "#d8576b"
             ],
             [
              0.6666666666666666,
              "#ed7953"
             ],
             [
              0.7777777777777778,
              "#fb9f3a"
             ],
             [
              0.8888888888888888,
              "#fdca26"
             ],
             [
              1,
              "#f0f921"
             ]
            ],
            "type": "histogram2d"
           }
          ],
          "histogram2dcontour": [
           {
            "colorbar": {
             "outlinewidth": 0,
             "ticks": ""
            },
            "colorscale": [
             [
              0,
              "#0d0887"
             ],
             [
              0.1111111111111111,
              "#46039f"
             ],
             [
              0.2222222222222222,
              "#7201a8"
             ],
             [
              0.3333333333333333,
              "#9c179e"
             ],
             [
              0.4444444444444444,
              "#bd3786"
             ],
             [
              0.5555555555555556,
              "#d8576b"
             ],
             [
              0.6666666666666666,
              "#ed7953"
             ],
             [
              0.7777777777777778,
              "#fb9f3a"
             ],
             [
              0.8888888888888888,
              "#fdca26"
             ],
             [
              1,
              "#f0f921"
             ]
            ],
            "type": "histogram2dcontour"
           }
          ],
          "mesh3d": [
           {
            "colorbar": {
             "outlinewidth": 0,
             "ticks": ""
            },
            "type": "mesh3d"
           }
          ],
          "parcoords": [
           {
            "line": {
             "colorbar": {
              "outlinewidth": 0,
              "ticks": ""
             }
            },
            "type": "parcoords"
           }
          ],
          "pie": [
           {
            "automargin": true,
            "type": "pie"
           }
          ],
          "scatter": [
           {
            "fillpattern": {
             "fillmode": "overlay",
             "size": 10,
             "solidity": 0.2
            },
            "type": "scatter"
           }
          ],
          "scatter3d": [
           {
            "line": {
             "colorbar": {
              "outlinewidth": 0,
              "ticks": ""
             }
            },
            "marker": {
             "colorbar": {
              "outlinewidth": 0,
              "ticks": ""
             }
            },
            "type": "scatter3d"
           }
          ],
          "scattercarpet": [
           {
            "marker": {
             "colorbar": {
              "outlinewidth": 0,
              "ticks": ""
             }
            },
            "type": "scattercarpet"
           }
          ],
          "scattergeo": [
           {
            "marker": {
             "colorbar": {
              "outlinewidth": 0,
              "ticks": ""
             }
            },
            "type": "scattergeo"
           }
          ],
          "scattergl": [
           {
            "marker": {
             "colorbar": {
              "outlinewidth": 0,
              "ticks": ""
             }
            },
            "type": "scattergl"
           }
          ],
          "scattermapbox": [
           {
            "marker": {
             "colorbar": {
              "outlinewidth": 0,
              "ticks": ""
             }
            },
            "type": "scattermapbox"
           }
          ],
          "scatterpolar": [
           {
            "marker": {
             "colorbar": {
              "outlinewidth": 0,
              "ticks": ""
             }
            },
            "type": "scatterpolar"
           }
          ],
          "scatterpolargl": [
           {
            "marker": {
             "colorbar": {
              "outlinewidth": 0,
              "ticks": ""
             }
            },
            "type": "scatterpolargl"
           }
          ],
          "scatterternary": [
           {
            "marker": {
             "colorbar": {
              "outlinewidth": 0,
              "ticks": ""
             }
            },
            "type": "scatterternary"
           }
          ],
          "surface": [
           {
            "colorbar": {
             "outlinewidth": 0,
             "ticks": ""
            },
            "colorscale": [
             [
              0,
              "#0d0887"
             ],
             [
              0.1111111111111111,
              "#46039f"
             ],
             [
              0.2222222222222222,
              "#7201a8"
             ],
             [
              0.3333333333333333,
              "#9c179e"
             ],
             [
              0.4444444444444444,
              "#bd3786"
             ],
             [
              0.5555555555555556,
              "#d8576b"
             ],
             [
              0.6666666666666666,
              "#ed7953"
             ],
             [
              0.7777777777777778,
              "#fb9f3a"
             ],
             [
              0.8888888888888888,
              "#fdca26"
             ],
             [
              1,
              "#f0f921"
             ]
            ],
            "type": "surface"
           }
          ],
          "table": [
           {
            "cells": {
             "fill": {
              "color": "#EBF0F8"
             },
             "line": {
              "color": "white"
             }
            },
            "header": {
             "fill": {
              "color": "#C8D4E3"
             },
             "line": {
              "color": "white"
             }
            },
            "type": "table"
           }
          ]
         },
         "layout": {
          "annotationdefaults": {
           "arrowcolor": "#2a3f5f",
           "arrowhead": 0,
           "arrowwidth": 1
          },
          "autotypenumbers": "strict",
          "coloraxis": {
           "colorbar": {
            "outlinewidth": 0,
            "ticks": ""
           }
          },
          "colorscale": {
           "diverging": [
            [
             0,
             "#8e0152"
            ],
            [
             0.1,
             "#c51b7d"
            ],
            [
             0.2,
             "#de77ae"
            ],
            [
             0.3,
             "#f1b6da"
            ],
            [
             0.4,
             "#fde0ef"
            ],
            [
             0.5,
             "#f7f7f7"
            ],
            [
             0.6,
             "#e6f5d0"
            ],
            [
             0.7,
             "#b8e186"
            ],
            [
             0.8,
             "#7fbc41"
            ],
            [
             0.9,
             "#4d9221"
            ],
            [
             1,
             "#276419"
            ]
           ],
           "sequential": [
            [
             0,
             "#0d0887"
            ],
            [
             0.1111111111111111,
             "#46039f"
            ],
            [
             0.2222222222222222,
             "#7201a8"
            ],
            [
             0.3333333333333333,
             "#9c179e"
            ],
            [
             0.4444444444444444,
             "#bd3786"
            ],
            [
             0.5555555555555556,
             "#d8576b"
            ],
            [
             0.6666666666666666,
             "#ed7953"
            ],
            [
             0.7777777777777778,
             "#fb9f3a"
            ],
            [
             0.8888888888888888,
             "#fdca26"
            ],
            [
             1,
             "#f0f921"
            ]
           ],
           "sequentialminus": [
            [
             0,
             "#0d0887"
            ],
            [
             0.1111111111111111,
             "#46039f"
            ],
            [
             0.2222222222222222,
             "#7201a8"
            ],
            [
             0.3333333333333333,
             "#9c179e"
            ],
            [
             0.4444444444444444,
             "#bd3786"
            ],
            [
             0.5555555555555556,
             "#d8576b"
            ],
            [
             0.6666666666666666,
             "#ed7953"
            ],
            [
             0.7777777777777778,
             "#fb9f3a"
            ],
            [
             0.8888888888888888,
             "#fdca26"
            ],
            [
             1,
             "#f0f921"
            ]
           ]
          },
          "colorway": [
           "#636efa",
           "#EF553B",
           "#00cc96",
           "#ab63fa",
           "#FFA15A",
           "#19d3f3",
           "#FF6692",
           "#B6E880",
           "#FF97FF",
           "#FECB52"
          ],
          "font": {
           "color": "#2a3f5f"
          },
          "geo": {
           "bgcolor": "white",
           "lakecolor": "white",
           "landcolor": "#E5ECF6",
           "showlakes": true,
           "showland": true,
           "subunitcolor": "white"
          },
          "hoverlabel": {
           "align": "left"
          },
          "hovermode": "closest",
          "mapbox": {
           "style": "light"
          },
          "paper_bgcolor": "white",
          "plot_bgcolor": "#E5ECF6",
          "polar": {
           "angularaxis": {
            "gridcolor": "white",
            "linecolor": "white",
            "ticks": ""
           },
           "bgcolor": "#E5ECF6",
           "radialaxis": {
            "gridcolor": "white",
            "linecolor": "white",
            "ticks": ""
           }
          },
          "scene": {
           "xaxis": {
            "backgroundcolor": "#E5ECF6",
            "gridcolor": "white",
            "gridwidth": 2,
            "linecolor": "white",
            "showbackground": true,
            "ticks": "",
            "zerolinecolor": "white"
           },
           "yaxis": {
            "backgroundcolor": "#E5ECF6",
            "gridcolor": "white",
            "gridwidth": 2,
            "linecolor": "white",
            "showbackground": true,
            "ticks": "",
            "zerolinecolor": "white"
           },
           "zaxis": {
            "backgroundcolor": "#E5ECF6",
            "gridcolor": "white",
            "gridwidth": 2,
            "linecolor": "white",
            "showbackground": true,
            "ticks": "",
            "zerolinecolor": "white"
           }
          },
          "shapedefaults": {
           "line": {
            "color": "#2a3f5f"
           }
          },
          "ternary": {
           "aaxis": {
            "gridcolor": "white",
            "linecolor": "white",
            "ticks": ""
           },
           "baxis": {
            "gridcolor": "white",
            "linecolor": "white",
            "ticks": ""
           },
           "bgcolor": "#E5ECF6",
           "caxis": {
            "gridcolor": "white",
            "linecolor": "white",
            "ticks": ""
           }
          },
          "title": {
           "x": 0.05
          },
          "xaxis": {
           "automargin": true,
           "gridcolor": "white",
           "linecolor": "white",
           "ticks": "",
           "title": {
            "standoff": 15
           },
           "zerolinecolor": "white",
           "zerolinewidth": 2
          },
          "yaxis": {
           "automargin": true,
           "gridcolor": "white",
           "linecolor": "white",
           "ticks": "",
           "title": {
            "standoff": 15
           },
           "zerolinecolor": "white",
           "zerolinewidth": 2
          }
         }
        },
        "title": {
         "text": "CPModel"
        },
        "xaxis": {
         "rangeselector": {
          "buttons": [
           {
            "count": 7,
            "label": "1w",
            "step": "day",
            "stepmode": "backward"
           },
           {
            "count": 1,
            "label": "1m",
            "step": "month",
            "stepmode": "backward"
           },
           {
            "count": 6,
            "label": "6m",
            "step": "month",
            "stepmode": "backward"
           },
           {
            "count": 1,
            "label": "YTD",
            "step": "year",
            "stepmode": "todate"
           },
           {
            "count": 1,
            "label": "1y",
            "step": "year",
            "stepmode": "backward"
           },
           {
            "step": "all"
           }
          ]
         },
         "showgrid": true,
         "type": "date",
         "zeroline": false
        },
        "yaxis": {
         "autorange": false,
         "range": [
          -1,
          16
         ],
         "showgrid": true,
         "ticktext": [
          "Resource9",
          "Resource8",
          "Resource7",
          "Resource6",
          "Resource5",
          "Resource4",
          "Resource3",
          "Resource2",
          "Resource14",
          "Resource13",
          "Resource12",
          "Resource11",
          "Resource10",
          "Resource1",
          "Resource0"
         ],
         "tickvals": [
          0,
          1,
          2,
          3,
          4,
          5,
          6,
          7,
          8,
          9,
          10,
          11,
          12,
          13,
          14
         ],
         "zeroline": false
        }
       }
      }
     },
     "metadata": {},
     "output_type": "display_data"
    },
    {
     "name": "stdout",
     "output_type": "stream",
     "text": [
      "Constraint programming model summary: \n",
      "CpSolverResponse summary:\n",
      "status: OPTIMAL\n",
      "objective: 1231\n",
      "best_bound: 1231\n",
      "integers: 226\n",
      "booleans: 5526\n",
      "conflicts: 9639\n",
      "branches: 13525\n",
      "propagations: 4163203\n",
      "integer_propagations: 2316956\n",
      "restarts: 116\n",
      "lp_iterations: 0\n",
      "walltime: 13.1274\n",
      "usertime: 13.1274\n",
      "deterministic_time: 2.08482\n",
      "gap_integral: 5.40059\n",
      "solution_fingerprint: 0x7547ebd8903d1324\n",
      "\n",
      "no_lp\n"
     ]
    }
   ],
   "source": [
    "from jobshop.utils import get_data\n",
    "\n",
    "durations, machines = get_data()\n",
    "model = CPModel(durations, machines)\n",
    "model.solve()\n",
    "model.summary()"
   ]
  }
 ],
 "metadata": {
  "kernelspec": {
   "display_name": ".venv",
   "language": "python",
   "name": "python3"
  },
  "language_info": {
   "codemirror_mode": {
    "name": "ipython",
    "version": 3
   },
   "file_extension": ".py",
   "mimetype": "text/x-python",
   "name": "python",
   "nbconvert_exporter": "python",
   "pygments_lexer": "ipython3",
   "version": "3.12.0"
  }
 },
 "nbformat": 4,
 "nbformat_minor": 2
}
