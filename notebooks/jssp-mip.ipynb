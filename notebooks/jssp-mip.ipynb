{
 "cells": [
  {
   "cell_type": "markdown",
   "metadata": {},
   "source": [
    "## Job shop scheduling problem (JSSP) with mixed integer programming (MIP)\n"
   ]
  },
  {
   "cell_type": "code",
   "execution_count": 1,
   "metadata": {},
   "outputs": [],
   "source": [
    "import sys\n",
    "if '../' not in sys.path:\n",
    "    sys.path.append('../')"
   ]
  },
  {
   "cell_type": "code",
   "execution_count": 2,
   "metadata": {},
   "outputs": [],
   "source": [
    "from jobshop.data_gen import jobshop_data_gen\n",
    "from jobshop.mip import MIPModel\n",
    "from jobshop.utils import get_data"
   ]
  },
  {
   "cell_type": "code",
   "execution_count": 3,
   "metadata": {},
   "outputs": [
    {
     "name": "stdout",
     "output_type": "stream",
     "text": [
      "OPTIMAL : 457.0\n"
     ]
    },
    {
     "data": {
      "application/vnd.plotly.v1+json": {
       "config": {
        "plotlyServerURL": "https://plot.ly"
       },
       "data": [
        {
         "fill": "toself",
         "fillcolor": "rgb(111, 71, 144)",
         "hoverinfo": "name",
         "legendgroup": "rgb(111, 71, 144)",
         "mode": "none",
         "name": "Job3",
         "type": "scatter",
         "x": [
          "2016-01-01 6:04:20",
          "2016-01-01 6:04:41",
          "2016-01-01 6:04:41",
          "2016-01-01 6:04:20",
          "2016-01-01 6:04:20",
          "2016-01-01 6:00:45",
          "2016-01-01 6:01:12",
          "2016-01-01 6:01:12",
          "2016-01-01 6:00:45",
          "2016-01-01 6:00:45",
          "2016-01-01 6:05:25",
          "2016-01-01 6:05:57",
          "2016-01-01 6:05:57",
          "2016-01-01 6:05:25",
          "2016-01-01 6:05:25",
          "2016-01-01 6:02:14",
          "2016-01-01 6:03:45",
          "2016-01-01 6:03:45",
          "2016-01-01 6:02:14",
          "2016-01-01 6:02:14",
          "2016-01-01 6:04:41",
          "2016-01-01 6:05:25",
          "2016-01-01 6:05:25",
          "2016-01-01 6:04:41",
          "2016-01-01 6:04:41",
          "2016-01-01 6:03:45",
          "2016-01-01 6:03:52",
          "2016-01-01 6:03:52",
          "2016-01-01 6:03:45"
         ],
         "y": [
          4.8,
          4.8,
          5.2,
          5.2,
          null,
          3.8,
          3.8,
          4.2,
          4.2,
          null,
          2.8,
          2.8,
          3.2,
          3.2,
          null,
          1.8,
          1.8,
          2.2,
          2.2,
          null,
          0.8,
          0.8,
          1.2,
          1.2,
          null,
          -0.2,
          -0.2,
          0.2,
          0.2
         ]
        },
        {
         "fill": "toself",
         "fillcolor": "rgb(132, 248, 207)",
         "hoverinfo": "name",
         "legendgroup": "rgb(132, 248, 207)",
         "mode": "none",
         "name": "Job1",
         "type": "scatter",
         "x": [
          "2016-01-01 6:00:00",
          "2016-01-01 6:01:11",
          "2016-01-01 6:01:11",
          "2016-01-01 6:00:00",
          "2016-01-01 6:00:00",
          "2016-01-01 6:02:21",
          "2016-01-01 6:03:32",
          "2016-01-01 6:03:32",
          "2016-01-01 6:02:21",
          "2016-01-01 6:02:21",
          "2016-01-01 6:04:16",
          "2016-01-01 6:04:22",
          "2016-01-01 6:04:22",
          "2016-01-01 6:04:16",
          "2016-01-01 6:04:16",
          "2016-01-01 6:04:29",
          "2016-01-01 6:06:05",
          "2016-01-01 6:06:05",
          "2016-01-01 6:04:29",
          "2016-01-01 6:04:29",
          "2016-01-01 6:03:53",
          "2016-01-01 6:04:16",
          "2016-01-01 6:04:16",
          "2016-01-01 6:03:53",
          "2016-01-01 6:03:53",
          "2016-01-01 6:04:26",
          "2016-01-01 6:04:29",
          "2016-01-01 6:04:29",
          "2016-01-01 6:04:26"
         ],
         "y": [
          4.8,
          4.8,
          5.2,
          5.2,
          null,
          3.8,
          3.8,
          4.2,
          4.2,
          null,
          2.8,
          2.8,
          3.2,
          3.2,
          null,
          1.8,
          1.8,
          2.2,
          2.2,
          null,
          0.8,
          0.8,
          1.2,
          1.2,
          null,
          -0.2,
          -0.2,
          0.2,
          0.2
         ]
        },
        {
         "fill": "toself",
         "fillcolor": "rgb(155, 244, 183)",
         "hoverinfo": "name",
         "legendgroup": "rgb(155, 244, 183)",
         "mode": "none",
         "name": "Job2",
         "type": "scatter",
         "x": [
          "2016-01-01 6:02:21",
          "2016-01-01 6:03:40",
          "2016-01-01 6:03:40",
          "2016-01-01 6:02:21",
          "2016-01-01 6:02:21",
          "2016-01-01 6:01:12",
          "2016-01-01 6:02:21",
          "2016-01-01 6:02:21",
          "2016-01-01 6:01:12",
          "2016-01-01 6:01:12",
          "2016-01-01 6:03:40",
          "2016-01-01 6:04:16",
          "2016-01-01 6:04:16",
          "2016-01-01 6:03:40",
          "2016-01-01 6:03:40",
          "2016-01-01 6:06:05",
          "2016-01-01 6:07:37",
          "2016-01-01 6:07:37",
          "2016-01-01 6:06:05",
          "2016-01-01 6:06:05",
          "2016-01-01 6:00:00",
          "2016-01-01 6:01:12",
          "2016-01-01 6:01:12",
          "2016-01-01 6:00:00",
          "2016-01-01 6:00:00",
          "2016-01-01 6:04:32",
          "2016-01-01 6:06:05",
          "2016-01-01 6:06:05",
          "2016-01-01 6:04:32"
         ],
         "y": [
          4.8,
          4.8,
          5.2,
          5.2,
          null,
          3.8,
          3.8,
          4.2,
          4.2,
          null,
          2.8,
          2.8,
          3.2,
          3.2,
          null,
          1.8,
          1.8,
          2.2,
          2.2,
          null,
          0.8,
          0.8,
          1.2,
          1.2,
          null,
          -0.2,
          -0.2,
          0.2,
          0.2
         ]
        },
        {
         "fill": "toself",
         "fillcolor": "rgb(197, 215, 20)",
         "hoverinfo": "name",
         "legendgroup": "rgb(197, 215, 20)",
         "mode": "none",
         "name": "Job0",
         "type": "scatter",
         "x": [
          "2016-01-01 6:03:40",
          "2016-01-01 6:03:52",
          "2016-01-01 6:03:52",
          "2016-01-01 6:03:40",
          "2016-01-01 6:03:40",
          "2016-01-01 6:07:32",
          "2016-01-01 6:07:37",
          "2016-01-01 6:07:37",
          "2016-01-01 6:07:32",
          "2016-01-01 6:07:32",
          "2016-01-01 6:05:57",
          "2016-01-01 6:07:32",
          "2016-01-01 6:07:32",
          "2016-01-01 6:05:57",
          "2016-01-01 6:05:57",
          "2016-01-01 6:00:00",
          "2016-01-01 6:00:49",
          "2016-01-01 6:00:49",
          "2016-01-01 6:00:00",
          "2016-01-01 6:00:00",
          "2016-01-01 6:01:12",
          "2016-01-01 6:02:49",
          "2016-01-01 6:02:49",
          "2016-01-01 6:01:12",
          "2016-01-01 6:01:12",
          "2016-01-01 6:03:52",
          "2016-01-01 6:04:26",
          "2016-01-01 6:04:26",
          "2016-01-01 6:03:52"
         ],
         "y": [
          4.8,
          4.8,
          5.2,
          5.2,
          null,
          3.8,
          3.8,
          4.2,
          4.2,
          null,
          2.8,
          2.8,
          3.2,
          3.2,
          null,
          1.8,
          1.8,
          2.2,
          2.2,
          null,
          0.8,
          0.8,
          1.2,
          1.2,
          null,
          -0.2,
          -0.2,
          0.2,
          0.2
         ]
        },
        {
         "legendgroup": "rgb(111, 71, 144)",
         "marker": {
          "color": "rgb(111, 71, 144)",
          "opacity": 0,
          "size": 1
         },
         "mode": "markers",
         "name": "",
         "showlegend": false,
         "text": [
          null,
          null,
          null,
          null,
          null,
          null,
          null,
          null,
          null,
          null,
          null,
          null
         ],
         "type": "scatter",
         "x": [
          "2016-01-01 6:04:20",
          "2016-01-01 6:04:41",
          "2016-01-01 6:00:45",
          "2016-01-01 6:01:12",
          "2016-01-01 6:05:25",
          "2016-01-01 6:05:57",
          "2016-01-01 6:02:14",
          "2016-01-01 6:03:45",
          "2016-01-01 6:04:41",
          "2016-01-01 6:05:25",
          "2016-01-01 6:03:45",
          "2016-01-01 6:03:52"
         ],
         "y": [
          5,
          5,
          4,
          4,
          3,
          3,
          2,
          2,
          1,
          1,
          0,
          0
         ]
        },
        {
         "legendgroup": "rgb(132, 248, 207)",
         "marker": {
          "color": "rgb(132, 248, 207)",
          "opacity": 0,
          "size": 1
         },
         "mode": "markers",
         "name": "",
         "showlegend": false,
         "text": [
          null,
          null,
          null,
          null,
          null,
          null,
          null,
          null,
          null,
          null,
          null,
          null
         ],
         "type": "scatter",
         "x": [
          "2016-01-01 6:00:00",
          "2016-01-01 6:01:11",
          "2016-01-01 6:02:21",
          "2016-01-01 6:03:32",
          "2016-01-01 6:04:16",
          "2016-01-01 6:04:22",
          "2016-01-01 6:04:29",
          "2016-01-01 6:06:05",
          "2016-01-01 6:03:53",
          "2016-01-01 6:04:16",
          "2016-01-01 6:04:26",
          "2016-01-01 6:04:29"
         ],
         "y": [
          5,
          5,
          4,
          4,
          3,
          3,
          2,
          2,
          1,
          1,
          0,
          0
         ]
        },
        {
         "legendgroup": "rgb(155, 244, 183)",
         "marker": {
          "color": "rgb(155, 244, 183)",
          "opacity": 0,
          "size": 1
         },
         "mode": "markers",
         "name": "",
         "showlegend": false,
         "text": [
          null,
          null,
          null,
          null,
          null,
          null,
          null,
          null,
          null,
          null,
          null,
          null
         ],
         "type": "scatter",
         "x": [
          "2016-01-01 6:02:21",
          "2016-01-01 6:03:40",
          "2016-01-01 6:01:12",
          "2016-01-01 6:02:21",
          "2016-01-01 6:03:40",
          "2016-01-01 6:04:16",
          "2016-01-01 6:06:05",
          "2016-01-01 6:07:37",
          "2016-01-01 6:00:00",
          "2016-01-01 6:01:12",
          "2016-01-01 6:04:32",
          "2016-01-01 6:06:05"
         ],
         "y": [
          5,
          5,
          4,
          4,
          3,
          3,
          2,
          2,
          1,
          1,
          0,
          0
         ]
        },
        {
         "legendgroup": "rgb(197, 215, 20)",
         "marker": {
          "color": "rgb(197, 215, 20)",
          "opacity": 0,
          "size": 1
         },
         "mode": "markers",
         "name": "",
         "showlegend": false,
         "text": [
          null,
          null,
          null,
          null,
          null,
          null,
          null,
          null,
          null,
          null,
          null,
          null
         ],
         "type": "scatter",
         "x": [
          "2016-01-01 6:03:40",
          "2016-01-01 6:03:52",
          "2016-01-01 6:07:32",
          "2016-01-01 6:07:37",
          "2016-01-01 6:05:57",
          "2016-01-01 6:07:32",
          "2016-01-01 6:00:00",
          "2016-01-01 6:00:49",
          "2016-01-01 6:01:12",
          "2016-01-01 6:02:49",
          "2016-01-01 6:03:52",
          "2016-01-01 6:04:26"
         ],
         "y": [
          5,
          5,
          4,
          4,
          3,
          3,
          2,
          2,
          1,
          1,
          0,
          0
         ]
        }
       ],
       "layout": {
        "height": 600,
        "hovermode": "closest",
        "showlegend": false,
        "template": {
         "data": {
          "bar": [
           {
            "error_x": {
             "color": "#2a3f5f"
            },
            "error_y": {
             "color": "#2a3f5f"
            },
            "marker": {
             "line": {
              "color": "#E5ECF6",
              "width": 0.5
             },
             "pattern": {
              "fillmode": "overlay",
              "size": 10,
              "solidity": 0.2
             }
            },
            "type": "bar"
           }
          ],
          "barpolar": [
           {
            "marker": {
             "line": {
              "color": "#E5ECF6",
              "width": 0.5
             },
             "pattern": {
              "fillmode": "overlay",
              "size": 10,
              "solidity": 0.2
             }
            },
            "type": "barpolar"
           }
          ],
          "carpet": [
           {
            "aaxis": {
             "endlinecolor": "#2a3f5f",
             "gridcolor": "white",
             "linecolor": "white",
             "minorgridcolor": "white",
             "startlinecolor": "#2a3f5f"
            },
            "baxis": {
             "endlinecolor": "#2a3f5f",
             "gridcolor": "white",
             "linecolor": "white",
             "minorgridcolor": "white",
             "startlinecolor": "#2a3f5f"
            },
            "type": "carpet"
           }
          ],
          "choropleth": [
           {
            "colorbar": {
             "outlinewidth": 0,
             "ticks": ""
            },
            "type": "choropleth"
           }
          ],
          "contour": [
           {
            "colorbar": {
             "outlinewidth": 0,
             "ticks": ""
            },
            "colorscale": [
             [
              0,
              "#0d0887"
             ],
             [
              0.1111111111111111,
              "#46039f"
             ],
             [
              0.2222222222222222,
              "#7201a8"
             ],
             [
              0.3333333333333333,
              "#9c179e"
             ],
             [
              0.4444444444444444,
              "#bd3786"
             ],
             [
              0.5555555555555556,
              "#d8576b"
             ],
             [
              0.6666666666666666,
              "#ed7953"
             ],
             [
              0.7777777777777778,
              "#fb9f3a"
             ],
             [
              0.8888888888888888,
              "#fdca26"
             ],
             [
              1,
              "#f0f921"
             ]
            ],
            "type": "contour"
           }
          ],
          "contourcarpet": [
           {
            "colorbar": {
             "outlinewidth": 0,
             "ticks": ""
            },
            "type": "contourcarpet"
           }
          ],
          "heatmap": [
           {
            "colorbar": {
             "outlinewidth": 0,
             "ticks": ""
            },
            "colorscale": [
             [
              0,
              "#0d0887"
             ],
             [
              0.1111111111111111,
              "#46039f"
             ],
             [
              0.2222222222222222,
              "#7201a8"
             ],
             [
              0.3333333333333333,
              "#9c179e"
             ],
             [
              0.4444444444444444,
              "#bd3786"
             ],
             [
              0.5555555555555556,
              "#d8576b"
             ],
             [
              0.6666666666666666,
              "#ed7953"
             ],
             [
              0.7777777777777778,
              "#fb9f3a"
             ],
             [
              0.8888888888888888,
              "#fdca26"
             ],
             [
              1,
              "#f0f921"
             ]
            ],
            "type": "heatmap"
           }
          ],
          "heatmapgl": [
           {
            "colorbar": {
             "outlinewidth": 0,
             "ticks": ""
            },
            "colorscale": [
             [
              0,
              "#0d0887"
             ],
             [
              0.1111111111111111,
              "#46039f"
             ],
             [
              0.2222222222222222,
              "#7201a8"
             ],
             [
              0.3333333333333333,
              "#9c179e"
             ],
             [
              0.4444444444444444,
              "#bd3786"
             ],
             [
              0.5555555555555556,
              "#d8576b"
             ],
             [
              0.6666666666666666,
              "#ed7953"
             ],
             [
              0.7777777777777778,
              "#fb9f3a"
             ],
             [
              0.8888888888888888,
              "#fdca26"
             ],
             [
              1,
              "#f0f921"
             ]
            ],
            "type": "heatmapgl"
           }
          ],
          "histogram": [
           {
            "marker": {
             "pattern": {
              "fillmode": "overlay",
              "size": 10,
              "solidity": 0.2
             }
            },
            "type": "histogram"
           }
          ],
          "histogram2d": [
           {
            "colorbar": {
             "outlinewidth": 0,
             "ticks": ""
            },
            "colorscale": [
             [
              0,
              "#0d0887"
             ],
             [
              0.1111111111111111,
              "#46039f"
             ],
             [
              0.2222222222222222,
              "#7201a8"
             ],
             [
              0.3333333333333333,
              "#9c179e"
             ],
             [
              0.4444444444444444,
              "#bd3786"
             ],
             [
              0.5555555555555556,
              "#d8576b"
             ],
             [
              0.6666666666666666,
              "#ed7953"
             ],
             [
              0.7777777777777778,
              "#fb9f3a"
             ],
             [
              0.8888888888888888,
              "#fdca26"
             ],
             [
              1,
              "#f0f921"
             ]
            ],
            "type": "histogram2d"
           }
          ],
          "histogram2dcontour": [
           {
            "colorbar": {
             "outlinewidth": 0,
             "ticks": ""
            },
            "colorscale": [
             [
              0,
              "#0d0887"
             ],
             [
              0.1111111111111111,
              "#46039f"
             ],
             [
              0.2222222222222222,
              "#7201a8"
             ],
             [
              0.3333333333333333,
              "#9c179e"
             ],
             [
              0.4444444444444444,
              "#bd3786"
             ],
             [
              0.5555555555555556,
              "#d8576b"
             ],
             [
              0.6666666666666666,
              "#ed7953"
             ],
             [
              0.7777777777777778,
              "#fb9f3a"
             ],
             [
              0.8888888888888888,
              "#fdca26"
             ],
             [
              1,
              "#f0f921"
             ]
            ],
            "type": "histogram2dcontour"
           }
          ],
          "mesh3d": [
           {
            "colorbar": {
             "outlinewidth": 0,
             "ticks": ""
            },
            "type": "mesh3d"
           }
          ],
          "parcoords": [
           {
            "line": {
             "colorbar": {
              "outlinewidth": 0,
              "ticks": ""
             }
            },
            "type": "parcoords"
           }
          ],
          "pie": [
           {
            "automargin": true,
            "type": "pie"
           }
          ],
          "scatter": [
           {
            "fillpattern": {
             "fillmode": "overlay",
             "size": 10,
             "solidity": 0.2
            },
            "type": "scatter"
           }
          ],
          "scatter3d": [
           {
            "line": {
             "colorbar": {
              "outlinewidth": 0,
              "ticks": ""
             }
            },
            "marker": {
             "colorbar": {
              "outlinewidth": 0,
              "ticks": ""
             }
            },
            "type": "scatter3d"
           }
          ],
          "scattercarpet": [
           {
            "marker": {
             "colorbar": {
              "outlinewidth": 0,
              "ticks": ""
             }
            },
            "type": "scattercarpet"
           }
          ],
          "scattergeo": [
           {
            "marker": {
             "colorbar": {
              "outlinewidth": 0,
              "ticks": ""
             }
            },
            "type": "scattergeo"
           }
          ],
          "scattergl": [
           {
            "marker": {
             "colorbar": {
              "outlinewidth": 0,
              "ticks": ""
             }
            },
            "type": "scattergl"
           }
          ],
          "scattermapbox": [
           {
            "marker": {
             "colorbar": {
              "outlinewidth": 0,
              "ticks": ""
             }
            },
            "type": "scattermapbox"
           }
          ],
          "scatterpolar": [
           {
            "marker": {
             "colorbar": {
              "outlinewidth": 0,
              "ticks": ""
             }
            },
            "type": "scatterpolar"
           }
          ],
          "scatterpolargl": [
           {
            "marker": {
             "colorbar": {
              "outlinewidth": 0,
              "ticks": ""
             }
            },
            "type": "scatterpolargl"
           }
          ],
          "scatterternary": [
           {
            "marker": {
             "colorbar": {
              "outlinewidth": 0,
              "ticks": ""
             }
            },
            "type": "scatterternary"
           }
          ],
          "surface": [
           {
            "colorbar": {
             "outlinewidth": 0,
             "ticks": ""
            },
            "colorscale": [
             [
              0,
              "#0d0887"
             ],
             [
              0.1111111111111111,
              "#46039f"
             ],
             [
              0.2222222222222222,
              "#7201a8"
             ],
             [
              0.3333333333333333,
              "#9c179e"
             ],
             [
              0.4444444444444444,
              "#bd3786"
             ],
             [
              0.5555555555555556,
              "#d8576b"
             ],
             [
              0.6666666666666666,
              "#ed7953"
             ],
             [
              0.7777777777777778,
              "#fb9f3a"
             ],
             [
              0.8888888888888888,
              "#fdca26"
             ],
             [
              1,
              "#f0f921"
             ]
            ],
            "type": "surface"
           }
          ],
          "table": [
           {
            "cells": {
             "fill": {
              "color": "#EBF0F8"
             },
             "line": {
              "color": "white"
             }
            },
            "header": {
             "fill": {
              "color": "#C8D4E3"
             },
             "line": {
              "color": "white"
             }
            },
            "type": "table"
           }
          ]
         },
         "layout": {
          "annotationdefaults": {
           "arrowcolor": "#2a3f5f",
           "arrowhead": 0,
           "arrowwidth": 1
          },
          "autotypenumbers": "strict",
          "coloraxis": {
           "colorbar": {
            "outlinewidth": 0,
            "ticks": ""
           }
          },
          "colorscale": {
           "diverging": [
            [
             0,
             "#8e0152"
            ],
            [
             0.1,
             "#c51b7d"
            ],
            [
             0.2,
             "#de77ae"
            ],
            [
             0.3,
             "#f1b6da"
            ],
            [
             0.4,
             "#fde0ef"
            ],
            [
             0.5,
             "#f7f7f7"
            ],
            [
             0.6,
             "#e6f5d0"
            ],
            [
             0.7,
             "#b8e186"
            ],
            [
             0.8,
             "#7fbc41"
            ],
            [
             0.9,
             "#4d9221"
            ],
            [
             1,
             "#276419"
            ]
           ],
           "sequential": [
            [
             0,
             "#0d0887"
            ],
            [
             0.1111111111111111,
             "#46039f"
            ],
            [
             0.2222222222222222,
             "#7201a8"
            ],
            [
             0.3333333333333333,
             "#9c179e"
            ],
            [
             0.4444444444444444,
             "#bd3786"
            ],
            [
             0.5555555555555556,
             "#d8576b"
            ],
            [
             0.6666666666666666,
             "#ed7953"
            ],
            [
             0.7777777777777778,
             "#fb9f3a"
            ],
            [
             0.8888888888888888,
             "#fdca26"
            ],
            [
             1,
             "#f0f921"
            ]
           ],
           "sequentialminus": [
            [
             0,
             "#0d0887"
            ],
            [
             0.1111111111111111,
             "#46039f"
            ],
            [
             0.2222222222222222,
             "#7201a8"
            ],
            [
             0.3333333333333333,
             "#9c179e"
            ],
            [
             0.4444444444444444,
             "#bd3786"
            ],
            [
             0.5555555555555556,
             "#d8576b"
            ],
            [
             0.6666666666666666,
             "#ed7953"
            ],
            [
             0.7777777777777778,
             "#fb9f3a"
            ],
            [
             0.8888888888888888,
             "#fdca26"
            ],
            [
             1,
             "#f0f921"
            ]
           ]
          },
          "colorway": [
           "#636efa",
           "#EF553B",
           "#00cc96",
           "#ab63fa",
           "#FFA15A",
           "#19d3f3",
           "#FF6692",
           "#B6E880",
           "#FF97FF",
           "#FECB52"
          ],
          "font": {
           "color": "#2a3f5f"
          },
          "geo": {
           "bgcolor": "white",
           "lakecolor": "white",
           "landcolor": "#E5ECF6",
           "showlakes": true,
           "showland": true,
           "subunitcolor": "white"
          },
          "hoverlabel": {
           "align": "left"
          },
          "hovermode": "closest",
          "mapbox": {
           "style": "light"
          },
          "paper_bgcolor": "white",
          "plot_bgcolor": "#E5ECF6",
          "polar": {
           "angularaxis": {
            "gridcolor": "white",
            "linecolor": "white",
            "ticks": ""
           },
           "bgcolor": "#E5ECF6",
           "radialaxis": {
            "gridcolor": "white",
            "linecolor": "white",
            "ticks": ""
           }
          },
          "scene": {
           "xaxis": {
            "backgroundcolor": "#E5ECF6",
            "gridcolor": "white",
            "gridwidth": 2,
            "linecolor": "white",
            "showbackground": true,
            "ticks": "",
            "zerolinecolor": "white"
           },
           "yaxis": {
            "backgroundcolor": "#E5ECF6",
            "gridcolor": "white",
            "gridwidth": 2,
            "linecolor": "white",
            "showbackground": true,
            "ticks": "",
            "zerolinecolor": "white"
           },
           "zaxis": {
            "backgroundcolor": "#E5ECF6",
            "gridcolor": "white",
            "gridwidth": 2,
            "linecolor": "white",
            "showbackground": true,
            "ticks": "",
            "zerolinecolor": "white"
           }
          },
          "shapedefaults": {
           "line": {
            "color": "#2a3f5f"
           }
          },
          "ternary": {
           "aaxis": {
            "gridcolor": "white",
            "linecolor": "white",
            "ticks": ""
           },
           "baxis": {
            "gridcolor": "white",
            "linecolor": "white",
            "ticks": ""
           },
           "bgcolor": "#E5ECF6",
           "caxis": {
            "gridcolor": "white",
            "linecolor": "white",
            "ticks": ""
           }
          },
          "title": {
           "x": 0.05
          },
          "xaxis": {
           "automargin": true,
           "gridcolor": "white",
           "linecolor": "white",
           "ticks": "",
           "title": {
            "standoff": 15
           },
           "zerolinecolor": "white",
           "zerolinewidth": 2
          },
          "yaxis": {
           "automargin": true,
           "gridcolor": "white",
           "linecolor": "white",
           "ticks": "",
           "title": {
            "standoff": 15
           },
           "zerolinecolor": "white",
           "zerolinewidth": 2
          }
         }
        },
        "title": {
         "text": "MIPModel"
        },
        "xaxis": {
         "rangeselector": {
          "buttons": [
           {
            "count": 7,
            "label": "1w",
            "step": "day",
            "stepmode": "backward"
           },
           {
            "count": 1,
            "label": "1m",
            "step": "month",
            "stepmode": "backward"
           },
           {
            "count": 6,
            "label": "6m",
            "step": "month",
            "stepmode": "backward"
           },
           {
            "count": 1,
            "label": "YTD",
            "step": "year",
            "stepmode": "todate"
           },
           {
            "count": 1,
            "label": "1y",
            "step": "year",
            "stepmode": "backward"
           },
           {
            "step": "all"
           }
          ]
         },
         "showgrid": true,
         "type": "date",
         "zeroline": false
        },
        "yaxis": {
         "autorange": false,
         "range": [
          -1,
          7
         ],
         "showgrid": true,
         "ticktext": [
          "Resource5",
          "Resource4",
          "Resource3",
          "Resource2",
          "Resource1",
          "Resource0"
         ],
         "tickvals": [
          0,
          1,
          2,
          3,
          4,
          5
         ],
         "zeroline": false
        }
       }
      }
     },
     "metadata": {},
     "output_type": "display_data"
    },
    {
     "name": "stdout",
     "output_type": "stream",
     "text": [
      "Mixed Integer Programming (MIP) model summary:\n",
      "132 constraints\n",
      "97 variables\n",
      "579 ms\n"
     ]
    }
   ],
   "source": [
    "durations, machines = jobshop_data_gen(4, 6, 50)\n",
    "mip = MIPModel(durations, machines)\n",
    "mip.solve(display=True)\n",
    "mip.summary()"
   ]
  },
  {
   "cell_type": "markdown",
   "metadata": {},
   "source": [
    "### Solve Taillard instances using MIP, data path must be specified in `get_data` function"
   ]
  },
  {
   "cell_type": "code",
   "execution_count": 4,
   "metadata": {},
   "outputs": [
    {
     "name": "stdout",
     "output_type": "stream",
     "text": [
      "FEASIBLE : 1871.0\n"
     ]
    },
    {
     "data": {
      "application/vnd.plotly.v1+json": {
       "config": {
        "plotlyServerURL": "https://plot.ly"
       },
       "data": [
        {
         "fill": "toself",
         "fillcolor": "rgb(0, 252, 170)",
         "hoverinfo": "name",
         "legendgroup": "rgb(0, 252, 170)",
         "mode": "none",
         "name": "Job11",
         "type": "scatter",
         "x": [
          "2016-01-01 6:03:54",
          "2016-01-01 6:05:09",
          "2016-01-01 6:05:09",
          "2016-01-01 6:03:54",
          "2016-01-01 6:03:54",
          "2016-01-01 6:18:32",
          "2016-01-01 6:19:17",
          "2016-01-01 6:19:17",
          "2016-01-01 6:18:32",
          "2016-01-01 6:18:32",
          "2016-01-01 6:07:36",
          "2016-01-01 6:07:39",
          "2016-01-01 6:07:39",
          "2016-01-01 6:07:36",
          "2016-01-01 6:07:36",
          "2016-01-01 6:27:37",
          "2016-01-01 6:28:35",
          "2016-01-01 6:28:35",
          "2016-01-01 6:27:37",
          "2016-01-01 6:27:37",
          "2016-01-01 6:05:09",
          "2016-01-01 6:05:17",
          "2016-01-01 6:05:17",
          "2016-01-01 6:05:09",
          "2016-01-01 6:05:09",
          "2016-01-01 6:12:57",
          "2016-01-01 6:14:06",
          "2016-01-01 6:14:06",
          "2016-01-01 6:12:57",
          "2016-01-01 6:12:57",
          "2016-01-01 6:00:49",
          "2016-01-01 6:01:32",
          "2016-01-01 6:01:32",
          "2016-01-01 6:00:49",
          "2016-01-01 6:00:49",
          "2016-01-01 6:00:00",
          "2016-01-01 6:00:47",
          "2016-01-01 6:00:47",
          "2016-01-01 6:00:00",
          "2016-01-01 6:00:00",
          "2016-01-01 6:26:30",
          "2016-01-01 6:27:37",
          "2016-01-01 6:27:37",
          "2016-01-01 6:26:30",
          "2016-01-01 6:26:30",
          "2016-01-01 6:28:35",
          "2016-01-01 6:30:02",
          "2016-01-01 6:30:02",
          "2016-01-01 6:28:35",
          "2016-01-01 6:28:35",
          "2016-01-01 6:09:03",
          "2016-01-01 6:09:37",
          "2016-01-01 6:09:37",
          "2016-01-01 6:09:03",
          "2016-01-01 6:09:03",
          "2016-01-01 6:06:15",
          "2016-01-01 6:07:06",
          "2016-01-01 6:07:06",
          "2016-01-01 6:06:15",
          "2016-01-01 6:06:15",
          "2016-01-01 6:07:39",
          "2016-01-01 6:09:03",
          "2016-01-01 6:09:03",
          "2016-01-01 6:07:39",
          "2016-01-01 6:07:39",
          "2016-01-01 6:09:37",
          "2016-01-01 6:10:05",
          "2016-01-01 6:10:05",
          "2016-01-01 6:09:37",
          "2016-01-01 6:09:37",
          "2016-01-01 6:11:57",
          "2016-01-01 6:12:57",
          "2016-01-01 6:12:57",
          "2016-01-01 6:11:57"
         ],
         "y": [
          13.8,
          13.8,
          14.2,
          14.2,
          null,
          12.8,
          12.8,
          13.2,
          13.2,
          null,
          11.8,
          11.8,
          12.2,
          12.2,
          null,
          10.8,
          10.8,
          11.2,
          11.2,
          null,
          9.8,
          9.8,
          10.2,
          10.2,
          null,
          8.8,
          8.8,
          9.2,
          9.2,
          null,
          7.8,
          7.8,
          8.2,
          8.2,
          null,
          6.8,
          6.8,
          7.2,
          7.2,
          null,
          5.8,
          5.8,
          6.2,
          6.2,
          null,
          4.8,
          4.8,
          5.2,
          5.2,
          null,
          3.8,
          3.8,
          4.2,
          4.2,
          null,
          2.8,
          2.8,
          3.2,
          3.2,
          null,
          1.8,
          1.8,
          2.2,
          2.2,
          null,
          0.8,
          0.8,
          1.2,
          1.2,
          null,
          -0.2,
          -0.2,
          0.2,
          0.2
         ]
        },
        {
         "fill": "toself",
         "fillcolor": "rgb(111, 71, 144)",
         "hoverinfo": "name",
         "legendgroup": "rgb(111, 71, 144)",
         "mode": "none",
         "name": "Job3",
         "type": "scatter",
         "x": [
          "2016-01-01 6:07:36",
          "2016-01-01 6:09:10",
          "2016-01-01 6:09:10",
          "2016-01-01 6:07:36",
          "2016-01-01 6:07:36",
          "2016-01-01 6:24:29",
          "2016-01-01 6:26:01",
          "2016-01-01 6:26:01",
          "2016-01-01 6:24:29",
          "2016-01-01 6:24:29",
          "2016-01-01 6:06:43",
          "2016-01-01 6:07:36",
          "2016-01-01 6:07:36",
          "2016-01-01 6:06:43",
          "2016-01-01 6:06:43",
          "2016-01-01 6:20:17",
          "2016-01-01 6:20:47",
          "2016-01-01 6:20:47",
          "2016-01-01 6:20:17",
          "2016-01-01 6:20:17",
          "2016-01-01 6:22:41",
          "2016-01-01 6:23:08",
          "2016-01-01 6:23:08",
          "2016-01-01 6:22:41",
          "2016-01-01 6:22:41",
          "2016-01-01 6:09:10",
          "2016-01-01 6:10:08",
          "2016-01-01 6:10:08",
          "2016-01-01 6:09:10",
          "2016-01-01 6:09:10",
          "2016-01-01 6:16:07",
          "2016-01-01 6:17:38",
          "2016-01-01 6:17:38",
          "2016-01-01 6:16:07",
          "2016-01-01 6:16:07",
          "2016-01-01 6:02:59",
          "2016-01-01 6:03:22",
          "2016-01-01 6:03:22",
          "2016-01-01 6:02:59",
          "2016-01-01 6:02:59",
          "2016-01-01 6:31:02",
          "2016-01-01 6:31:11",
          "2016-01-01 6:31:11",
          "2016-01-01 6:31:02",
          "2016-01-01 6:31:02",
          "2016-01-01 6:13:23",
          "2016-01-01 6:14:56",
          "2016-01-01 6:14:56",
          "2016-01-01 6:13:23",
          "2016-01-01 6:13:23",
          "2016-01-01 6:01:46",
          "2016-01-01 6:02:59",
          "2016-01-01 6:02:59",
          "2016-01-01 6:01:46",
          "2016-01-01 6:01:46",
          "2016-01-01 6:03:54",
          "2016-01-01 6:04:24",
          "2016-01-01 6:04:24",
          "2016-01-01 6:03:54",
          "2016-01-01 6:03:54",
          "2016-01-01 6:14:56",
          "2016-01-01 6:15:28",
          "2016-01-01 6:15:28",
          "2016-01-01 6:14:56",
          "2016-01-01 6:14:56",
          "2016-01-01 6:21:45",
          "2016-01-01 6:22:41",
          "2016-01-01 6:22:41",
          "2016-01-01 6:21:45",
          "2016-01-01 6:21:45",
          "2016-01-01 6:03:24",
          "2016-01-01 6:03:54",
          "2016-01-01 6:03:54",
          "2016-01-01 6:03:24"
         ],
         "y": [
          13.8,
          13.8,
          14.2,
          14.2,
          null,
          12.8,
          12.8,
          13.2,
          13.2,
          null,
          11.8,
          11.8,
          12.2,
          12.2,
          null,
          10.8,
          10.8,
          11.2,
          11.2,
          null,
          9.8,
          9.8,
          10.2,
          10.2,
          null,
          8.8,
          8.8,
          9.2,
          9.2,
          null,
          7.8,
          7.8,
          8.2,
          8.2,
          null,
          6.8,
          6.8,
          7.2,
          7.2,
          null,
          5.8,
          5.8,
          6.2,
          6.2,
          null,
          4.8,
          4.8,
          5.2,
          5.2,
          null,
          3.8,
          3.8,
          4.2,
          4.2,
          null,
          2.8,
          2.8,
          3.2,
          3.2,
          null,
          1.8,
          1.8,
          2.2,
          2.2,
          null,
          0.8,
          0.8,
          1.2,
          1.2,
          null,
          -0.2,
          -0.2,
          0.2,
          0.2
         ]
        },
        {
         "fill": "toself",
         "fillcolor": "rgb(124, 166, 32)",
         "hoverinfo": "name",
         "legendgroup": "rgb(124, 166, 32)",
         "mode": "none",
         "name": "Job12",
         "type": "scatter",
         "x": [
          "2016-01-01 6:11:49",
          "2016-01-01 6:13:06",
          "2016-01-01 6:13:06",
          "2016-01-01 6:11:49",
          "2016-01-01 6:11:49",
          "2016-01-01 6:16:16",
          "2016-01-01 6:17:04",
          "2016-01-01 6:17:04",
          "2016-01-01 6:16:16",
          "2016-01-01 6:16:16",
          "2016-01-01 6:05:06",
          "2016-01-01 6:06:43",
          "2016-01-01 6:06:43",
          "2016-01-01 6:05:06",
          "2016-01-01 6:05:06",
          "2016-01-01 6:17:50",
          "2016-01-01 6:19:20",
          "2016-01-01 6:19:20",
          "2016-01-01 6:17:50",
          "2016-01-01 6:17:50",
          "2016-01-01 6:19:20",
          "2016-01-01 6:20:35",
          "2016-01-01 6:20:35",
          "2016-01-01 6:19:20",
          "2016-01-01 6:19:20",
          "2016-01-01 6:14:06",
          "2016-01-01 6:14:56",
          "2016-01-01 6:14:56",
          "2016-01-01 6:14:06",
          "2016-01-01 6:14:06",
          "2016-01-01 6:29:19",
          "2016-01-01 6:30:03",
          "2016-01-01 6:30:03",
          "2016-01-01 6:29:19",
          "2016-01-01 6:29:19",
          "2016-01-01 6:06:43",
          "2016-01-01 6:07:03",
          "2016-01-01 6:07:03",
          "2016-01-01 6:06:43",
          "2016-01-01 6:06:43",
          "2016-01-01 6:07:44",
          "2016-01-01 6:08:15",
          "2016-01-01 6:08:15",
          "2016-01-01 6:07:44",
          "2016-01-01 6:07:44",
          "2016-01-01 6:14:56",
          "2016-01-01 6:16:16",
          "2016-01-01 6:16:16",
          "2016-01-01 6:14:56",
          "2016-01-01 6:14:56",
          "2016-01-01 6:02:59",
          "2016-01-01 6:04:04",
          "2016-01-01 6:04:04",
          "2016-01-01 6:02:59",
          "2016-01-01 6:02:59",
          "2016-01-01 6:08:15",
          "2016-01-01 6:08:48",
          "2016-01-01 6:08:48",
          "2016-01-01 6:08:15",
          "2016-01-01 6:08:15",
          "2016-01-01 6:23:16",
          "2016-01-01 6:24:52",
          "2016-01-01 6:24:52",
          "2016-01-01 6:23:16",
          "2016-01-01 6:23:16",
          "2016-01-01 6:04:04",
          "2016-01-01 6:05:06",
          "2016-01-01 6:05:06",
          "2016-01-01 6:04:04",
          "2016-01-01 6:04:04",
          "2016-01-01 6:11:16",
          "2016-01-01 6:11:49",
          "2016-01-01 6:11:49",
          "2016-01-01 6:11:16"
         ],
         "y": [
          13.8,
          13.8,
          14.2,
          14.2,
          null,
          12.8,
          12.8,
          13.2,
          13.2,
          null,
          11.8,
          11.8,
          12.2,
          12.2,
          null,
          10.8,
          10.8,
          11.2,
          11.2,
          null,
          9.8,
          9.8,
          10.2,
          10.2,
          null,
          8.8,
          8.8,
          9.2,
          9.2,
          null,
          7.8,
          7.8,
          8.2,
          8.2,
          null,
          6.8,
          6.8,
          7.2,
          7.2,
          null,
          5.8,
          5.8,
          6.2,
          6.2,
          null,
          4.8,
          4.8,
          5.2,
          5.2,
          null,
          3.8,
          3.8,
          4.2,
          4.2,
          null,
          2.8,
          2.8,
          3.2,
          3.2,
          null,
          1.8,
          1.8,
          2.2,
          2.2,
          null,
          0.8,
          0.8,
          1.2,
          1.2,
          null,
          -0.2,
          -0.2,
          0.2,
          0.2
         ]
        },
        {
         "fill": "toself",
         "fillcolor": "rgb(132, 248, 207)",
         "hoverinfo": "name",
         "legendgroup": "rgb(132, 248, 207)",
         "mode": "none",
         "name": "Job1",
         "type": "scatter",
         "x": [
          "2016-01-01 6:20:48",
          "2016-01-01 6:21:06",
          "2016-01-01 6:21:06",
          "2016-01-01 6:20:48",
          "2016-01-01 6:20:48",
          "2016-01-01 6:26:03",
          "2016-01-01 6:27:42",
          "2016-01-01 6:27:42",
          "2016-01-01 6:26:03",
          "2016-01-01 6:26:03",
          "2016-01-01 6:19:29",
          "2016-01-01 6:20:48",
          "2016-01-01 6:20:48",
          "2016-01-01 6:19:29",
          "2016-01-01 6:19:29",
          "2016-01-01 6:15:30",
          "2016-01-01 6:15:38",
          "2016-01-01 6:15:38",
          "2016-01-01 6:15:30",
          "2016-01-01 6:15:30",
          "2016-01-01 6:25:45",
          "2016-01-01 6:26:03",
          "2016-01-01 6:26:03",
          "2016-01-01 6:25:45",
          "2016-01-01 6:25:45",
          "2016-01-01 6:06:19",
          "2016-01-01 6:07:16",
          "2016-01-01 6:07:16",
          "2016-01-01 6:06:19",
          "2016-01-01 6:06:19",
          "2016-01-01 6:03:13",
          "2016-01-01 6:04:04",
          "2016-01-01 6:04:04",
          "2016-01-01 6:03:13",
          "2016-01-01 6:03:13",
          "2016-01-01 6:27:42",
          "2016-01-01 6:28:15",
          "2016-01-01 6:28:15",
          "2016-01-01 6:27:42",
          "2016-01-01 6:27:42",
          "2016-01-01 6:21:06",
          "2016-01-01 6:21:57",
          "2016-01-01 6:21:57",
          "2016-01-01 6:21:06",
          "2016-01-01 6:21:06",
          "2016-01-01 6:00:00",
          "2016-01-01 6:01:14",
          "2016-01-01 6:01:14",
          "2016-01-01 6:00:00",
          "2016-01-01 6:00:00",
          "2016-01-01 6:01:14",
          "2016-01-01 6:01:45",
          "2016-01-01 6:01:45",
          "2016-01-01 6:01:14",
          "2016-01-01 6:01:14",
          "2016-01-01 6:17:47",
          "2016-01-01 6:19:18",
          "2016-01-01 6:19:18",
          "2016-01-01 6:17:47",
          "2016-01-01 6:17:47",
          "2016-01-01 6:01:45",
          "2016-01-01 6:03:13",
          "2016-01-01 6:03:13",
          "2016-01-01 6:01:45",
          "2016-01-01 6:01:45",
          "2016-01-01 6:07:16",
          "2016-01-01 6:08:34",
          "2016-01-01 6:08:34",
          "2016-01-01 6:07:16",
          "2016-01-01 6:07:16",
          "2016-01-01 6:17:40",
          "2016-01-01 6:17:47",
          "2016-01-01 6:17:47",
          "2016-01-01 6:17:40"
         ],
         "y": [
          13.8,
          13.8,
          14.2,
          14.2,
          null,
          12.8,
          12.8,
          13.2,
          13.2,
          null,
          11.8,
          11.8,
          12.2,
          12.2,
          null,
          10.8,
          10.8,
          11.2,
          11.2,
          null,
          9.8,
          9.8,
          10.2,
          10.2,
          null,
          8.8,
          8.8,
          9.2,
          9.2,
          null,
          7.8,
          7.8,
          8.2,
          8.2,
          null,
          6.8,
          6.8,
          7.2,
          7.2,
          null,
          5.8,
          5.8,
          6.2,
          6.2,
          null,
          4.8,
          4.8,
          5.2,
          5.2,
          null,
          3.8,
          3.8,
          4.2,
          4.2,
          null,
          2.8,
          2.8,
          3.2,
          3.2,
          null,
          1.8,
          1.8,
          2.2,
          2.2,
          null,
          0.8,
          0.8,
          1.2,
          1.2,
          null,
          -0.2,
          -0.2,
          0.2,
          0.2
         ]
        },
        {
         "fill": "toself",
         "fillcolor": "rgb(155, 244, 183)",
         "hoverinfo": "name",
         "legendgroup": "rgb(155, 244, 183)",
         "mode": "none",
         "name": "Job2",
         "type": "scatter",
         "x": [
          "2016-01-01 6:22:50",
          "2016-01-01 6:23:44",
          "2016-01-01 6:23:44",
          "2016-01-01 6:22:50",
          "2016-01-01 6:22:50",
          "2016-01-01 6:02:35",
          "2016-01-01 6:02:39",
          "2016-01-01 6:02:39",
          "2016-01-01 6:02:35",
          "2016-01-01 6:02:35",
          "2016-01-01 6:27:36",
          "2016-01-01 6:27:56",
          "2016-01-01 6:27:56",
          "2016-01-01 6:27:36",
          "2016-01-01 6:27:36",
          "2016-01-01 6:13:09",
          "2016-01-01 6:14:03",
          "2016-01-01 6:14:03",
          "2016-01-01 6:13:09",
          "2016-01-01 6:13:09",
          "2016-01-01 6:05:37",
          "2016-01-01 6:07:03",
          "2016-01-01 6:07:03",
          "2016-01-01 6:05:37",
          "2016-01-01 6:05:37",
          "2016-01-01 6:15:00",
          "2016-01-01 6:15:21",
          "2016-01-01 6:15:21",
          "2016-01-01 6:15:00",
          "2016-01-01 6:15:00",
          "2016-01-01 6:30:03",
          "2016-01-01 6:31:11",
          "2016-01-01 6:31:11",
          "2016-01-01 6:30:03",
          "2016-01-01 6:30:03",
          "2016-01-01 6:23:44",
          "2016-01-01 6:24:52",
          "2016-01-01 6:24:52",
          "2016-01-01 6:23:44",
          "2016-01-01 6:23:44",
          "2016-01-01 6:29:28",
          "2016-01-01 6:30:03",
          "2016-01-01 6:30:03",
          "2016-01-01 6:29:28",
          "2016-01-01 6:29:28",
          "2016-01-01 6:27:56",
          "2016-01-01 6:28:35",
          "2016-01-01 6:28:35",
          "2016-01-01 6:27:56",
          "2016-01-01 6:27:56",
          "2016-01-01 6:15:21",
          "2016-01-01 6:15:27",
          "2016-01-01 6:15:27",
          "2016-01-01 6:15:21",
          "2016-01-01 6:15:21",
          "2016-01-01 6:11:07",
          "2016-01-01 6:11:57",
          "2016-01-01 6:11:57",
          "2016-01-01 6:11:07",
          "2016-01-01 6:11:07",
          "2016-01-01 6:24:52",
          "2016-01-01 6:26:14",
          "2016-01-01 6:26:14",
          "2016-01-01 6:24:52",
          "2016-01-01 6:24:52",
          "2016-01-01 6:02:42",
          "2016-01-01 6:04:04",
          "2016-01-01 6:04:04",
          "2016-01-01 6:02:42",
          "2016-01-01 6:02:42",
          "2016-01-01 6:04:57",
          "2016-01-01 6:05:37",
          "2016-01-01 6:05:37",
          "2016-01-01 6:04:57"
         ],
         "y": [
          13.8,
          13.8,
          14.2,
          14.2,
          null,
          12.8,
          12.8,
          13.2,
          13.2,
          null,
          11.8,
          11.8,
          12.2,
          12.2,
          null,
          10.8,
          10.8,
          11.2,
          11.2,
          null,
          9.8,
          9.8,
          10.2,
          10.2,
          null,
          8.8,
          8.8,
          9.2,
          9.2,
          null,
          7.8,
          7.8,
          8.2,
          8.2,
          null,
          6.8,
          6.8,
          7.2,
          7.2,
          null,
          5.8,
          5.8,
          6.2,
          6.2,
          null,
          4.8,
          4.8,
          5.2,
          5.2,
          null,
          3.8,
          3.8,
          4.2,
          4.2,
          null,
          2.8,
          2.8,
          3.2,
          3.2,
          null,
          1.8,
          1.8,
          2.2,
          2.2,
          null,
          0.8,
          0.8,
          1.2,
          1.2,
          null,
          -0.2,
          -0.2,
          0.2,
          0.2
         ]
        },
        {
         "fill": "toself",
         "fillcolor": "rgb(161, 104, 244)",
         "hoverinfo": "name",
         "legendgroup": "rgb(161, 104, 244)",
         "mode": "none",
         "name": "Job8",
         "type": "scatter",
         "x": [
          "2016-01-01 6:05:35",
          "2016-01-01 6:05:48",
          "2016-01-01 6:05:48",
          "2016-01-01 6:05:35",
          "2016-01-01 6:05:35",
          "2016-01-01 6:05:48",
          "2016-01-01 6:07:15",
          "2016-01-01 6:07:15",
          "2016-01-01 6:05:48",
          "2016-01-01 6:05:48",
          "2016-01-01 6:00:00",
          "2016-01-01 6:01:25",
          "2016-01-01 6:01:25",
          "2016-01-01 6:00:00",
          "2016-01-01 6:00:00",
          "2016-01-01 6:01:25",
          "2016-01-01 6:01:55",
          "2016-01-01 6:01:55",
          "2016-01-01 6:01:25",
          "2016-01-01 6:01:25",
          "2016-01-01 6:16:59",
          "2016-01-01 6:18:17",
          "2016-01-01 6:18:17",
          "2016-01-01 6:16:59",
          "2016-01-01 6:16:59",
          "2016-01-01 6:26:09",
          "2016-01-01 6:27:37",
          "2016-01-01 6:27:37",
          "2016-01-01 6:26:09",
          "2016-01-01 6:26:09",
          "2016-01-01 6:04:04",
          "2016-01-01 6:05:35",
          "2016-01-01 6:05:35",
          "2016-01-01 6:04:04",
          "2016-01-01 6:04:04",
          "2016-01-01 6:07:15",
          "2016-01-01 6:08:37",
          "2016-01-01 6:08:37",
          "2016-01-01 6:07:15",
          "2016-01-01 6:07:15",
          "2016-01-01 6:27:37",
          "2016-01-01 6:27:52",
          "2016-01-01 6:27:52",
          "2016-01-01 6:27:37",
          "2016-01-01 6:27:37",
          "2016-01-01 6:18:55",
          "2016-01-01 6:19:51",
          "2016-01-01 6:19:51",
          "2016-01-01 6:18:55",
          "2016-01-01 6:18:55",
          "2016-01-01 6:11:47",
          "2016-01-01 6:13:10",
          "2016-01-01 6:13:10",
          "2016-01-01 6:11:47",
          "2016-01-01 6:11:47",
          "2016-01-01 6:02:02",
          "2016-01-01 6:03:38",
          "2016-01-01 6:03:38",
          "2016-01-01 6:02:02",
          "2016-01-01 6:02:02",
          "2016-01-01 6:23:08",
          "2016-01-01 6:23:16",
          "2016-01-01 6:23:16",
          "2016-01-01 6:23:08",
          "2016-01-01 6:23:08",
          "2016-01-01 6:19:51",
          "2016-01-01 6:21:16",
          "2016-01-01 6:21:16",
          "2016-01-01 6:19:51",
          "2016-01-01 6:19:51",
          "2016-01-01 6:25:03",
          "2016-01-01 6:26:09",
          "2016-01-01 6:26:09",
          "2016-01-01 6:25:03"
         ],
         "y": [
          13.8,
          13.8,
          14.2,
          14.2,
          null,
          12.8,
          12.8,
          13.2,
          13.2,
          null,
          11.8,
          11.8,
          12.2,
          12.2,
          null,
          10.8,
          10.8,
          11.2,
          11.2,
          null,
          9.8,
          9.8,
          10.2,
          10.2,
          null,
          8.8,
          8.8,
          9.2,
          9.2,
          null,
          7.8,
          7.8,
          8.2,
          8.2,
          null,
          6.8,
          6.8,
          7.2,
          7.2,
          null,
          5.8,
          5.8,
          6.2,
          6.2,
          null,
          4.8,
          4.8,
          5.2,
          5.2,
          null,
          3.8,
          3.8,
          4.2,
          4.2,
          null,
          2.8,
          2.8,
          3.2,
          3.2,
          null,
          1.8,
          1.8,
          2.2,
          2.2,
          null,
          0.8,
          0.8,
          1.2,
          1.2,
          null,
          -0.2,
          -0.2,
          0.2,
          0.2
         ]
        },
        {
         "fill": "toself",
         "fillcolor": "rgb(197, 215, 20)",
         "hoverinfo": "name",
         "legendgroup": "rgb(197, 215, 20)",
         "mode": "none",
         "name": "Job0",
         "type": "scatter",
         "x": [
          "2016-01-01 6:24:00",
          "2016-01-01 6:25:10",
          "2016-01-01 6:25:10",
          "2016-01-01 6:24:00",
          "2016-01-01 6:24:00",
          "2016-01-01 6:27:44",
          "2016-01-01 6:29:07",
          "2016-01-01 6:29:07",
          "2016-01-01 6:27:44",
          "2016-01-01 6:27:44",
          "2016-01-01 6:07:39",
          "2016-01-01 6:08:44",
          "2016-01-01 6:08:44",
          "2016-01-01 6:07:39",
          "2016-01-01 6:07:39",
          "2016-01-01 6:14:08",
          "2016-01-01 6:15:30",
          "2016-01-01 6:15:30",
          "2016-01-01 6:14:08",
          "2016-01-01 6:14:08",
          "2016-01-01 6:01:35",
          "2016-01-01 6:02:41",
          "2016-01-01 6:02:41",
          "2016-01-01 6:01:35",
          "2016-01-01 6:01:35",
          "2016-01-01 6:17:40",
          "2016-01-01 6:19:12",
          "2016-01-01 6:19:12",
          "2016-01-01 6:17:40",
          "2016-01-01 6:17:40",
          "2016-01-01 6:15:40",
          "2016-01-01 6:16:07",
          "2016-01-01 6:16:07",
          "2016-01-01 6:15:40",
          "2016-01-01 6:15:40",
          "2016-01-01 6:06:07",
          "2016-01-01 6:06:22",
          "2016-01-01 6:06:22",
          "2016-01-01 6:06:07",
          "2016-01-01 6:06:07",
          "2016-01-01 6:05:15",
          "2016-01-01 6:05:41",
          "2016-01-01 6:05:41",
          "2016-01-01 6:05:15",
          "2016-01-01 6:05:15",
          "2016-01-01 6:04:07",
          "2016-01-01 6:04:17",
          "2016-01-01 6:04:17",
          "2016-01-01 6:04:07",
          "2016-01-01 6:04:07",
          "2016-01-01 6:22:24",
          "2016-01-01 6:24:00",
          "2016-01-01 6:24:00",
          "2016-01-01 6:22:24",
          "2016-01-01 6:22:24",
          "2016-01-01 6:00:00",
          "2016-01-01 6:01:34",
          "2016-01-01 6:01:34",
          "2016-01-01 6:00:00",
          "2016-01-01 6:00:00",
          "2016-01-01 6:04:22",
          "2016-01-01 6:05:15",
          "2016-01-01 6:05:15",
          "2016-01-01 6:04:22",
          "2016-01-01 6:04:22",
          "2016-01-01 6:15:30",
          "2016-01-01 6:15:40",
          "2016-01-01 6:15:40",
          "2016-01-01 6:15:30",
          "2016-01-01 6:15:30",
          "2016-01-01 6:16:07",
          "2016-01-01 6:17:40",
          "2016-01-01 6:17:40",
          "2016-01-01 6:16:07"
         ],
         "y": [
          13.8,
          13.8,
          14.2,
          14.2,
          null,
          12.8,
          12.8,
          13.2,
          13.2,
          null,
          11.8,
          11.8,
          12.2,
          12.2,
          null,
          10.8,
          10.8,
          11.2,
          11.2,
          null,
          9.8,
          9.8,
          10.2,
          10.2,
          null,
          8.8,
          8.8,
          9.2,
          9.2,
          null,
          7.8,
          7.8,
          8.2,
          8.2,
          null,
          6.8,
          6.8,
          7.2,
          7.2,
          null,
          5.8,
          5.8,
          6.2,
          6.2,
          null,
          4.8,
          4.8,
          5.2,
          5.2,
          null,
          3.8,
          3.8,
          4.2,
          4.2,
          null,
          2.8,
          2.8,
          3.2,
          3.2,
          null,
          1.8,
          1.8,
          2.2,
          2.2,
          null,
          0.8,
          0.8,
          1.2,
          1.2,
          null,
          -0.2,
          -0.2,
          0.2,
          0.2
         ]
        },
        {
         "fill": "toself",
         "fillcolor": "rgb(226, 133, 31)",
         "hoverinfo": "name",
         "legendgroup": "rgb(226, 133, 31)",
         "mode": "none",
         "name": "Job9",
         "type": "scatter",
         "x": [
          "2016-01-01 6:05:56",
          "2016-01-01 6:06:13",
          "2016-01-01 6:06:13",
          "2016-01-01 6:05:56",
          "2016-01-01 6:05:56",
          "2016-01-01 6:19:26",
          "2016-01-01 6:20:35",
          "2016-01-01 6:20:35",
          "2016-01-01 6:19:26",
          "2016-01-01 6:19:26",
          "2016-01-01 6:16:32",
          "2016-01-01 6:17:50",
          "2016-01-01 6:17:50",
          "2016-01-01 6:16:32",
          "2016-01-01 6:16:32",
          "2016-01-01 6:01:55",
          "2016-01-01 6:02:54",
          "2016-01-01 6:02:54",
          "2016-01-01 6:01:55",
          "2016-01-01 6:01:55",
          "2016-01-01 6:20:35",
          "2016-01-01 6:21:20",
          "2016-01-01 6:21:20",
          "2016-01-01 6:20:35",
          "2016-01-01 6:20:35",
          "2016-01-01 6:11:51",
          "2016-01-01 6:12:57",
          "2016-01-01 6:12:57",
          "2016-01-01 6:11:51",
          "2016-01-01 6:11:51",
          "2016-01-01 6:21:20",
          "2016-01-01 6:22:42",
          "2016-01-01 6:22:42",
          "2016-01-01 6:21:20",
          "2016-01-01 6:21:20",
          "2016-01-01 6:03:24",
          "2016-01-01 6:04:24",
          "2016-01-01 6:04:24",
          "2016-01-01 6:03:24",
          "2016-01-01 6:03:24",
          "2016-01-01 6:15:03",
          "2016-01-01 6:16:32",
          "2016-01-01 6:16:32",
          "2016-01-01 6:15:03",
          "2016-01-01 6:15:03",
          "2016-01-01 6:22:42",
          "2016-01-01 6:22:48",
          "2016-01-01 6:22:48",
          "2016-01-01 6:22:42",
          "2016-01-01 6:22:42",
          "2016-01-01 6:24:00",
          "2016-01-01 6:24:13",
          "2016-01-01 6:24:13",
          "2016-01-01 6:24:00",
          "2016-01-01 6:24:00",
          "2016-01-01 6:01:34",
          "2016-01-01 6:01:39",
          "2016-01-01 6:01:39",
          "2016-01-01 6:01:34",
          "2016-01-01 6:01:34",
          "2016-01-01 6:17:58",
          "2016-01-01 6:19:26",
          "2016-01-01 6:19:26",
          "2016-01-01 6:17:58",
          "2016-01-01 6:17:58",
          "2016-01-01 6:05:15",
          "2016-01-01 6:05:56",
          "2016-01-01 6:05:56",
          "2016-01-01 6:05:15",
          "2016-01-01 6:05:15",
          "2016-01-01 6:02:54",
          "2016-01-01 6:03:24",
          "2016-01-01 6:03:24",
          "2016-01-01 6:02:54"
         ],
         "y": [
          13.8,
          13.8,
          14.2,
          14.2,
          null,
          12.8,
          12.8,
          13.2,
          13.2,
          null,
          11.8,
          11.8,
          12.2,
          12.2,
          null,
          10.8,
          10.8,
          11.2,
          11.2,
          null,
          9.8,
          9.8,
          10.2,
          10.2,
          null,
          8.8,
          8.8,
          9.2,
          9.2,
          null,
          7.8,
          7.8,
          8.2,
          8.2,
          null,
          6.8,
          6.8,
          7.2,
          7.2,
          null,
          5.8,
          5.8,
          6.2,
          6.2,
          null,
          4.8,
          4.8,
          5.2,
          5.2,
          null,
          3.8,
          3.8,
          4.2,
          4.2,
          null,
          2.8,
          2.8,
          3.2,
          3.2,
          null,
          1.8,
          1.8,
          2.2,
          2.2,
          null,
          0.8,
          0.8,
          1.2,
          1.2,
          null,
          -0.2,
          -0.2,
          0.2,
          0.2
         ]
        },
        {
         "fill": "toself",
         "fillcolor": "rgb(37, 169, 241)",
         "hoverinfo": "name",
         "legendgroup": "rgb(37, 169, 241)",
         "mode": "none",
         "name": "Job6",
         "type": "scatter",
         "x": [
          "2016-01-01 6:26:33",
          "2016-01-01 6:27:10",
          "2016-01-01 6:27:10",
          "2016-01-01 6:26:33",
          "2016-01-01 6:26:33",
          "2016-01-01 6:09:11",
          "2016-01-01 6:09:30",
          "2016-01-01 6:09:30",
          "2016-01-01 6:09:11",
          "2016-01-01 6:09:11",
          "2016-01-01 6:26:09",
          "2016-01-01 6:26:33",
          "2016-01-01 6:26:33",
          "2016-01-01 6:26:09",
          "2016-01-01 6:26:09",
          "2016-01-01 6:15:47",
          "2016-01-01 6:16:41",
          "2016-01-01 6:16:41",
          "2016-01-01 6:15:47",
          "2016-01-01 6:15:47",
          "2016-01-01 6:00:00",
          "2016-01-01 6:00:18",
          "2016-01-01 6:00:18",
          "2016-01-01 6:00:00",
          "2016-01-01 6:00:00",
          "2016-01-01 6:27:37",
          "2016-01-01 6:29:04",
          "2016-01-01 6:29:04",
          "2016-01-01 6:27:37",
          "2016-01-01 6:27:37",
          "2016-01-01 6:05:35",
          "2016-01-01 6:07:06",
          "2016-01-01 6:07:06",
          "2016-01-01 6:05:35",
          "2016-01-01 6:05:35",
          "2016-01-01 6:25:26",
          "2016-01-01 6:26:09",
          "2016-01-01 6:26:09",
          "2016-01-01 6:25:26",
          "2016-01-01 6:25:26",
          "2016-01-01 6:01:30",
          "2016-01-01 6:02:45",
          "2016-01-01 6:02:45",
          "2016-01-01 6:01:30",
          "2016-01-01 6:01:30",
          "2016-01-01 6:22:48",
          "2016-01-01 6:24:13",
          "2016-01-01 6:24:13",
          "2016-01-01 6:22:48",
          "2016-01-01 6:22:48",
          "2016-01-01 6:24:13",
          "2016-01-01 6:25:26",
          "2016-01-01 6:25:26",
          "2016-01-01 6:24:13",
          "2016-01-01 6:24:13",
          "2016-01-01 6:07:06",
          "2016-01-01 6:08:14",
          "2016-01-01 6:08:14",
          "2016-01-01 6:07:06",
          "2016-01-01 6:07:06",
          "2016-01-01 6:04:02",
          "2016-01-01 6:04:22",
          "2016-01-01 6:04:22",
          "2016-01-01 6:04:02",
          "2016-01-01 6:04:02",
          "2016-01-01 6:05:11",
          "2016-01-01 6:05:15",
          "2016-01-01 6:05:15",
          "2016-01-01 6:05:11",
          "2016-01-01 6:05:11",
          "2016-01-01 6:29:48",
          "2016-01-01 6:30:54",
          "2016-01-01 6:30:54",
          "2016-01-01 6:29:48"
         ],
         "y": [
          13.8,
          13.8,
          14.2,
          14.2,
          null,
          12.8,
          12.8,
          13.2,
          13.2,
          null,
          11.8,
          11.8,
          12.2,
          12.2,
          null,
          10.8,
          10.8,
          11.2,
          11.2,
          null,
          9.8,
          9.8,
          10.2,
          10.2,
          null,
          8.8,
          8.8,
          9.2,
          9.2,
          null,
          7.8,
          7.8,
          8.2,
          8.2,
          null,
          6.8,
          6.8,
          7.2,
          7.2,
          null,
          5.8,
          5.8,
          6.2,
          6.2,
          null,
          4.8,
          4.8,
          5.2,
          5.2,
          null,
          3.8,
          3.8,
          4.2,
          4.2,
          null,
          2.8,
          2.8,
          3.2,
          3.2,
          null,
          1.8,
          1.8,
          2.2,
          2.2,
          null,
          0.8,
          0.8,
          1.2,
          1.2,
          null,
          -0.2,
          -0.2,
          0.2,
          0.2
         ]
        },
        {
         "fill": "toself",
         "fillcolor": "rgb(51, 181, 222)",
         "hoverinfo": "name",
         "legendgroup": "rgb(51, 181, 222)",
         "mode": "none",
         "name": "Job7",
         "type": "scatter",
         "x": [
          "2016-01-01 6:06:41",
          "2016-01-01 6:06:50",
          "2016-01-01 6:06:50",
          "2016-01-01 6:06:41",
          "2016-01-01 6:06:41",
          "2016-01-01 6:17:04",
          "2016-01-01 6:18:06",
          "2016-01-01 6:18:06",
          "2016-01-01 6:17:04",
          "2016-01-01 6:17:04",
          "2016-01-01 6:31:04",
          "2016-01-01 6:31:11",
          "2016-01-01 6:31:11",
          "2016-01-01 6:31:04",
          "2016-01-01 6:31:04",
          "2016-01-01 6:02:54",
          "2016-01-01 6:03:26",
          "2016-01-01 6:03:26",
          "2016-01-01 6:02:54",
          "2016-01-01 6:02:54",
          "2016-01-01 6:09:07",
          "2016-01-01 6:10:08",
          "2016-01-01 6:10:08",
          "2016-01-01 6:09:07",
          "2016-01-01 6:09:07",
          "2016-01-01 6:10:08",
          "2016-01-01 6:10:43",
          "2016-01-01 6:10:43",
          "2016-01-01 6:10:08",
          "2016-01-01 6:10:08",
          "2016-01-01 6:13:29",
          "2016-01-01 6:15:08",
          "2016-01-01 6:15:08",
          "2016-01-01 6:13:29",
          "2016-01-01 6:13:29",
          "2016-01-01 6:18:43",
          "2016-01-01 6:18:49",
          "2016-01-01 6:18:49",
          "2016-01-01 6:18:43",
          "2016-01-01 6:18:43",
          "2016-01-01 6:21:57",
          "2016-01-01 6:23:17",
          "2016-01-01 6:23:17",
          "2016-01-01 6:21:57",
          "2016-01-01 6:21:57",
          "2016-01-01 6:21:50",
          "2016-01-01 6:21:57",
          "2016-01-01 6:21:57",
          "2016-01-01 6:21:50",
          "2016-01-01 6:21:50",
          "2016-01-01 6:05:24",
          "2016-01-01 6:06:16",
          "2016-01-01 6:06:16",
          "2016-01-01 6:05:24",
          "2016-01-01 6:05:24",
          "2016-01-01 6:28:40",
          "2016-01-01 6:29:37",
          "2016-01-01 6:29:37",
          "2016-01-01 6:28:40",
          "2016-01-01 6:28:40",
          "2016-01-01 6:06:50",
          "2016-01-01 6:07:39",
          "2016-01-01 6:07:39",
          "2016-01-01 6:06:50",
          "2016-01-01 6:06:50",
          "2016-01-01 6:18:49",
          "2016-01-01 6:19:51",
          "2016-01-01 6:19:51",
          "2016-01-01 6:18:49",
          "2016-01-01 6:18:49",
          "2016-01-01 6:28:37",
          "2016-01-01 6:28:40",
          "2016-01-01 6:28:40",
          "2016-01-01 6:28:37"
         ],
         "y": [
          13.8,
          13.8,
          14.2,
          14.2,
          null,
          12.8,
          12.8,
          13.2,
          13.2,
          null,
          11.8,
          11.8,
          12.2,
          12.2,
          null,
          10.8,
          10.8,
          11.2,
          11.2,
          null,
          9.8,
          9.8,
          10.2,
          10.2,
          null,
          8.8,
          8.8,
          9.2,
          9.2,
          null,
          7.8,
          7.8,
          8.2,
          8.2,
          null,
          6.8,
          6.8,
          7.2,
          7.2,
          null,
          5.8,
          5.8,
          6.2,
          6.2,
          null,
          4.8,
          4.8,
          5.2,
          5.2,
          null,
          3.8,
          3.8,
          4.2,
          4.2,
          null,
          2.8,
          2.8,
          3.2,
          3.2,
          null,
          1.8,
          1.8,
          2.2,
          2.2,
          null,
          0.8,
          0.8,
          1.2,
          1.2,
          null,
          -0.2,
          -0.2,
          0.2,
          0.2
         ]
        },
        {
         "fill": "toself",
         "fillcolor": "rgb(7, 47, 204)",
         "hoverinfo": "name",
         "legendgroup": "rgb(7, 47, 204)",
         "mode": "none",
         "name": "Job10",
         "type": "scatter",
         "x": [
          "2016-01-01 6:05:48",
          "2016-01-01 6:05:56",
          "2016-01-01 6:05:56",
          "2016-01-01 6:05:48",
          "2016-01-01 6:05:48",
          "2016-01-01 6:22:36",
          "2016-01-01 6:24:09",
          "2016-01-01 6:24:09",
          "2016-01-01 6:22:36",
          "2016-01-01 6:22:36",
          "2016-01-01 6:16:04",
          "2016-01-01 6:16:32",
          "2016-01-01 6:16:32",
          "2016-01-01 6:16:04",
          "2016-01-01 6:16:04",
          "2016-01-01 6:24:09",
          "2016-01-01 6:24:15",
          "2016-01-01 6:24:15",
          "2016-01-01 6:24:09",
          "2016-01-01 6:24:09",
          "2016-01-01 6:07:47",
          "2016-01-01 6:09:07",
          "2016-01-01 6:09:07",
          "2016-01-01 6:07:47",
          "2016-01-01 6:07:47",
          "2016-01-01 6:04:02",
          "2016-01-01 6:04:03",
          "2016-01-01 6:04:03",
          "2016-01-01 6:04:02",
          "2016-01-01 6:04:02",
          "2016-01-01 6:15:08",
          "2016-01-01 6:15:40",
          "2016-01-01 6:15:40",
          "2016-01-01 6:15:08",
          "2016-01-01 6:15:08",
          "2016-01-01 6:29:58",
          "2016-01-01 6:31:11",
          "2016-01-01 6:31:11",
          "2016-01-01 6:29:58",
          "2016-01-01 6:29:58",
          "2016-01-01 6:19:36",
          "2016-01-01 6:21:06",
          "2016-01-01 6:21:06",
          "2016-01-01 6:19:36",
          "2016-01-01 6:19:36",
          "2016-01-01 6:02:05",
          "2016-01-01 6:03:35",
          "2016-01-01 6:03:35",
          "2016-01-01 6:02:05",
          "2016-01-01 6:02:05",
          "2016-01-01 6:06:16",
          "2016-01-01 6:07:47",
          "2016-01-01 6:07:47",
          "2016-01-01 6:06:16",
          "2016-01-01 6:06:16",
          "2016-01-01 6:12:50",
          "2016-01-01 6:14:19",
          "2016-01-01 6:14:19",
          "2016-01-01 6:12:50",
          "2016-01-01 6:12:50",
          "2016-01-01 6:03:35",
          "2016-01-01 6:04:02",
          "2016-01-01 6:04:02",
          "2016-01-01 6:03:35",
          "2016-01-01 6:03:35",
          "2016-01-01 6:14:19",
          "2016-01-01 6:15:08",
          "2016-01-01 6:15:08",
          "2016-01-01 6:14:19",
          "2016-01-01 6:14:19",
          "2016-01-01 6:28:02",
          "2016-01-01 6:28:37",
          "2016-01-01 6:28:37",
          "2016-01-01 6:28:02"
         ],
         "y": [
          13.8,
          13.8,
          14.2,
          14.2,
          null,
          12.8,
          12.8,
          13.2,
          13.2,
          null,
          11.8,
          11.8,
          12.2,
          12.2,
          null,
          10.8,
          10.8,
          11.2,
          11.2,
          null,
          9.8,
          9.8,
          10.2,
          10.2,
          null,
          8.8,
          8.8,
          9.2,
          9.2,
          null,
          7.8,
          7.8,
          8.2,
          8.2,
          null,
          6.8,
          6.8,
          7.2,
          7.2,
          null,
          5.8,
          5.8,
          6.2,
          6.2,
          null,
          4.8,
          4.8,
          5.2,
          5.2,
          null,
          3.8,
          3.8,
          4.2,
          4.2,
          null,
          2.8,
          2.8,
          3.2,
          3.2,
          null,
          1.8,
          1.8,
          2.2,
          2.2,
          null,
          0.8,
          0.8,
          1.2,
          1.2,
          null,
          -0.2,
          -0.2,
          0.2,
          0.2
         ]
        },
        {
         "fill": "toself",
         "fillcolor": "rgb(71, 48, 128)",
         "hoverinfo": "name",
         "legendgroup": "rgb(71, 48, 128)",
         "mode": "none",
         "name": "Job4",
         "type": "scatter",
         "x": [
          "2016-01-01 6:27:10",
          "2016-01-01 6:27:52",
          "2016-01-01 6:27:52",
          "2016-01-01 6:27:10",
          "2016-01-01 6:27:10",
          "2016-01-01 6:14:26",
          "2016-01-01 6:15:59",
          "2016-01-01 6:15:59",
          "2016-01-01 6:14:26",
          "2016-01-01 6:14:26",
          "2016-01-01 6:04:06",
          "2016-01-01 6:05:06",
          "2016-01-01 6:05:06",
          "2016-01-01 6:04:06",
          "2016-01-01 6:04:06",
          "2016-01-01 6:16:41",
          "2016-01-01 6:17:33",
          "2016-01-01 6:17:33",
          "2016-01-01 6:16:41",
          "2016-01-01 6:16:41",
          "2016-01-01 6:11:51",
          "2016-01-01 6:13:10",
          "2016-01-01 6:13:10",
          "2016-01-01 6:11:51",
          "2016-01-01 6:11:51",
          "2016-01-01 6:15:59",
          "2016-01-01 6:16:41",
          "2016-01-01 6:16:41",
          "2016-01-01 6:15:59",
          "2016-01-01 6:15:59",
          "2016-01-01 6:10:12",
          "2016-01-01 6:11:51",
          "2016-01-01 6:11:51",
          "2016-01-01 6:10:12",
          "2016-01-01 6:10:12",
          "2016-01-01 6:08:37",
          "2016-01-01 6:10:12",
          "2016-01-01 6:10:12",
          "2016-01-01 6:08:37",
          "2016-01-01 6:08:37",
          "2016-01-01 6:27:52",
          "2016-01-01 6:29:28",
          "2016-01-01 6:29:28",
          "2016-01-01 6:27:52",
          "2016-01-01 6:27:52",
          "2016-01-01 6:07:32",
          "2016-01-01 6:08:08",
          "2016-01-01 6:08:08",
          "2016-01-01 6:07:32",
          "2016-01-01 6:07:32",
          "2016-01-01 6:13:10",
          "2016-01-01 6:14:26",
          "2016-01-01 6:14:26",
          "2016-01-01 6:13:10",
          "2016-01-01 6:13:10",
          "2016-01-01 6:01:41",
          "2016-01-01 6:02:02",
          "2016-01-01 6:02:02",
          "2016-01-01 6:01:41",
          "2016-01-01 6:01:41",
          "2016-01-01 6:00:00",
          "2016-01-01 6:01:18",
          "2016-01-01 6:01:18",
          "2016-01-01 6:00:00",
          "2016-01-01 6:00:00",
          "2016-01-01 6:01:18",
          "2016-01-01 6:01:41",
          "2016-01-01 6:01:41",
          "2016-01-01 6:01:18",
          "2016-01-01 6:01:18",
          "2016-01-01 6:08:08",
          "2016-01-01 6:08:37",
          "2016-01-01 6:08:37",
          "2016-01-01 6:08:08"
         ],
         "y": [
          13.8,
          13.8,
          14.2,
          14.2,
          null,
          12.8,
          12.8,
          13.2,
          13.2,
          null,
          11.8,
          11.8,
          12.2,
          12.2,
          null,
          10.8,
          10.8,
          11.2,
          11.2,
          null,
          9.8,
          9.8,
          10.2,
          10.2,
          null,
          8.8,
          8.8,
          9.2,
          9.2,
          null,
          7.8,
          7.8,
          8.2,
          8.2,
          null,
          6.8,
          6.8,
          7.2,
          7.2,
          null,
          5.8,
          5.8,
          6.2,
          6.2,
          null,
          4.8,
          4.8,
          5.2,
          5.2,
          null,
          3.8,
          3.8,
          4.2,
          4.2,
          null,
          2.8,
          2.8,
          3.2,
          3.2,
          null,
          1.8,
          1.8,
          2.2,
          2.2,
          null,
          0.8,
          0.8,
          1.2,
          1.2,
          null,
          -0.2,
          -0.2,
          0.2,
          0.2
         ]
        },
        {
         "fill": "toself",
         "fillcolor": "rgb(72, 229, 46)",
         "hoverinfo": "name",
         "legendgroup": "rgb(72, 229, 46)",
         "mode": "none",
         "name": "Job14",
         "type": "scatter",
         "x": [
          "2016-01-01 6:14:23",
          "2016-01-01 6:14:31",
          "2016-01-01 6:14:31",
          "2016-01-01 6:14:23",
          "2016-01-01 6:14:23",
          "2016-01-01 6:08:45",
          "2016-01-01 6:09:11",
          "2016-01-01 6:09:11",
          "2016-01-01 6:08:45",
          "2016-01-01 6:08:45",
          "2016-01-01 6:01:25",
          "2016-01-01 6:02:22",
          "2016-01-01 6:02:22",
          "2016-01-01 6:01:25",
          "2016-01-01 6:01:25",
          "2016-01-01 6:14:03",
          "2016-01-01 6:14:08",
          "2016-01-01 6:14:08",
          "2016-01-01 6:14:03",
          "2016-01-01 6:14:03",
          "2016-01-01 6:02:41",
          "2016-01-01 6:03:23",
          "2016-01-01 6:03:23",
          "2016-01-01 6:02:41",
          "2016-01-01 6:02:41",
          "2016-01-01 6:10:43",
          "2016-01-01 6:11:51",
          "2016-01-01 6:11:51",
          "2016-01-01 6:10:43",
          "2016-01-01 6:10:43",
          "2016-01-01 6:11:51",
          "2016-01-01 6:13:04",
          "2016-01-01 6:13:04",
          "2016-01-01 6:11:51",
          "2016-01-01 6:11:51",
          "2016-01-01 6:26:19",
          "2016-01-01 6:27:42",
          "2016-01-01 6:27:42",
          "2016-01-01 6:26:19",
          "2016-01-01 6:26:19",
          "2016-01-01 6:23:17",
          "2016-01-01 6:24:44",
          "2016-01-01 6:24:44",
          "2016-01-01 6:23:17",
          "2016-01-01 6:23:17",
          "2016-01-01 6:08:08",
          "2016-01-01 6:08:45",
          "2016-01-01 6:08:45",
          "2016-01-01 6:08:08",
          "2016-01-01 6:08:08",
          "2016-01-01 6:29:34",
          "2016-01-01 6:31:11",
          "2016-01-01 6:31:11",
          "2016-01-01 6:29:34",
          "2016-01-01 6:29:34",
          "2016-01-01 6:04:24",
          "2016-01-01 6:04:58",
          "2016-01-01 6:04:58",
          "2016-01-01 6:04:24",
          "2016-01-01 6:04:24",
          "2016-01-01 6:14:31",
          "2016-01-01 6:14:43",
          "2016-01-01 6:14:43",
          "2016-01-01 6:14:31",
          "2016-01-01 6:14:31",
          "2016-01-01 6:02:22",
          "2016-01-01 6:02:38",
          "2016-01-01 6:02:38",
          "2016-01-01 6:02:22",
          "2016-01-01 6:02:22",
          "2016-01-01 6:27:42",
          "2016-01-01 6:28:02",
          "2016-01-01 6:28:02",
          "2016-01-01 6:27:42"
         ],
         "y": [
          13.8,
          13.8,
          14.2,
          14.2,
          null,
          12.8,
          12.8,
          13.2,
          13.2,
          null,
          11.8,
          11.8,
          12.2,
          12.2,
          null,
          10.8,
          10.8,
          11.2,
          11.2,
          null,
          9.8,
          9.8,
          10.2,
          10.2,
          null,
          8.8,
          8.8,
          9.2,
          9.2,
          null,
          7.8,
          7.8,
          8.2,
          8.2,
          null,
          6.8,
          6.8,
          7.2,
          7.2,
          null,
          5.8,
          5.8,
          6.2,
          6.2,
          null,
          4.8,
          4.8,
          5.2,
          5.2,
          null,
          3.8,
          3.8,
          4.2,
          4.2,
          null,
          2.8,
          2.8,
          3.2,
          3.2,
          null,
          1.8,
          1.8,
          2.2,
          2.2,
          null,
          0.8,
          0.8,
          1.2,
          1.2,
          null,
          -0.2,
          -0.2,
          0.2,
          0.2
         ]
        },
        {
         "fill": "toself",
         "fillcolor": "rgb(75, 158, 50)",
         "hoverinfo": "name",
         "legendgroup": "rgb(75, 158, 50)",
         "mode": "none",
         "name": "Job5",
         "type": "scatter",
         "x": [
          "2016-01-01 6:21:23",
          "2016-01-01 6:22:50",
          "2016-01-01 6:22:50",
          "2016-01-01 6:21:23",
          "2016-01-01 6:21:23",
          "2016-01-01 6:18:06",
          "2016-01-01 6:18:32",
          "2016-01-01 6:18:32",
          "2016-01-01 6:18:06",
          "2016-01-01 6:18:06",
          "2016-01-01 6:18:32",
          "2016-01-01 6:19:22",
          "2016-01-01 6:19:22",
          "2016-01-01 6:18:32",
          "2016-01-01 6:18:32",
          "2016-01-01 6:06:19",
          "2016-01-01 6:06:35",
          "2016-01-01 6:06:35",
          "2016-01-01 6:06:19",
          "2016-01-01 6:06:19",
          "2016-01-01 6:03:41",
          "2016-01-01 6:05:09",
          "2016-01-01 6:05:09",
          "2016-01-01 6:03:41",
          "2016-01-01 6:03:41",
          "2016-01-01 6:05:09",
          "2016-01-01 6:06:19",
          "2016-01-01 6:06:19",
          "2016-01-01 6:05:09",
          "2016-01-01 6:05:09",
          "2016-01-01 6:09:07",
          "2016-01-01 6:10:12",
          "2016-01-01 6:10:12",
          "2016-01-01 6:09:07",
          "2016-01-01 6:09:07",
          "2016-01-01 6:14:58",
          "2016-01-01 6:16:16",
          "2016-01-01 6:16:16",
          "2016-01-01 6:14:58",
          "2016-01-01 6:14:58",
          "2016-01-01 6:00:29",
          "2016-01-01 6:01:30",
          "2016-01-01 6:01:30",
          "2016-01-01 6:00:29",
          "2016-01-01 6:00:29",
          "2016-01-01 6:06:35",
          "2016-01-01 6:07:06",
          "2016-01-01 6:07:06",
          "2016-01-01 6:06:35",
          "2016-01-01 6:06:35",
          "2016-01-01 6:00:00",
          "2016-01-01 6:00:29",
          "2016-01-01 6:00:29",
          "2016-01-01 6:00:00",
          "2016-01-01 6:00:00",
          "2016-01-01 6:30:27",
          "2016-01-01 6:30:41",
          "2016-01-01 6:30:41",
          "2016-01-01 6:30:27",
          "2016-01-01 6:30:27",
          "2016-01-01 6:12:50",
          "2016-01-01 6:14:13",
          "2016-01-01 6:14:13",
          "2016-01-01 6:12:50",
          "2016-01-01 6:12:50",
          "2016-01-01 6:30:41",
          "2016-01-01 6:31:11",
          "2016-01-01 6:31:11",
          "2016-01-01 6:30:41",
          "2016-01-01 6:30:41",
          "2016-01-01 6:28:40",
          "2016-01-01 6:29:42",
          "2016-01-01 6:29:42",
          "2016-01-01 6:28:40"
         ],
         "y": [
          13.8,
          13.8,
          14.2,
          14.2,
          null,
          12.8,
          12.8,
          13.2,
          13.2,
          null,
          11.8,
          11.8,
          12.2,
          12.2,
          null,
          10.8,
          10.8,
          11.2,
          11.2,
          null,
          9.8,
          9.8,
          10.2,
          10.2,
          null,
          8.8,
          8.8,
          9.2,
          9.2,
          null,
          7.8,
          7.8,
          8.2,
          8.2,
          null,
          6.8,
          6.8,
          7.2,
          7.2,
          null,
          5.8,
          5.8,
          6.2,
          6.2,
          null,
          4.8,
          4.8,
          5.2,
          5.2,
          null,
          3.8,
          3.8,
          4.2,
          4.2,
          null,
          2.8,
          2.8,
          3.2,
          3.2,
          null,
          1.8,
          1.8,
          2.2,
          2.2,
          null,
          0.8,
          0.8,
          1.2,
          1.2,
          null,
          -0.2,
          -0.2,
          0.2,
          0.2
         ]
        },
        {
         "fill": "toself",
         "fillcolor": "rgb(97, 113, 122)",
         "hoverinfo": "name",
         "legendgroup": "rgb(97, 113, 122)",
         "mode": "none",
         "name": "Job13",
         "type": "scatter",
         "x": [
          "2016-01-01 6:20:13",
          "2016-01-01 6:20:48",
          "2016-01-01 6:20:48",
          "2016-01-01 6:20:13",
          "2016-01-01 6:20:13",
          "2016-01-01 6:12:14",
          "2016-01-01 6:13:10",
          "2016-01-01 6:13:10",
          "2016-01-01 6:12:14",
          "2016-01-01 6:12:14",
          "2016-01-01 6:17:50",
          "2016-01-01 6:18:20",
          "2016-01-01 6:18:20",
          "2016-01-01 6:17:50",
          "2016-01-01 6:17:50",
          "2016-01-01 6:17:33",
          "2016-01-01 6:17:50",
          "2016-01-01 6:17:50",
          "2016-01-01 6:17:33",
          "2016-01-01 6:17:33",
          "2016-01-01 6:13:10",
          "2016-01-01 6:14:13",
          "2016-01-01 6:14:13",
          "2016-01-01 6:13:10",
          "2016-01-01 6:13:10",
          "2016-01-01 6:07:16",
          "2016-01-01 6:08:31",
          "2016-01-01 6:08:31",
          "2016-01-01 6:07:16",
          "2016-01-01 6:07:16",
          "2016-01-01 6:00:28",
          "2016-01-01 6:00:49",
          "2016-01-01 6:00:49",
          "2016-01-01 6:00:28",
          "2016-01-01 6:00:28",
          "2016-01-01 6:18:36",
          "2016-01-01 6:18:43",
          "2016-01-01 6:18:43",
          "2016-01-01 6:18:36",
          "2016-01-01 6:18:36",
          "2016-01-01 6:18:20",
          "2016-01-01 6:18:36",
          "2016-01-01 6:18:36",
          "2016-01-01 6:18:20",
          "2016-01-01 6:18:20",
          "2016-01-01 6:01:14",
          "2016-01-01 6:02:05",
          "2016-01-01 6:02:05",
          "2016-01-01 6:01:14",
          "2016-01-01 6:01:14",
          "2016-01-01 6:08:31",
          "2016-01-01 6:08:48",
          "2016-01-01 6:08:48",
          "2016-01-01 6:08:31",
          "2016-01-01 6:08:31",
          "2016-01-01 6:08:48",
          "2016-01-01 6:10:17",
          "2016-01-01 6:10:17",
          "2016-01-01 6:08:48",
          "2016-01-01 6:08:48",
          "2016-01-01 6:14:13",
          "2016-01-01 6:14:31",
          "2016-01-01 6:14:31",
          "2016-01-01 6:14:13",
          "2016-01-01 6:14:13",
          "2016-01-01 6:00:00",
          "2016-01-01 6:00:28",
          "2016-01-01 6:00:28",
          "2016-01-01 6:00:00",
          "2016-01-01 6:00:00",
          "2016-01-01 6:10:17",
          "2016-01-01 6:11:16",
          "2016-01-01 6:11:16",
          "2016-01-01 6:10:17"
         ],
         "y": [
          13.8,
          13.8,
          14.2,
          14.2,
          null,
          12.8,
          12.8,
          13.2,
          13.2,
          null,
          11.8,
          11.8,
          12.2,
          12.2,
          null,
          10.8,
          10.8,
          11.2,
          11.2,
          null,
          9.8,
          9.8,
          10.2,
          10.2,
          null,
          8.8,
          8.8,
          9.2,
          9.2,
          null,
          7.8,
          7.8,
          8.2,
          8.2,
          null,
          6.8,
          6.8,
          7.2,
          7.2,
          null,
          5.8,
          5.8,
          6.2,
          6.2,
          null,
          4.8,
          4.8,
          5.2,
          5.2,
          null,
          3.8,
          3.8,
          4.2,
          4.2,
          null,
          2.8,
          2.8,
          3.2,
          3.2,
          null,
          1.8,
          1.8,
          2.2,
          2.2,
          null,
          0.8,
          0.8,
          1.2,
          1.2,
          null,
          -0.2,
          -0.2,
          0.2,
          0.2
         ]
        },
        {
         "legendgroup": "rgb(0, 252, 170)",
         "marker": {
          "color": "rgb(0, 252, 170)",
          "opacity": 0,
          "size": 1
         },
         "mode": "markers",
         "name": "",
         "showlegend": false,
         "text": [
          null,
          null,
          null,
          null,
          null,
          null,
          null,
          null,
          null,
          null,
          null,
          null,
          null,
          null,
          null,
          null,
          null,
          null,
          null,
          null,
          null,
          null,
          null,
          null,
          null,
          null,
          null,
          null,
          null,
          null
         ],
         "type": "scatter",
         "x": [
          "2016-01-01 6:03:54",
          "2016-01-01 6:05:09",
          "2016-01-01 6:18:32",
          "2016-01-01 6:19:17",
          "2016-01-01 6:07:36",
          "2016-01-01 6:07:39",
          "2016-01-01 6:27:37",
          "2016-01-01 6:28:35",
          "2016-01-01 6:05:09",
          "2016-01-01 6:05:17",
          "2016-01-01 6:12:57",
          "2016-01-01 6:14:06",
          "2016-01-01 6:00:49",
          "2016-01-01 6:01:32",
          "2016-01-01 6:00:00",
          "2016-01-01 6:00:47",
          "2016-01-01 6:26:30",
          "2016-01-01 6:27:37",
          "2016-01-01 6:28:35",
          "2016-01-01 6:30:02",
          "2016-01-01 6:09:03",
          "2016-01-01 6:09:37",
          "2016-01-01 6:06:15",
          "2016-01-01 6:07:06",
          "2016-01-01 6:07:39",
          "2016-01-01 6:09:03",
          "2016-01-01 6:09:37",
          "2016-01-01 6:10:05",
          "2016-01-01 6:11:57",
          "2016-01-01 6:12:57"
         ],
         "y": [
          14,
          14,
          13,
          13,
          12,
          12,
          11,
          11,
          10,
          10,
          9,
          9,
          8,
          8,
          7,
          7,
          6,
          6,
          5,
          5,
          4,
          4,
          3,
          3,
          2,
          2,
          1,
          1,
          0,
          0
         ]
        },
        {
         "legendgroup": "rgb(111, 71, 144)",
         "marker": {
          "color": "rgb(111, 71, 144)",
          "opacity": 0,
          "size": 1
         },
         "mode": "markers",
         "name": "",
         "showlegend": false,
         "text": [
          null,
          null,
          null,
          null,
          null,
          null,
          null,
          null,
          null,
          null,
          null,
          null,
          null,
          null,
          null,
          null,
          null,
          null,
          null,
          null,
          null,
          null,
          null,
          null,
          null,
          null,
          null,
          null,
          null,
          null
         ],
         "type": "scatter",
         "x": [
          "2016-01-01 6:07:36",
          "2016-01-01 6:09:10",
          "2016-01-01 6:24:29",
          "2016-01-01 6:26:01",
          "2016-01-01 6:06:43",
          "2016-01-01 6:07:36",
          "2016-01-01 6:20:17",
          "2016-01-01 6:20:47",
          "2016-01-01 6:22:41",
          "2016-01-01 6:23:08",
          "2016-01-01 6:09:10",
          "2016-01-01 6:10:08",
          "2016-01-01 6:16:07",
          "2016-01-01 6:17:38",
          "2016-01-01 6:02:59",
          "2016-01-01 6:03:22",
          "2016-01-01 6:31:02",
          "2016-01-01 6:31:11",
          "2016-01-01 6:13:23",
          "2016-01-01 6:14:56",
          "2016-01-01 6:01:46",
          "2016-01-01 6:02:59",
          "2016-01-01 6:03:54",
          "2016-01-01 6:04:24",
          "2016-01-01 6:14:56",
          "2016-01-01 6:15:28",
          "2016-01-01 6:21:45",
          "2016-01-01 6:22:41",
          "2016-01-01 6:03:24",
          "2016-01-01 6:03:54"
         ],
         "y": [
          14,
          14,
          13,
          13,
          12,
          12,
          11,
          11,
          10,
          10,
          9,
          9,
          8,
          8,
          7,
          7,
          6,
          6,
          5,
          5,
          4,
          4,
          3,
          3,
          2,
          2,
          1,
          1,
          0,
          0
         ]
        },
        {
         "legendgroup": "rgb(124, 166, 32)",
         "marker": {
          "color": "rgb(124, 166, 32)",
          "opacity": 0,
          "size": 1
         },
         "mode": "markers",
         "name": "",
         "showlegend": false,
         "text": [
          null,
          null,
          null,
          null,
          null,
          null,
          null,
          null,
          null,
          null,
          null,
          null,
          null,
          null,
          null,
          null,
          null,
          null,
          null,
          null,
          null,
          null,
          null,
          null,
          null,
          null,
          null,
          null,
          null,
          null
         ],
         "type": "scatter",
         "x": [
          "2016-01-01 6:11:49",
          "2016-01-01 6:13:06",
          "2016-01-01 6:16:16",
          "2016-01-01 6:17:04",
          "2016-01-01 6:05:06",
          "2016-01-01 6:06:43",
          "2016-01-01 6:17:50",
          "2016-01-01 6:19:20",
          "2016-01-01 6:19:20",
          "2016-01-01 6:20:35",
          "2016-01-01 6:14:06",
          "2016-01-01 6:14:56",
          "2016-01-01 6:29:19",
          "2016-01-01 6:30:03",
          "2016-01-01 6:06:43",
          "2016-01-01 6:07:03",
          "2016-01-01 6:07:44",
          "2016-01-01 6:08:15",
          "2016-01-01 6:14:56",
          "2016-01-01 6:16:16",
          "2016-01-01 6:02:59",
          "2016-01-01 6:04:04",
          "2016-01-01 6:08:15",
          "2016-01-01 6:08:48",
          "2016-01-01 6:23:16",
          "2016-01-01 6:24:52",
          "2016-01-01 6:04:04",
          "2016-01-01 6:05:06",
          "2016-01-01 6:11:16",
          "2016-01-01 6:11:49"
         ],
         "y": [
          14,
          14,
          13,
          13,
          12,
          12,
          11,
          11,
          10,
          10,
          9,
          9,
          8,
          8,
          7,
          7,
          6,
          6,
          5,
          5,
          4,
          4,
          3,
          3,
          2,
          2,
          1,
          1,
          0,
          0
         ]
        },
        {
         "legendgroup": "rgb(132, 248, 207)",
         "marker": {
          "color": "rgb(132, 248, 207)",
          "opacity": 0,
          "size": 1
         },
         "mode": "markers",
         "name": "",
         "showlegend": false,
         "text": [
          null,
          null,
          null,
          null,
          null,
          null,
          null,
          null,
          null,
          null,
          null,
          null,
          null,
          null,
          null,
          null,
          null,
          null,
          null,
          null,
          null,
          null,
          null,
          null,
          null,
          null,
          null,
          null,
          null,
          null
         ],
         "type": "scatter",
         "x": [
          "2016-01-01 6:20:48",
          "2016-01-01 6:21:06",
          "2016-01-01 6:26:03",
          "2016-01-01 6:27:42",
          "2016-01-01 6:19:29",
          "2016-01-01 6:20:48",
          "2016-01-01 6:15:30",
          "2016-01-01 6:15:38",
          "2016-01-01 6:25:45",
          "2016-01-01 6:26:03",
          "2016-01-01 6:06:19",
          "2016-01-01 6:07:16",
          "2016-01-01 6:03:13",
          "2016-01-01 6:04:04",
          "2016-01-01 6:27:42",
          "2016-01-01 6:28:15",
          "2016-01-01 6:21:06",
          "2016-01-01 6:21:57",
          "2016-01-01 6:00:00",
          "2016-01-01 6:01:14",
          "2016-01-01 6:01:14",
          "2016-01-01 6:01:45",
          "2016-01-01 6:17:47",
          "2016-01-01 6:19:18",
          "2016-01-01 6:01:45",
          "2016-01-01 6:03:13",
          "2016-01-01 6:07:16",
          "2016-01-01 6:08:34",
          "2016-01-01 6:17:40",
          "2016-01-01 6:17:47"
         ],
         "y": [
          14,
          14,
          13,
          13,
          12,
          12,
          11,
          11,
          10,
          10,
          9,
          9,
          8,
          8,
          7,
          7,
          6,
          6,
          5,
          5,
          4,
          4,
          3,
          3,
          2,
          2,
          1,
          1,
          0,
          0
         ]
        },
        {
         "legendgroup": "rgb(155, 244, 183)",
         "marker": {
          "color": "rgb(155, 244, 183)",
          "opacity": 0,
          "size": 1
         },
         "mode": "markers",
         "name": "",
         "showlegend": false,
         "text": [
          null,
          null,
          null,
          null,
          null,
          null,
          null,
          null,
          null,
          null,
          null,
          null,
          null,
          null,
          null,
          null,
          null,
          null,
          null,
          null,
          null,
          null,
          null,
          null,
          null,
          null,
          null,
          null,
          null,
          null
         ],
         "type": "scatter",
         "x": [
          "2016-01-01 6:22:50",
          "2016-01-01 6:23:44",
          "2016-01-01 6:02:35",
          "2016-01-01 6:02:39",
          "2016-01-01 6:27:36",
          "2016-01-01 6:27:56",
          "2016-01-01 6:13:09",
          "2016-01-01 6:14:03",
          "2016-01-01 6:05:37",
          "2016-01-01 6:07:03",
          "2016-01-01 6:15:00",
          "2016-01-01 6:15:21",
          "2016-01-01 6:30:03",
          "2016-01-01 6:31:11",
          "2016-01-01 6:23:44",
          "2016-01-01 6:24:52",
          "2016-01-01 6:29:28",
          "2016-01-01 6:30:03",
          "2016-01-01 6:27:56",
          "2016-01-01 6:28:35",
          "2016-01-01 6:15:21",
          "2016-01-01 6:15:27",
          "2016-01-01 6:11:07",
          "2016-01-01 6:11:57",
          "2016-01-01 6:24:52",
          "2016-01-01 6:26:14",
          "2016-01-01 6:02:42",
          "2016-01-01 6:04:04",
          "2016-01-01 6:04:57",
          "2016-01-01 6:05:37"
         ],
         "y": [
          14,
          14,
          13,
          13,
          12,
          12,
          11,
          11,
          10,
          10,
          9,
          9,
          8,
          8,
          7,
          7,
          6,
          6,
          5,
          5,
          4,
          4,
          3,
          3,
          2,
          2,
          1,
          1,
          0,
          0
         ]
        },
        {
         "legendgroup": "rgb(161, 104, 244)",
         "marker": {
          "color": "rgb(161, 104, 244)",
          "opacity": 0,
          "size": 1
         },
         "mode": "markers",
         "name": "",
         "showlegend": false,
         "text": [
          null,
          null,
          null,
          null,
          null,
          null,
          null,
          null,
          null,
          null,
          null,
          null,
          null,
          null,
          null,
          null,
          null,
          null,
          null,
          null,
          null,
          null,
          null,
          null,
          null,
          null,
          null,
          null,
          null,
          null
         ],
         "type": "scatter",
         "x": [
          "2016-01-01 6:05:35",
          "2016-01-01 6:05:48",
          "2016-01-01 6:05:48",
          "2016-01-01 6:07:15",
          "2016-01-01 6:00:00",
          "2016-01-01 6:01:25",
          "2016-01-01 6:01:25",
          "2016-01-01 6:01:55",
          "2016-01-01 6:16:59",
          "2016-01-01 6:18:17",
          "2016-01-01 6:26:09",
          "2016-01-01 6:27:37",
          "2016-01-01 6:04:04",
          "2016-01-01 6:05:35",
          "2016-01-01 6:07:15",
          "2016-01-01 6:08:37",
          "2016-01-01 6:27:37",
          "2016-01-01 6:27:52",
          "2016-01-01 6:18:55",
          "2016-01-01 6:19:51",
          "2016-01-01 6:11:47",
          "2016-01-01 6:13:10",
          "2016-01-01 6:02:02",
          "2016-01-01 6:03:38",
          "2016-01-01 6:23:08",
          "2016-01-01 6:23:16",
          "2016-01-01 6:19:51",
          "2016-01-01 6:21:16",
          "2016-01-01 6:25:03",
          "2016-01-01 6:26:09"
         ],
         "y": [
          14,
          14,
          13,
          13,
          12,
          12,
          11,
          11,
          10,
          10,
          9,
          9,
          8,
          8,
          7,
          7,
          6,
          6,
          5,
          5,
          4,
          4,
          3,
          3,
          2,
          2,
          1,
          1,
          0,
          0
         ]
        },
        {
         "legendgroup": "rgb(197, 215, 20)",
         "marker": {
          "color": "rgb(197, 215, 20)",
          "opacity": 0,
          "size": 1
         },
         "mode": "markers",
         "name": "",
         "showlegend": false,
         "text": [
          null,
          null,
          null,
          null,
          null,
          null,
          null,
          null,
          null,
          null,
          null,
          null,
          null,
          null,
          null,
          null,
          null,
          null,
          null,
          null,
          null,
          null,
          null,
          null,
          null,
          null,
          null,
          null,
          null,
          null
         ],
         "type": "scatter",
         "x": [
          "2016-01-01 6:24:00",
          "2016-01-01 6:25:10",
          "2016-01-01 6:27:44",
          "2016-01-01 6:29:07",
          "2016-01-01 6:07:39",
          "2016-01-01 6:08:44",
          "2016-01-01 6:14:08",
          "2016-01-01 6:15:30",
          "2016-01-01 6:01:35",
          "2016-01-01 6:02:41",
          "2016-01-01 6:17:40",
          "2016-01-01 6:19:12",
          "2016-01-01 6:15:40",
          "2016-01-01 6:16:07",
          "2016-01-01 6:06:07",
          "2016-01-01 6:06:22",
          "2016-01-01 6:05:15",
          "2016-01-01 6:05:41",
          "2016-01-01 6:04:07",
          "2016-01-01 6:04:17",
          "2016-01-01 6:22:24",
          "2016-01-01 6:24:00",
          "2016-01-01 6:00:00",
          "2016-01-01 6:01:34",
          "2016-01-01 6:04:22",
          "2016-01-01 6:05:15",
          "2016-01-01 6:15:30",
          "2016-01-01 6:15:40",
          "2016-01-01 6:16:07",
          "2016-01-01 6:17:40"
         ],
         "y": [
          14,
          14,
          13,
          13,
          12,
          12,
          11,
          11,
          10,
          10,
          9,
          9,
          8,
          8,
          7,
          7,
          6,
          6,
          5,
          5,
          4,
          4,
          3,
          3,
          2,
          2,
          1,
          1,
          0,
          0
         ]
        },
        {
         "legendgroup": "rgb(226, 133, 31)",
         "marker": {
          "color": "rgb(226, 133, 31)",
          "opacity": 0,
          "size": 1
         },
         "mode": "markers",
         "name": "",
         "showlegend": false,
         "text": [
          null,
          null,
          null,
          null,
          null,
          null,
          null,
          null,
          null,
          null,
          null,
          null,
          null,
          null,
          null,
          null,
          null,
          null,
          null,
          null,
          null,
          null,
          null,
          null,
          null,
          null,
          null,
          null,
          null,
          null
         ],
         "type": "scatter",
         "x": [
          "2016-01-01 6:05:56",
          "2016-01-01 6:06:13",
          "2016-01-01 6:19:26",
          "2016-01-01 6:20:35",
          "2016-01-01 6:16:32",
          "2016-01-01 6:17:50",
          "2016-01-01 6:01:55",
          "2016-01-01 6:02:54",
          "2016-01-01 6:20:35",
          "2016-01-01 6:21:20",
          "2016-01-01 6:11:51",
          "2016-01-01 6:12:57",
          "2016-01-01 6:21:20",
          "2016-01-01 6:22:42",
          "2016-01-01 6:03:24",
          "2016-01-01 6:04:24",
          "2016-01-01 6:15:03",
          "2016-01-01 6:16:32",
          "2016-01-01 6:22:42",
          "2016-01-01 6:22:48",
          "2016-01-01 6:24:00",
          "2016-01-01 6:24:13",
          "2016-01-01 6:01:34",
          "2016-01-01 6:01:39",
          "2016-01-01 6:17:58",
          "2016-01-01 6:19:26",
          "2016-01-01 6:05:15",
          "2016-01-01 6:05:56",
          "2016-01-01 6:02:54",
          "2016-01-01 6:03:24"
         ],
         "y": [
          14,
          14,
          13,
          13,
          12,
          12,
          11,
          11,
          10,
          10,
          9,
          9,
          8,
          8,
          7,
          7,
          6,
          6,
          5,
          5,
          4,
          4,
          3,
          3,
          2,
          2,
          1,
          1,
          0,
          0
         ]
        },
        {
         "legendgroup": "rgb(37, 169, 241)",
         "marker": {
          "color": "rgb(37, 169, 241)",
          "opacity": 0,
          "size": 1
         },
         "mode": "markers",
         "name": "",
         "showlegend": false,
         "text": [
          null,
          null,
          null,
          null,
          null,
          null,
          null,
          null,
          null,
          null,
          null,
          null,
          null,
          null,
          null,
          null,
          null,
          null,
          null,
          null,
          null,
          null,
          null,
          null,
          null,
          null,
          null,
          null,
          null,
          null
         ],
         "type": "scatter",
         "x": [
          "2016-01-01 6:26:33",
          "2016-01-01 6:27:10",
          "2016-01-01 6:09:11",
          "2016-01-01 6:09:30",
          "2016-01-01 6:26:09",
          "2016-01-01 6:26:33",
          "2016-01-01 6:15:47",
          "2016-01-01 6:16:41",
          "2016-01-01 6:00:00",
          "2016-01-01 6:00:18",
          "2016-01-01 6:27:37",
          "2016-01-01 6:29:04",
          "2016-01-01 6:05:35",
          "2016-01-01 6:07:06",
          "2016-01-01 6:25:26",
          "2016-01-01 6:26:09",
          "2016-01-01 6:01:30",
          "2016-01-01 6:02:45",
          "2016-01-01 6:22:48",
          "2016-01-01 6:24:13",
          "2016-01-01 6:24:13",
          "2016-01-01 6:25:26",
          "2016-01-01 6:07:06",
          "2016-01-01 6:08:14",
          "2016-01-01 6:04:02",
          "2016-01-01 6:04:22",
          "2016-01-01 6:05:11",
          "2016-01-01 6:05:15",
          "2016-01-01 6:29:48",
          "2016-01-01 6:30:54"
         ],
         "y": [
          14,
          14,
          13,
          13,
          12,
          12,
          11,
          11,
          10,
          10,
          9,
          9,
          8,
          8,
          7,
          7,
          6,
          6,
          5,
          5,
          4,
          4,
          3,
          3,
          2,
          2,
          1,
          1,
          0,
          0
         ]
        },
        {
         "legendgroup": "rgb(51, 181, 222)",
         "marker": {
          "color": "rgb(51, 181, 222)",
          "opacity": 0,
          "size": 1
         },
         "mode": "markers",
         "name": "",
         "showlegend": false,
         "text": [
          null,
          null,
          null,
          null,
          null,
          null,
          null,
          null,
          null,
          null,
          null,
          null,
          null,
          null,
          null,
          null,
          null,
          null,
          null,
          null,
          null,
          null,
          null,
          null,
          null,
          null,
          null,
          null,
          null,
          null
         ],
         "type": "scatter",
         "x": [
          "2016-01-01 6:06:41",
          "2016-01-01 6:06:50",
          "2016-01-01 6:17:04",
          "2016-01-01 6:18:06",
          "2016-01-01 6:31:04",
          "2016-01-01 6:31:11",
          "2016-01-01 6:02:54",
          "2016-01-01 6:03:26",
          "2016-01-01 6:09:07",
          "2016-01-01 6:10:08",
          "2016-01-01 6:10:08",
          "2016-01-01 6:10:43",
          "2016-01-01 6:13:29",
          "2016-01-01 6:15:08",
          "2016-01-01 6:18:43",
          "2016-01-01 6:18:49",
          "2016-01-01 6:21:57",
          "2016-01-01 6:23:17",
          "2016-01-01 6:21:50",
          "2016-01-01 6:21:57",
          "2016-01-01 6:05:24",
          "2016-01-01 6:06:16",
          "2016-01-01 6:28:40",
          "2016-01-01 6:29:37",
          "2016-01-01 6:06:50",
          "2016-01-01 6:07:39",
          "2016-01-01 6:18:49",
          "2016-01-01 6:19:51",
          "2016-01-01 6:28:37",
          "2016-01-01 6:28:40"
         ],
         "y": [
          14,
          14,
          13,
          13,
          12,
          12,
          11,
          11,
          10,
          10,
          9,
          9,
          8,
          8,
          7,
          7,
          6,
          6,
          5,
          5,
          4,
          4,
          3,
          3,
          2,
          2,
          1,
          1,
          0,
          0
         ]
        },
        {
         "legendgroup": "rgb(7, 47, 204)",
         "marker": {
          "color": "rgb(7, 47, 204)",
          "opacity": 0,
          "size": 1
         },
         "mode": "markers",
         "name": "",
         "showlegend": false,
         "text": [
          null,
          null,
          null,
          null,
          null,
          null,
          null,
          null,
          null,
          null,
          null,
          null,
          null,
          null,
          null,
          null,
          null,
          null,
          null,
          null,
          null,
          null,
          null,
          null,
          null,
          null,
          null,
          null,
          null,
          null
         ],
         "type": "scatter",
         "x": [
          "2016-01-01 6:05:48",
          "2016-01-01 6:05:56",
          "2016-01-01 6:22:36",
          "2016-01-01 6:24:09",
          "2016-01-01 6:16:04",
          "2016-01-01 6:16:32",
          "2016-01-01 6:24:09",
          "2016-01-01 6:24:15",
          "2016-01-01 6:07:47",
          "2016-01-01 6:09:07",
          "2016-01-01 6:04:02",
          "2016-01-01 6:04:03",
          "2016-01-01 6:15:08",
          "2016-01-01 6:15:40",
          "2016-01-01 6:29:58",
          "2016-01-01 6:31:11",
          "2016-01-01 6:19:36",
          "2016-01-01 6:21:06",
          "2016-01-01 6:02:05",
          "2016-01-01 6:03:35",
          "2016-01-01 6:06:16",
          "2016-01-01 6:07:47",
          "2016-01-01 6:12:50",
          "2016-01-01 6:14:19",
          "2016-01-01 6:03:35",
          "2016-01-01 6:04:02",
          "2016-01-01 6:14:19",
          "2016-01-01 6:15:08",
          "2016-01-01 6:28:02",
          "2016-01-01 6:28:37"
         ],
         "y": [
          14,
          14,
          13,
          13,
          12,
          12,
          11,
          11,
          10,
          10,
          9,
          9,
          8,
          8,
          7,
          7,
          6,
          6,
          5,
          5,
          4,
          4,
          3,
          3,
          2,
          2,
          1,
          1,
          0,
          0
         ]
        },
        {
         "legendgroup": "rgb(71, 48, 128)",
         "marker": {
          "color": "rgb(71, 48, 128)",
          "opacity": 0,
          "size": 1
         },
         "mode": "markers",
         "name": "",
         "showlegend": false,
         "text": [
          null,
          null,
          null,
          null,
          null,
          null,
          null,
          null,
          null,
          null,
          null,
          null,
          null,
          null,
          null,
          null,
          null,
          null,
          null,
          null,
          null,
          null,
          null,
          null,
          null,
          null,
          null,
          null,
          null,
          null
         ],
         "type": "scatter",
         "x": [
          "2016-01-01 6:27:10",
          "2016-01-01 6:27:52",
          "2016-01-01 6:14:26",
          "2016-01-01 6:15:59",
          "2016-01-01 6:04:06",
          "2016-01-01 6:05:06",
          "2016-01-01 6:16:41",
          "2016-01-01 6:17:33",
          "2016-01-01 6:11:51",
          "2016-01-01 6:13:10",
          "2016-01-01 6:15:59",
          "2016-01-01 6:16:41",
          "2016-01-01 6:10:12",
          "2016-01-01 6:11:51",
          "2016-01-01 6:08:37",
          "2016-01-01 6:10:12",
          "2016-01-01 6:27:52",
          "2016-01-01 6:29:28",
          "2016-01-01 6:07:32",
          "2016-01-01 6:08:08",
          "2016-01-01 6:13:10",
          "2016-01-01 6:14:26",
          "2016-01-01 6:01:41",
          "2016-01-01 6:02:02",
          "2016-01-01 6:00:00",
          "2016-01-01 6:01:18",
          "2016-01-01 6:01:18",
          "2016-01-01 6:01:41",
          "2016-01-01 6:08:08",
          "2016-01-01 6:08:37"
         ],
         "y": [
          14,
          14,
          13,
          13,
          12,
          12,
          11,
          11,
          10,
          10,
          9,
          9,
          8,
          8,
          7,
          7,
          6,
          6,
          5,
          5,
          4,
          4,
          3,
          3,
          2,
          2,
          1,
          1,
          0,
          0
         ]
        },
        {
         "legendgroup": "rgb(72, 229, 46)",
         "marker": {
          "color": "rgb(72, 229, 46)",
          "opacity": 0,
          "size": 1
         },
         "mode": "markers",
         "name": "",
         "showlegend": false,
         "text": [
          null,
          null,
          null,
          null,
          null,
          null,
          null,
          null,
          null,
          null,
          null,
          null,
          null,
          null,
          null,
          null,
          null,
          null,
          null,
          null,
          null,
          null,
          null,
          null,
          null,
          null,
          null,
          null,
          null,
          null
         ],
         "type": "scatter",
         "x": [
          "2016-01-01 6:14:23",
          "2016-01-01 6:14:31",
          "2016-01-01 6:08:45",
          "2016-01-01 6:09:11",
          "2016-01-01 6:01:25",
          "2016-01-01 6:02:22",
          "2016-01-01 6:14:03",
          "2016-01-01 6:14:08",
          "2016-01-01 6:02:41",
          "2016-01-01 6:03:23",
          "2016-01-01 6:10:43",
          "2016-01-01 6:11:51",
          "2016-01-01 6:11:51",
          "2016-01-01 6:13:04",
          "2016-01-01 6:26:19",
          "2016-01-01 6:27:42",
          "2016-01-01 6:23:17",
          "2016-01-01 6:24:44",
          "2016-01-01 6:08:08",
          "2016-01-01 6:08:45",
          "2016-01-01 6:29:34",
          "2016-01-01 6:31:11",
          "2016-01-01 6:04:24",
          "2016-01-01 6:04:58",
          "2016-01-01 6:14:31",
          "2016-01-01 6:14:43",
          "2016-01-01 6:02:22",
          "2016-01-01 6:02:38",
          "2016-01-01 6:27:42",
          "2016-01-01 6:28:02"
         ],
         "y": [
          14,
          14,
          13,
          13,
          12,
          12,
          11,
          11,
          10,
          10,
          9,
          9,
          8,
          8,
          7,
          7,
          6,
          6,
          5,
          5,
          4,
          4,
          3,
          3,
          2,
          2,
          1,
          1,
          0,
          0
         ]
        },
        {
         "legendgroup": "rgb(75, 158, 50)",
         "marker": {
          "color": "rgb(75, 158, 50)",
          "opacity": 0,
          "size": 1
         },
         "mode": "markers",
         "name": "",
         "showlegend": false,
         "text": [
          null,
          null,
          null,
          null,
          null,
          null,
          null,
          null,
          null,
          null,
          null,
          null,
          null,
          null,
          null,
          null,
          null,
          null,
          null,
          null,
          null,
          null,
          null,
          null,
          null,
          null,
          null,
          null,
          null,
          null
         ],
         "type": "scatter",
         "x": [
          "2016-01-01 6:21:23",
          "2016-01-01 6:22:50",
          "2016-01-01 6:18:06",
          "2016-01-01 6:18:32",
          "2016-01-01 6:18:32",
          "2016-01-01 6:19:22",
          "2016-01-01 6:06:19",
          "2016-01-01 6:06:35",
          "2016-01-01 6:03:41",
          "2016-01-01 6:05:09",
          "2016-01-01 6:05:09",
          "2016-01-01 6:06:19",
          "2016-01-01 6:09:07",
          "2016-01-01 6:10:12",
          "2016-01-01 6:14:58",
          "2016-01-01 6:16:16",
          "2016-01-01 6:00:29",
          "2016-01-01 6:01:30",
          "2016-01-01 6:06:35",
          "2016-01-01 6:07:06",
          "2016-01-01 6:00:00",
          "2016-01-01 6:00:29",
          "2016-01-01 6:30:27",
          "2016-01-01 6:30:41",
          "2016-01-01 6:12:50",
          "2016-01-01 6:14:13",
          "2016-01-01 6:30:41",
          "2016-01-01 6:31:11",
          "2016-01-01 6:28:40",
          "2016-01-01 6:29:42"
         ],
         "y": [
          14,
          14,
          13,
          13,
          12,
          12,
          11,
          11,
          10,
          10,
          9,
          9,
          8,
          8,
          7,
          7,
          6,
          6,
          5,
          5,
          4,
          4,
          3,
          3,
          2,
          2,
          1,
          1,
          0,
          0
         ]
        },
        {
         "legendgroup": "rgb(97, 113, 122)",
         "marker": {
          "color": "rgb(97, 113, 122)",
          "opacity": 0,
          "size": 1
         },
         "mode": "markers",
         "name": "",
         "showlegend": false,
         "text": [
          null,
          null,
          null,
          null,
          null,
          null,
          null,
          null,
          null,
          null,
          null,
          null,
          null,
          null,
          null,
          null,
          null,
          null,
          null,
          null,
          null,
          null,
          null,
          null,
          null,
          null,
          null,
          null,
          null,
          null
         ],
         "type": "scatter",
         "x": [
          "2016-01-01 6:20:13",
          "2016-01-01 6:20:48",
          "2016-01-01 6:12:14",
          "2016-01-01 6:13:10",
          "2016-01-01 6:17:50",
          "2016-01-01 6:18:20",
          "2016-01-01 6:17:33",
          "2016-01-01 6:17:50",
          "2016-01-01 6:13:10",
          "2016-01-01 6:14:13",
          "2016-01-01 6:07:16",
          "2016-01-01 6:08:31",
          "2016-01-01 6:00:28",
          "2016-01-01 6:00:49",
          "2016-01-01 6:18:36",
          "2016-01-01 6:18:43",
          "2016-01-01 6:18:20",
          "2016-01-01 6:18:36",
          "2016-01-01 6:01:14",
          "2016-01-01 6:02:05",
          "2016-01-01 6:08:31",
          "2016-01-01 6:08:48",
          "2016-01-01 6:08:48",
          "2016-01-01 6:10:17",
          "2016-01-01 6:14:13",
          "2016-01-01 6:14:31",
          "2016-01-01 6:00:00",
          "2016-01-01 6:00:28",
          "2016-01-01 6:10:17",
          "2016-01-01 6:11:16"
         ],
         "y": [
          14,
          14,
          13,
          13,
          12,
          12,
          11,
          11,
          10,
          10,
          9,
          9,
          8,
          8,
          7,
          7,
          6,
          6,
          5,
          5,
          4,
          4,
          3,
          3,
          2,
          2,
          1,
          1,
          0,
          0
         ]
        }
       ],
       "layout": {
        "height": 600,
        "hovermode": "closest",
        "showlegend": false,
        "template": {
         "data": {
          "bar": [
           {
            "error_x": {
             "color": "#2a3f5f"
            },
            "error_y": {
             "color": "#2a3f5f"
            },
            "marker": {
             "line": {
              "color": "#E5ECF6",
              "width": 0.5
             },
             "pattern": {
              "fillmode": "overlay",
              "size": 10,
              "solidity": 0.2
             }
            },
            "type": "bar"
           }
          ],
          "barpolar": [
           {
            "marker": {
             "line": {
              "color": "#E5ECF6",
              "width": 0.5
             },
             "pattern": {
              "fillmode": "overlay",
              "size": 10,
              "solidity": 0.2
             }
            },
            "type": "barpolar"
           }
          ],
          "carpet": [
           {
            "aaxis": {
             "endlinecolor": "#2a3f5f",
             "gridcolor": "white",
             "linecolor": "white",
             "minorgridcolor": "white",
             "startlinecolor": "#2a3f5f"
            },
            "baxis": {
             "endlinecolor": "#2a3f5f",
             "gridcolor": "white",
             "linecolor": "white",
             "minorgridcolor": "white",
             "startlinecolor": "#2a3f5f"
            },
            "type": "carpet"
           }
          ],
          "choropleth": [
           {
            "colorbar": {
             "outlinewidth": 0,
             "ticks": ""
            },
            "type": "choropleth"
           }
          ],
          "contour": [
           {
            "colorbar": {
             "outlinewidth": 0,
             "ticks": ""
            },
            "colorscale": [
             [
              0,
              "#0d0887"
             ],
             [
              0.1111111111111111,
              "#46039f"
             ],
             [
              0.2222222222222222,
              "#7201a8"
             ],
             [
              0.3333333333333333,
              "#9c179e"
             ],
             [
              0.4444444444444444,
              "#bd3786"
             ],
             [
              0.5555555555555556,
              "#d8576b"
             ],
             [
              0.6666666666666666,
              "#ed7953"
             ],
             [
              0.7777777777777778,
              "#fb9f3a"
             ],
             [
              0.8888888888888888,
              "#fdca26"
             ],
             [
              1,
              "#f0f921"
             ]
            ],
            "type": "contour"
           }
          ],
          "contourcarpet": [
           {
            "colorbar": {
             "outlinewidth": 0,
             "ticks": ""
            },
            "type": "contourcarpet"
           }
          ],
          "heatmap": [
           {
            "colorbar": {
             "outlinewidth": 0,
             "ticks": ""
            },
            "colorscale": [
             [
              0,
              "#0d0887"
             ],
             [
              0.1111111111111111,
              "#46039f"
             ],
             [
              0.2222222222222222,
              "#7201a8"
             ],
             [
              0.3333333333333333,
              "#9c179e"
             ],
             [
              0.4444444444444444,
              "#bd3786"
             ],
             [
              0.5555555555555556,
              "#d8576b"
             ],
             [
              0.6666666666666666,
              "#ed7953"
             ],
             [
              0.7777777777777778,
              "#fb9f3a"
             ],
             [
              0.8888888888888888,
              "#fdca26"
             ],
             [
              1,
              "#f0f921"
             ]
            ],
            "type": "heatmap"
           }
          ],
          "heatmapgl": [
           {
            "colorbar": {
             "outlinewidth": 0,
             "ticks": ""
            },
            "colorscale": [
             [
              0,
              "#0d0887"
             ],
             [
              0.1111111111111111,
              "#46039f"
             ],
             [
              0.2222222222222222,
              "#7201a8"
             ],
             [
              0.3333333333333333,
              "#9c179e"
             ],
             [
              0.4444444444444444,
              "#bd3786"
             ],
             [
              0.5555555555555556,
              "#d8576b"
             ],
             [
              0.6666666666666666,
              "#ed7953"
             ],
             [
              0.7777777777777778,
              "#fb9f3a"
             ],
             [
              0.8888888888888888,
              "#fdca26"
             ],
             [
              1,
              "#f0f921"
             ]
            ],
            "type": "heatmapgl"
           }
          ],
          "histogram": [
           {
            "marker": {
             "pattern": {
              "fillmode": "overlay",
              "size": 10,
              "solidity": 0.2
             }
            },
            "type": "histogram"
           }
          ],
          "histogram2d": [
           {
            "colorbar": {
             "outlinewidth": 0,
             "ticks": ""
            },
            "colorscale": [
             [
              0,
              "#0d0887"
             ],
             [
              0.1111111111111111,
              "#46039f"
             ],
             [
              0.2222222222222222,
              "#7201a8"
             ],
             [
              0.3333333333333333,
              "#9c179e"
             ],
             [
              0.4444444444444444,
              "#bd3786"
             ],
             [
              0.5555555555555556,
              "#d8576b"
             ],
             [
              0.6666666666666666,
              "#ed7953"
             ],
             [
              0.7777777777777778,
              "#fb9f3a"
             ],
             [
              0.8888888888888888,
              "#fdca26"
             ],
             [
              1,
              "#f0f921"
             ]
            ],
            "type": "histogram2d"
           }
          ],
          "histogram2dcontour": [
           {
            "colorbar": {
             "outlinewidth": 0,
             "ticks": ""
            },
            "colorscale": [
             [
              0,
              "#0d0887"
             ],
             [
              0.1111111111111111,
              "#46039f"
             ],
             [
              0.2222222222222222,
              "#7201a8"
             ],
             [
              0.3333333333333333,
              "#9c179e"
             ],
             [
              0.4444444444444444,
              "#bd3786"
             ],
             [
              0.5555555555555556,
              "#d8576b"
             ],
             [
              0.6666666666666666,
              "#ed7953"
             ],
             [
              0.7777777777777778,
              "#fb9f3a"
             ],
             [
              0.8888888888888888,
              "#fdca26"
             ],
             [
              1,
              "#f0f921"
             ]
            ],
            "type": "histogram2dcontour"
           }
          ],
          "mesh3d": [
           {
            "colorbar": {
             "outlinewidth": 0,
             "ticks": ""
            },
            "type": "mesh3d"
           }
          ],
          "parcoords": [
           {
            "line": {
             "colorbar": {
              "outlinewidth": 0,
              "ticks": ""
             }
            },
            "type": "parcoords"
           }
          ],
          "pie": [
           {
            "automargin": true,
            "type": "pie"
           }
          ],
          "scatter": [
           {
            "fillpattern": {
             "fillmode": "overlay",
             "size": 10,
             "solidity": 0.2
            },
            "type": "scatter"
           }
          ],
          "scatter3d": [
           {
            "line": {
             "colorbar": {
              "outlinewidth": 0,
              "ticks": ""
             }
            },
            "marker": {
             "colorbar": {
              "outlinewidth": 0,
              "ticks": ""
             }
            },
            "type": "scatter3d"
           }
          ],
          "scattercarpet": [
           {
            "marker": {
             "colorbar": {
              "outlinewidth": 0,
              "ticks": ""
             }
            },
            "type": "scattercarpet"
           }
          ],
          "scattergeo": [
           {
            "marker": {
             "colorbar": {
              "outlinewidth": 0,
              "ticks": ""
             }
            },
            "type": "scattergeo"
           }
          ],
          "scattergl": [
           {
            "marker": {
             "colorbar": {
              "outlinewidth": 0,
              "ticks": ""
             }
            },
            "type": "scattergl"
           }
          ],
          "scattermapbox": [
           {
            "marker": {
             "colorbar": {
              "outlinewidth": 0,
              "ticks": ""
             }
            },
            "type": "scattermapbox"
           }
          ],
          "scatterpolar": [
           {
            "marker": {
             "colorbar": {
              "outlinewidth": 0,
              "ticks": ""
             }
            },
            "type": "scatterpolar"
           }
          ],
          "scatterpolargl": [
           {
            "marker": {
             "colorbar": {
              "outlinewidth": 0,
              "ticks": ""
             }
            },
            "type": "scatterpolargl"
           }
          ],
          "scatterternary": [
           {
            "marker": {
             "colorbar": {
              "outlinewidth": 0,
              "ticks": ""
             }
            },
            "type": "scatterternary"
           }
          ],
          "surface": [
           {
            "colorbar": {
             "outlinewidth": 0,
             "ticks": ""
            },
            "colorscale": [
             [
              0,
              "#0d0887"
             ],
             [
              0.1111111111111111,
              "#46039f"
             ],
             [
              0.2222222222222222,
              "#7201a8"
             ],
             [
              0.3333333333333333,
              "#9c179e"
             ],
             [
              0.4444444444444444,
              "#bd3786"
             ],
             [
              0.5555555555555556,
              "#d8576b"
             ],
             [
              0.6666666666666666,
              "#ed7953"
             ],
             [
              0.7777777777777778,
              "#fb9f3a"
             ],
             [
              0.8888888888888888,
              "#fdca26"
             ],
             [
              1,
              "#f0f921"
             ]
            ],
            "type": "surface"
           }
          ],
          "table": [
           {
            "cells": {
             "fill": {
              "color": "#EBF0F8"
             },
             "line": {
              "color": "white"
             }
            },
            "header": {
             "fill": {
              "color": "#C8D4E3"
             },
             "line": {
              "color": "white"
             }
            },
            "type": "table"
           }
          ]
         },
         "layout": {
          "annotationdefaults": {
           "arrowcolor": "#2a3f5f",
           "arrowhead": 0,
           "arrowwidth": 1
          },
          "autotypenumbers": "strict",
          "coloraxis": {
           "colorbar": {
            "outlinewidth": 0,
            "ticks": ""
           }
          },
          "colorscale": {
           "diverging": [
            [
             0,
             "#8e0152"
            ],
            [
             0.1,
             "#c51b7d"
            ],
            [
             0.2,
             "#de77ae"
            ],
            [
             0.3,
             "#f1b6da"
            ],
            [
             0.4,
             "#fde0ef"
            ],
            [
             0.5,
             "#f7f7f7"
            ],
            [
             0.6,
             "#e6f5d0"
            ],
            [
             0.7,
             "#b8e186"
            ],
            [
             0.8,
             "#7fbc41"
            ],
            [
             0.9,
             "#4d9221"
            ],
            [
             1,
             "#276419"
            ]
           ],
           "sequential": [
            [
             0,
             "#0d0887"
            ],
            [
             0.1111111111111111,
             "#46039f"
            ],
            [
             0.2222222222222222,
             "#7201a8"
            ],
            [
             0.3333333333333333,
             "#9c179e"
            ],
            [
             0.4444444444444444,
             "#bd3786"
            ],
            [
             0.5555555555555556,
             "#d8576b"
            ],
            [
             0.6666666666666666,
             "#ed7953"
            ],
            [
             0.7777777777777778,
             "#fb9f3a"
            ],
            [
             0.8888888888888888,
             "#fdca26"
            ],
            [
             1,
             "#f0f921"
            ]
           ],
           "sequentialminus": [
            [
             0,
             "#0d0887"
            ],
            [
             0.1111111111111111,
             "#46039f"
            ],
            [
             0.2222222222222222,
             "#7201a8"
            ],
            [
             0.3333333333333333,
             "#9c179e"
            ],
            [
             0.4444444444444444,
             "#bd3786"
            ],
            [
             0.5555555555555556,
             "#d8576b"
            ],
            [
             0.6666666666666666,
             "#ed7953"
            ],
            [
             0.7777777777777778,
             "#fb9f3a"
            ],
            [
             0.8888888888888888,
             "#fdca26"
            ],
            [
             1,
             "#f0f921"
            ]
           ]
          },
          "colorway": [
           "#636efa",
           "#EF553B",
           "#00cc96",
           "#ab63fa",
           "#FFA15A",
           "#19d3f3",
           "#FF6692",
           "#B6E880",
           "#FF97FF",
           "#FECB52"
          ],
          "font": {
           "color": "#2a3f5f"
          },
          "geo": {
           "bgcolor": "white",
           "lakecolor": "white",
           "landcolor": "#E5ECF6",
           "showlakes": true,
           "showland": true,
           "subunitcolor": "white"
          },
          "hoverlabel": {
           "align": "left"
          },
          "hovermode": "closest",
          "mapbox": {
           "style": "light"
          },
          "paper_bgcolor": "white",
          "plot_bgcolor": "#E5ECF6",
          "polar": {
           "angularaxis": {
            "gridcolor": "white",
            "linecolor": "white",
            "ticks": ""
           },
           "bgcolor": "#E5ECF6",
           "radialaxis": {
            "gridcolor": "white",
            "linecolor": "white",
            "ticks": ""
           }
          },
          "scene": {
           "xaxis": {
            "backgroundcolor": "#E5ECF6",
            "gridcolor": "white",
            "gridwidth": 2,
            "linecolor": "white",
            "showbackground": true,
            "ticks": "",
            "zerolinecolor": "white"
           },
           "yaxis": {
            "backgroundcolor": "#E5ECF6",
            "gridcolor": "white",
            "gridwidth": 2,
            "linecolor": "white",
            "showbackground": true,
            "ticks": "",
            "zerolinecolor": "white"
           },
           "zaxis": {
            "backgroundcolor": "#E5ECF6",
            "gridcolor": "white",
            "gridwidth": 2,
            "linecolor": "white",
            "showbackground": true,
            "ticks": "",
            "zerolinecolor": "white"
           }
          },
          "shapedefaults": {
           "line": {
            "color": "#2a3f5f"
           }
          },
          "ternary": {
           "aaxis": {
            "gridcolor": "white",
            "linecolor": "white",
            "ticks": ""
           },
           "baxis": {
            "gridcolor": "white",
            "linecolor": "white",
            "ticks": ""
           },
           "bgcolor": "#E5ECF6",
           "caxis": {
            "gridcolor": "white",
            "linecolor": "white",
            "ticks": ""
           }
          },
          "title": {
           "x": 0.05
          },
          "xaxis": {
           "automargin": true,
           "gridcolor": "white",
           "linecolor": "white",
           "ticks": "",
           "title": {
            "standoff": 15
           },
           "zerolinecolor": "white",
           "zerolinewidth": 2
          },
          "yaxis": {
           "automargin": true,
           "gridcolor": "white",
           "linecolor": "white",
           "ticks": "",
           "title": {
            "standoff": 15
           },
           "zerolinecolor": "white",
           "zerolinewidth": 2
          }
         }
        },
        "title": {
         "text": "MIPModel"
        },
        "xaxis": {
         "rangeselector": {
          "buttons": [
           {
            "count": 7,
            "label": "1w",
            "step": "day",
            "stepmode": "backward"
           },
           {
            "count": 1,
            "label": "1m",
            "step": "month",
            "stepmode": "backward"
           },
           {
            "count": 6,
            "label": "6m",
            "step": "month",
            "stepmode": "backward"
           },
           {
            "count": 1,
            "label": "YTD",
            "step": "year",
            "stepmode": "todate"
           },
           {
            "count": 1,
            "label": "1y",
            "step": "year",
            "stepmode": "backward"
           },
           {
            "step": "all"
           }
          ]
         },
         "showgrid": true,
         "type": "date",
         "zeroline": false
        },
        "yaxis": {
         "autorange": false,
         "range": [
          -1,
          16
         ],
         "showgrid": true,
         "ticktext": [
          "Resource9",
          "Resource8",
          "Resource7",
          "Resource6",
          "Resource5",
          "Resource4",
          "Resource3",
          "Resource2",
          "Resource14",
          "Resource13",
          "Resource12",
          "Resource11",
          "Resource10",
          "Resource1",
          "Resource0"
         ],
         "tickvals": [
          0,
          1,
          2,
          3,
          4,
          5,
          6,
          7,
          8,
          9,
          10,
          11,
          12,
          13,
          14
         ],
         "zeroline": false
        }
       }
      }
     },
     "metadata": {},
     "output_type": "display_data"
    },
    {
     "name": "stdout",
     "output_type": "stream",
     "text": [
      "Mixed Integer Programming (MIP) model summary:\n",
      "4950 constraints\n",
      "3376 variables\n",
      "60034 ms\n",
      "1871.0\n"
     ]
    }
   ],
   "source": [
    "durations, machines = get_data()\n",
    "mip = MIPModel(durations, machines)\n",
    "result = mip.solve(60,display=True)\n",
    "mip.summary()\n",
    "print(result)"
   ]
  }
 ],
 "metadata": {
  "kernelspec": {
   "display_name": ".venv",
   "language": "python",
   "name": "python3"
  },
  "language_info": {
   "codemirror_mode": {
    "name": "ipython",
    "version": 3
   },
   "file_extension": ".py",
   "mimetype": "text/x-python",
   "name": "python",
   "nbconvert_exporter": "python",
   "pygments_lexer": "ipython3",
   "version": "3.12.0"
  }
 },
 "nbformat": 4,
 "nbformat_minor": 2
}
